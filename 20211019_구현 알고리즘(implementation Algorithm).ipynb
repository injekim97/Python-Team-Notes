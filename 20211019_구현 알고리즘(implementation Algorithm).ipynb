{
 "cells": [
  {
   "cell_type": "markdown",
   "id": "c4a21648",
   "metadata": {},
   "source": [
    "## <문제> 시각\n",
    "#### 정수 N이 입력되면 00시 00분 00초부터 N시 59분 59초까지의 모든 시각 중에서 3이 하나라도 포함되는 모든 경우의 수를 구하는 프로그램을 작성해라. 예를 들어 1을 입력했을 때 다음은 3이 하나라도 포함되어 있으므로 세어야 하는 시각입니다.\n",
    "\n",
    "* 00시 00분 03초\n",
    "* 00시 13분 30초\n",
    "\n",
    "* 반면에 다음은 3이 하나도 포함되어 있지 않으므로 세면 안되는 시각입니다.\n",
    "* 00시 02분 55초\n",
    "* 01시 27분 45초"
   ]
  },
  {
   "cell_type": "code",
   "execution_count": 3,
   "id": "97f3bf4f",
   "metadata": {},
   "outputs": [
    {
     "name": "stdout",
     "output_type": "stream",
     "text": [
      "5\n",
      "11475\n"
     ]
    }
   ],
   "source": [
    "# 해결아이디어\n",
    "# 24H * 60M * 60S = 86,400\n",
    "# 즉, 3중 for 문을 이용해서 1씩 증가하여 86400에 까지 가면서 3이 있는지 확인 하면 된다.\n",
    "\n",
    "\n",
    "\n",
    "hour = int(input())\n",
    "cnt = 0\n",
    "\n",
    "\n",
    "# 3중 for문 코드 돌아가는 순서는 i = 0, j = 0 k = 0~59 돈 후에, i = 0 j =1 , k = 0~59 순서\n",
    "for i in range(hour+1):\n",
    "    for j in range(60):\n",
    "        for k in range(60):\n",
    "                    \n",
    "            if '3' in str(i) + str(j) + str(k):\n",
    "                cnt += 1\n",
    "                \n",
    "print(cnt)"
   ]
  }
 ],
 "metadata": {
  "kernelspec": {
   "display_name": "Python 3",
   "language": "python",
   "name": "python3"
  },
  "language_info": {
   "codemirror_mode": {
    "name": "ipython",
    "version": 3
   },
   "file_extension": ".py",
   "mimetype": "text/x-python",
   "name": "python",
   "nbconvert_exporter": "python",
   "pygments_lexer": "ipython3",
   "version": "3.8.8"
  }
 },
 "nbformat": 4,
 "nbformat_minor": 5
}
