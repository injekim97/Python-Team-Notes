{
 "cells": [
  {
   "cell_type": "markdown",
   "id": "a6475659",
   "metadata": {},
   "source": [
    "#### 소수 만들기\n",
    "* 주어진 숫자 중 3개의 수를 더했을 때 소수가 되는 경우의 개수\n",
    "\n",
    "\n",
    "\n",
    "* yield : stack 처럼 쌓이는 것, return 전에 대기 하는 개념"
   ]
  },
  {
   "cell_type": "code",
   "execution_count": 1,
   "id": "f79d6c54",
   "metadata": {},
   "outputs": [],
   "source": [
    "# My Solution\n",
    "import math\n",
    "\n",
    "def comb(n_list, r):\n",
    "    for i, num in enumerate(n_list):\n",
    "        \n",
    "        # nC1 이라면 ~\n",
    "        if r == 1:\n",
    "            yield [num]\n",
    " \n",
    "        # nC2 이상 이라면~~\n",
    "        else:\n",
    "            for next in comb(n_list[i+1:], r-1):\n",
    "                yield [num] + next   #  ★ [1] + [2] , [1] + [3] 이런식으로 리스트로 저장 ★\n",
    "                \n",
    "                \n",
    "                \n",
    "def solution(nums):\n",
    "    ans = 0\n",
    "    for c in comb(nums, 3):\n",
    "        \n",
    "        # 2 부터 ~ 제곱근(math.sqrt) + 1 \n",
    "        for i in range(2, int(math.sqrt(sum(c)))+1):\n",
    "            \n",
    "            # 0으로 나눠지지 않아야 소수\n",
    "            if sum(c) % i != 0:\n",
    "                ans += 1\n",
    "    return ans"
   ]
  },
  {
   "cell_type": "code",
   "execution_count": 2,
   "id": "09d83e22",
   "metadata": {},
   "outputs": [],
   "source": [
    "from itertools import combinations\n",
    "\n",
    "def prime_number(x):\n",
    "    answer = 0\n",
    "    for i in range(1,int(x**0.5)+1):\n",
    "        if x%i==0:\n",
    "            answer+=1\n",
    "    return 1 if answer==1 else 0\n",
    "\n",
    "def solution(nums):\n",
    "    return sum([prime_number(sum(c)) for c in combinations(nums,3)])"
   ]
  },
  {
   "cell_type": "markdown",
   "id": "e9742a16",
   "metadata": {},
   "source": [
    "#### 완주하지 못한 선수"
   ]
  },
  {
   "cell_type": "code",
   "execution_count": 3,
   "id": "acc861e9",
   "metadata": {},
   "outputs": [],
   "source": [
    "# My Solution\n",
    "def solution(participant, completion):\n",
    "    participant.sort()\n",
    "    completion.sort()\n",
    "    \n",
    "    # 항상 participant list가 1이 많기 떄문에 하나 뺌\n",
    "    for i in range(len(participant)-1):\n",
    "        if participant[i] != completion[i]:\n",
    "            return participant[i]\n",
    "        \n",
    "    return participant[-1]       "
   ]
  },
  {
   "cell_type": "code",
   "execution_count": 4,
   "id": "e654d9ec",
   "metadata": {},
   "outputs": [],
   "source": [
    "# Example\n",
    "def solution(participant, completion):\n",
    "    answer = ''\n",
    "    temp = 0\n",
    "    dic = {}\n",
    "    for part in participant:\n",
    "        dic[hash(part)] = part\n",
    "        temp += int(hash(part))\n",
    "    for com in completion:\n",
    "        temp -= hash(com)\n",
    "    answer = dic[temp]\n",
    "\n",
    "    return answer"
   ]
  }
 ],
 "metadata": {
  "kernelspec": {
   "display_name": "Python 3",
   "language": "python",
   "name": "python3"
  },
  "language_info": {
   "codemirror_mode": {
    "name": "ipython",
    "version": 3
   },
   "file_extension": ".py",
   "mimetype": "text/x-python",
   "name": "python",
   "nbconvert_exporter": "python",
   "pygments_lexer": "ipython3",
   "version": "3.8.8"
  }
 },
 "nbformat": 4,
 "nbformat_minor": 5
}
