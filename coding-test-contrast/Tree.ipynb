{
 "cells": [
  {
   "cell_type": "markdown",
   "id": "668911ad",
   "metadata": {},
   "source": [
    "# Tree 문제 접근 방법\n",
    "* preorder \n",
    "root -> left -> right \n",
    "\n",
    "* inorder\n",
    "left -> root -> right \n",
    "\n",
    "* postorder\n",
    "left -> right -> root\n",
    "\n",
    " \n",
    "* root가 '.'이 아닐 때만 수행"
   ]
  },
  {
   "cell_type": "code",
   "execution_count": 1,
   "id": "f0ee4b02",
   "metadata": {},
   "outputs": [
    {
     "name": "stdout",
     "output_type": "stream",
     "text": [
      "7 \n",
      "A B C\n",
      "B D .\n",
      "C E F\n",
      "E . .\n",
      "F . G\n",
      "D . .\n",
      "G . .\n",
      "ABDCEFG\n",
      "DBAECFG\n",
      "DBEGFCA"
     ]
    }
   ],
   "source": [
    "n = int(input()) # 이진 트리의 노드 개수\n",
    "tree = {}  # { A : [B, C] }  \n",
    "\n",
    "\n",
    "# 입력 받은 노드의 개수를 for문으로 반복하여, 공백 으로 구분하여 입력\n",
    "for i in range(n):\n",
    "    root_node,child_left,child_right = input().split()\n",
    "    tree[root_node] = [child_left,child_right]\n",
    "#    print(tree[root_node])     # A B C 입력시['B','C'] 저장, F . G 입력시 ['.', 'G'] 출력\n",
    "\n",
    "    \n",
    "    \n",
    "# 전위 \n",
    "def preorder(root_node) :\n",
    "    # root_node가 .이 아니라면 ~\n",
    "    if root_node!=\".\" : \n",
    "        print(root_node,end=\"\")        # root_node 출략\n",
    "        preorder(tree[root_node][0])   # child_left\n",
    "        preorder(tree[root_node][1])   # child_right\n",
    "\n",
    "        \n",
    "# 중위\n",
    "def inorder(root_node) : \n",
    "    if root_node!=\".\" : \n",
    "        inorder(tree[root_node][0])   # child_left\n",
    "        print(root_node,end=\"\")       # root_node 출략\n",
    "        inorder(tree[root_node][1])   # child_right\n",
    "\n",
    "\n",
    "        \n",
    "# 후위\n",
    "def postorder(root_node) : \n",
    "    if root_node!=\".\" : \n",
    "        postorder(tree[root_node][0])   # child_left\n",
    "        postorder(tree[root_node][1])  # child_right\n",
    "        print(root_node,end=\"\")        # root_node 출략\n",
    "\n",
    "        \n",
    "        \n",
    "        \n",
    "preorder('A')\n",
    "print()\n",
    "inorder('A')\n",
    "print()\n",
    "postorder('A')"
   ]
  },
  {
   "cell_type": "code",
   "execution_count": null,
   "id": "48d36743",
   "metadata": {},
   "outputs": [],
   "source": []
  }
 ],
 "metadata": {
  "kernelspec": {
   "display_name": "Python 3",
   "language": "python",
   "name": "python3"
  },
  "language_info": {
   "codemirror_mode": {
    "name": "ipython",
    "version": 3
   },
   "file_extension": ".py",
   "mimetype": "text/x-python",
   "name": "python",
   "nbconvert_exporter": "python",
   "pygments_lexer": "ipython3",
   "version": "3.8.8"
  }
 },
 "nbformat": 4,
 "nbformat_minor": 5
}
