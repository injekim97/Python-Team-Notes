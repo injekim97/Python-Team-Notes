{
 "cells": [
  {
   "cell_type": "code",
   "execution_count": 1,
   "id": "8953dc87",
   "metadata": {},
   "outputs": [],
   "source": [
    "from collections import deque\n",
    "def solution(priorities,location):\n",
    "    \n",
    "    # index_list는 말 그대로 priorities에 받은 리스트의 인덱스들을 deque로 저장\n",
    "    # e.g : [2,1,3,2]  --> # deque([0, 1, 2, 3])\n",
    "    index_list = deque([i for i in range(len(priorities))])  \n",
    "    answer = 0   # return을 위한 answer\n",
    "    maxinum = max(priorities)   # [2,1,3,2] -->  3 이 가장 큼\n",
    "    \n",
    "    \n",
    "    \n",
    "    while True :\n",
    "        index = index_list.popleft()  # deque([0, 1, 2, 3]) 에서 왼쪽 부터 하나씩 방출 즉, 0,1,2,3\n",
    "        \n",
    "\n",
    "        # 즉, priorities[0],priorities[1],priorities[2],priorities[3] < maxinum 보다 작다면?\n",
    "        if priorities[index] < maxinum:\n",
    "            index_list.append(index) # [2,1,3,2] 에서 2를 pop했으니, 제일 뒤로 보내주기위해 append 사용\n",
    "                                     # 즉, [1.3.2.2]가 되는 것임 이런 과정을 반복\n",
    "            \n",
    "            \n",
    "            \n",
    "        # e.g : priorities[2,1,3,2] --> index_list = deque([0,1,2,3])\n",
    "        # 즉, priorities[0,1,2,3] 중에 maxinum과 같다면?\n",
    "        else :\n",
    "            answer += 1\n",
    "            priorities[index] = 0  # 같다면 그 값을 0으로 만든 후\n",
    "            maxinum = max(priorities) # maxinum을 업데이트함            \n",
    "            \n",
    "            \n",
    "            \n",
    "            # 또한, index 와 location 위치가 같다면? \n",
    "            if index == location:\n",
    "                return answer    "
   ]
  }
 ],
 "metadata": {
  "kernelspec": {
   "display_name": "Python 3",
   "language": "python",
   "name": "python3"
  },
  "language_info": {
   "codemirror_mode": {
    "name": "ipython",
    "version": 3
   },
   "file_extension": ".py",
   "mimetype": "text/x-python",
   "name": "python",
   "nbconvert_exporter": "python",
   "pygments_lexer": "ipython3",
   "version": "3.8.8"
  }
 },
 "nbformat": 4,
 "nbformat_minor": 5
}
