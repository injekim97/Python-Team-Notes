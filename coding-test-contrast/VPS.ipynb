{
 "cells": [
  {
   "cell_type": "code",
   "execution_count": 12,
   "id": "e815299c",
   "metadata": {},
   "outputs": [
    {
     "name": "stdout",
     "output_type": "stream",
     "text": [
      "6\n",
      "(())())\n",
      "NO\n",
      "(((()())()\n",
      "NO\n",
      "(()())((()))\n",
      "YES\n",
      "((()()(()))(((())))()\n",
      "NO\n",
      "()()()()(()()())()\n",
      "YES\n",
      "(()((())()(\n",
      "NO\n"
     ]
    }
   ],
   "source": [
    "T = int(input())\n",
    "\n",
    "\n",
    "for i in range(T):\n",
    "    vps = input() \n",
    "    arr = []    \n",
    "    \n",
    "    # ★★★ 입력 받은 것들을 하나씩 출력함. ★★★\n",
    "    for j in vps :\n",
    "        \n",
    "        # 리스트 첫 번째에 들어가는 것이 \"(\"  리스트에 삽입\n",
    "        if j == \"(\" :\n",
    "            arr.append(j)\n",
    "            \n",
    "        # 리스트 첫 번째에 들어가는 것이 \")\" 라면\n",
    "        elif j == \")\" :\n",
    "            \n",
    "            \n",
    "            # 리스트에 값이 있고(비어있지않고) 리스트 마지막이 \"(\" \n",
    "            # 즉, \")\"가 리스트에 있는데  리스트 마지막이 \"(\" 라면 (를 pop으로 비워냄. 그럼 ) 남아 있음. \n",
    "            if len(arr) != 0 and arr[-1] == \"(\" :\n",
    "                arr.pop()\n",
    "            \n",
    "            \n",
    "            # 리스트가 비어있거나 , 리스트 마지막에 \")\" 라면\n",
    "            # (,) 이렇게 한쌍을 이루니까 \")\" 삽입 \n",
    "            else :\n",
    "                arr.append(\")\")\n",
    "                break\n",
    "                \n",
    "    \n",
    "    # 리스트 길이가 0이라면 yes, 1이상이라면 no 출력\n",
    "    if len(arr) == 0 :\n",
    "        print(\"YES\")\n",
    "    \n",
    "    else :\n",
    "        print(\"NO\")    "
   ]
  },
  {
   "cell_type": "code",
   "execution_count": 16,
   "id": "c1703730",
   "metadata": {},
   "outputs": [
    {
     "name": "stdout",
     "output_type": "stream",
     "text": [
      "6\n",
      "(())())\n",
      "NO\n",
      "(((()())()\n",
      "NO\n",
      "(()())((()))\n",
      "YES\n",
      "((()()(()))(((())))()\n",
      "NO\n",
      "()()()()(()()())()\n",
      "YES\n",
      "(()((())()(\n",
      "NO\n"
     ]
    }
   ],
   "source": [
    "# 스택에 관련된 문제이다.\n",
    "# '('을 확인하면 stack에 쌓고\n",
    "# ')'을 확인하면 stack에서 pop한다.\n",
    "\n",
    "\n",
    "t = int(input())\n",
    "\n",
    "for i in range(t):\n",
    "    vps = list(input()) # 입력을 하여 list로 변환\n",
    "    arr2 = []\n",
    "    is_empty = False # 리스트가 비어있는지 확인하기 위한 변수\n",
    "    \n",
    "    \n",
    "    # 입력한 리스트를 처음 부터 끝까지 돌려서\n",
    "    for j in range(len(vps)):\n",
    "        \n",
    "        # \"(\" 라면 arr2 리스트에 삽입\n",
    "        if vps[j] == '(':\n",
    "            arr2.append(vps[j])\n",
    "            \n",
    "        # \")\" 라면 \n",
    "        else:\n",
    "            \n",
    "            #  arr2가 비어있다면\n",
    "            if not arr2:\n",
    "                is_empty = True # 비어있음을 표시하기 위해 false -> true\n",
    "                break\n",
    "                \n",
    "            # arr2가 비어있지 않다면 pop()\n",
    "            else:\n",
    "                arr2.pop()\n",
    "                \n",
    "    # arr2리스트에 비어있지 않고 is_empty도 false라면?\n",
    "    if not arr2 and not is_empty:\n",
    "        print('YES')\n",
    "    else:\n",
    "        print('NO')"
   ]
  }
 ],
 "metadata": {
  "kernelspec": {
   "display_name": "Python 3",
   "language": "python",
   "name": "python3"
  },
  "language_info": {
   "codemirror_mode": {
    "name": "ipython",
    "version": 3
   },
   "file_extension": ".py",
   "mimetype": "text/x-python",
   "name": "python",
   "nbconvert_exporter": "python",
   "pygments_lexer": "ipython3",
   "version": "3.8.8"
  }
 },
 "nbformat": 4,
 "nbformat_minor": 5
}
