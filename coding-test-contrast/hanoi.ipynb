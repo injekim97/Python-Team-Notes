{
 "cells": [
  {
   "cell_type": "code",
   "execution_count": 1,
   "id": "eeaa4500",
   "metadata": {},
   "outputs": [
    {
     "name": "stdout",
     "output_type": "stream",
     "text": [
      "3\n",
      "1 3\n",
      "1 2\n",
      "3 2\n",
      "1 3\n",
      "2 1\n",
      "2 3\n",
      "1 3\n",
      "7\n"
     ]
    }
   ],
   "source": [
    "# 장대가 3개이며, start = 시작 장대(1), end = 목적지 장대(3), tmp = 임시 장대(2)\n",
    "def hanoi(k,start,end,tmp):        \n",
    "    \n",
    "    # hanoi 옮긴 횟수가 1이라면,start -> end  출력하면 됨(임시 공간인 장대에 들릴 필요가 없음)\n",
    "    if k == 1 :\n",
    "        print(start,end)  \n",
    "        return   # return 으로 종료 시켜줘야함. 안할시 무한루프\n",
    "    \n",
    "    \n",
    "    hanoi(k-1,start,tmp,end) # k-1개의 원판이 start -> tmp(임시 장대)로 이동\n",
    "    print(start,end)  # 위의 과정을 한 후, 맨 아래 k 원판은 start -> end(목적지 장대)로 이동\n",
    "    hanoi(k-1,tmp,end,start) # 임시 장대(tmp)에 있는 k-1 원판을 목적지 장대(end)로 이동  즉, tmp -> end \n",
    "\n",
    "        \n",
    "        \n",
    "# ------------- main -----------------    \n",
    "k = int(input())\n",
    "hanoi(k,1,3,2)\n",
    "print((2 ** k) - 1) # hanoi 옮긴 횟수 출력"
   ]
  }
 ],
 "metadata": {
  "kernelspec": {
   "display_name": "Python 3",
   "language": "python",
   "name": "python3"
  },
  "language_info": {
   "codemirror_mode": {
    "name": "ipython",
    "version": 3
   },
   "file_extension": ".py",
   "mimetype": "text/x-python",
   "name": "python",
   "nbconvert_exporter": "python",
   "pygments_lexer": "ipython3",
   "version": "3.8.8"
  }
 },
 "nbformat": 4,
 "nbformat_minor": 5
}
