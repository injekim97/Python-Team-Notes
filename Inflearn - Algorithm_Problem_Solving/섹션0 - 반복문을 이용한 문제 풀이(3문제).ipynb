{
 "cells": [
  {
   "cell_type": "markdown",
   "id": "d9a20959",
   "metadata": {},
   "source": [
    "### 반복문을 이용한 문제 풀이\n",
    "N : 키보드 입력 받기\n",
    "\n",
    "* 1부터 N까지 홀수 출력 하기 \n",
    "* 1부터 N까지의 합 구하기\n",
    "* N의 약수 출력하기"
   ]
  },
  {
   "cell_type": "markdown",
   "id": "c2266de6",
   "metadata": {},
   "source": [
    "### 1부터 N까지 홀수 출력 하기"
   ]
  },
  {
   "cell_type": "code",
   "execution_count": 18,
   "id": "da162069",
   "metadata": {},
   "outputs": [
    {
     "name": "stdout",
     "output_type": "stream",
     "text": [
      "10\n",
      "1\n",
      "3\n",
      "5\n",
      "7\n",
      "9\n"
     ]
    }
   ],
   "source": [
    "import sys\n",
    "\n",
    "prob1 = int(input(sys.stdin.readline().rstrip()))\n",
    "for i in range(1,prob1+1) :\n",
    "    if i % 2 == 1 :\n",
    "        print(i)"
   ]
  },
  {
   "cell_type": "markdown",
   "id": "989033c5",
   "metadata": {},
   "source": [
    "### 1부터 N까지의 합 구하기"
   ]
  },
  {
   "cell_type": "code",
   "execution_count": 14,
   "id": "d982c06b",
   "metadata": {},
   "outputs": [
    {
     "name": "stdout",
     "output_type": "stream",
     "text": [
      "10\n",
      "55\n"
     ]
    }
   ],
   "source": [
    "import sys\n",
    "\n",
    "prob2 = int(input(sys.stdin.readline().rstrip()))\n",
    "ans = 0\n",
    "for i in range(1,prob2+1) :\n",
    "    ans += i\n",
    "\n",
    "print(ans)"
   ]
  },
  {
   "cell_type": "markdown",
   "id": "46de8b89",
   "metadata": {},
   "source": [
    "### N의 약수 출력하기"
   ]
  },
  {
   "cell_type": "code",
   "execution_count": 23,
   "id": "79c87f57",
   "metadata": {},
   "outputs": [
    {
     "name": "stdout",
     "output_type": "stream",
     "text": [
      "10\n",
      "1 2 5 10 "
     ]
    }
   ],
   "source": [
    "import sys\n",
    "\n",
    "prob3 = int(input(sys.stdin.readline().rstrip()))\n",
    "\n",
    "for i in range(1,prob3+1):\n",
    "    # ★★★ 약수는 입력한 값 % for loop 변수명 == 0 으로 구하면 됨 ★★★\n",
    "    if prob3 % i == 0 :\n",
    "        print(i, end=\" \")"
   ]
  }
 ],
 "metadata": {
  "kernelspec": {
   "display_name": "Python 3",
   "language": "python",
   "name": "python3"
  },
  "language_info": {
   "codemirror_mode": {
    "name": "ipython",
    "version": 3
   },
   "file_extension": ".py",
   "mimetype": "text/x-python",
   "name": "python",
   "nbconvert_exporter": "python",
   "pygments_lexer": "ipython3",
   "version": "3.8.8"
  }
 },
 "nbformat": 4,
 "nbformat_minor": 5
}
