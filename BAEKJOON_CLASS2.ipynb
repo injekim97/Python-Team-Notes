{
 "cells": [
  {
   "cell_type": "code",
   "execution_count": 21,
   "id": "65c8cc13",
   "metadata": {},
   "outputs": [],
   "source": [
    "# 1018번 : 체스판 다시 칠하기\n",
    "\n",
    "#  M*N 정사각형 크기 \n",
    "# 어떤 정사각형은 검은색으로 칠해져 있고, 나머지는 흰색으로 칠해져 있다. \n",
    "\n",
    "# 첫째 줄에 N과 M이 주어진다. N과 M은 8보다 크거나 같고, 50보다 작거나 같은 자연수이다. \n",
    "# 둘째 줄부터 N개의 줄에는 보드의 각 행의 상태가 주어짐 B는 검은색, W는 흰색\n",
    "\n",
    "\n",
    "지민이 체스판 패스"
   ]
  },
  {
   "cell_type": "code",
   "execution_count": 6,
   "id": "89724afd",
   "metadata": {},
   "outputs": [
    {
     "name": "stdout",
     "output_type": "stream",
     "text": [
      "1 1 5 5\n",
      "1\n"
     ]
    }
   ],
   "source": [
    "# 1085번 : 직사각형에서 탈출\n",
    "# 한수는 지금 (x, y)에 존재\n",
    "# 쪽 아래 꼭짓점은 (0, 0), 오른쪽 위 꼭짓점은 (w, h)\n",
    "# 직사각형의 경계선까지 가는 거리의 최솟값을 구해라\n",
    "\n",
    "x,y,w,h = list(map(int,input().split()))\n",
    "print(min(x,y,w-x,h-y))"
   ]
  }
 ],
 "metadata": {
  "kernelspec": {
   "display_name": "Python 3",
   "language": "python",
   "name": "python3"
  },
  "language_info": {
   "codemirror_mode": {
    "name": "ipython",
    "version": 3
   },
   "file_extension": ".py",
   "mimetype": "text/x-python",
   "name": "python",
   "nbconvert_exporter": "python",
   "pygments_lexer": "ipython3",
   "version": "3.8.8"
  }
 },
 "nbformat": 4,
 "nbformat_minor": 5
}
