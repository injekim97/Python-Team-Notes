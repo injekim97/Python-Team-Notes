{
 "cells": [
  {
   "cell_type": "code",
   "execution_count": 4,
   "id": "851ed019",
   "metadata": {},
   "outputs": [
    {
     "name": "stdout",
     "output_type": "stream",
     "text": [
      "1 2\n",
      "3\n"
     ]
    }
   ],
   "source": [
    "# 1000번 : 두 정수 A와 B를 입력받은 다음, A+B를 출력하는 프로그램을 작성하시오.\n",
    "\n",
    "num = list(map(int,input().split()))\n",
    "\n",
    "result = 0\n",
    "for i in range(0,len(num)):\n",
    "    result += num[i]\n",
    "    \n",
    "print(result)"
   ]
  },
  {
   "cell_type": "code",
   "execution_count": 6,
   "id": "196ba55c",
   "metadata": {},
   "outputs": [
    {
     "name": "stdout",
     "output_type": "stream",
     "text": [
      "10 15\n",
      "-5\n"
     ]
    }
   ],
   "source": [
    "# 1001번 : 두 정수 A와 B를 입력받은 다음, A-B를 출력하는 프로그램을 작성하시오.\n",
    "\n",
    "num = list(map(int,input().split()))\n",
    "\n",
    "tmp = num[0] # 첫 번째 자리 리스트 값을 넣어줘야 정상적으로 값이 출력됨. \n",
    "for i in range(1,len(num)):\n",
    "    tmp -= num[i]\n",
    "    \n",
    "print(tmp)"
   ]
  },
  {
   "cell_type": "code",
   "execution_count": 7,
   "id": "b982e0d9",
   "metadata": {},
   "outputs": [
    {
     "name": "stdout",
     "output_type": "stream",
     "text": [
      "1 3\n",
      "0.3333333333333333\n"
     ]
    }
   ],
   "source": [
    "# 1008번 :  두 정수 A와 B를 입력받은 다음, A/B를 출력하는 프로그램을 작성하시오.\n",
    "\n",
    "num = list(map(int,input().split()))\n",
    "\n",
    "temp = num[0] # 첫 번째 자리 리스트 값을 넣어줘야 정상적으로 값이 출력됨. \n",
    "for i in range(1,len(num)):\n",
    "    temp /= num[i]\n",
    "    \n",
    "print(temp)"
   ]
  },
  {
   "cell_type": "code",
   "execution_count": 14,
   "id": "721d0153",
   "metadata": {},
   "outputs": [
    {
     "name": "stdout",
     "output_type": "stream",
     "text": [
      "The last character is a blank \n",
      "6\n"
     ]
    }
   ],
   "source": [
    "# 1152번 : 영어 대소문자와 공백으로 이루어진 문자열이 주어진다. \n",
    "# 이 문자열에는 몇 개의 단어가 있을까? 이를 구하는 프로그램을 작성하시오. \n",
    "# 단, 한 단어가 여러 번 등장하면 등장한 횟수만큼 모두 세어야 한다.\n",
    "\n",
    "\n",
    "word = list(map(str,input().split()))\n",
    "\n",
    "cnt = 0\n",
    "for i in word:\n",
    "    cnt += 1\n",
    "    \n",
    "print(cnt)"
   ]
  },
  {
   "cell_type": "code",
   "execution_count": 119,
   "id": "f3aba110",
   "metadata": {},
   "outputs": [
    {
     "name": "stdout",
     "output_type": "stream",
     "text": [
      "aaabbb\n",
      "?\n"
     ]
    }
   ],
   "source": [
    "# 1157번 : 알파벳 대소문자로 된 단어가 주어지면, 이 단어에서 가장 많이 사용된 알파벳이 무엇인지 알아내는 프로그램을 작성하시오. \n",
    "# 단, 대문자와 소문자를 구분하지 않는다.\n",
    "\n",
    "import collections\n",
    " \n",
    "word = input().upper()\n",
    "appy_list = []\n",
    "cnt = collections.Counter(word)\n",
    "\n",
    "word_high_frequency = cnt.most_common(2)  # [('A', 2), ('B', 2)]\n",
    "\n",
    "# print(word_high_frequency[0][0]) # A\n",
    "# print(word_high_frequency[0][1]) # 2\n",
    "# print(word_high_frequency[1][0]) # B\n",
    "# print(word_high_frequency[1][1]) # 2\n",
    "\n",
    "\n",
    "\n",
    "# 입력한 단어가 딱 한개라면 그대로 출력 \n",
    "if len(word_high_frequency) == 1 :\n",
    "    print(word)\n",
    "\n",
    "\n",
    "else :\n",
    "    if word_high_frequency[0][1] == word_high_frequency[1][1] :\n",
    "        print(\"?\")\n",
    "        \n",
    "    else :\n",
    "        print(word_high_frequency[0][0])"
   ]
  },
  {
   "cell_type": "code",
   "execution_count": 123,
   "id": "7dfea590",
   "metadata": {},
   "outputs": [
    {
     "name": "stdout",
     "output_type": "stream",
     "text": [
      "5 5\n",
      "==\n"
     ]
    }
   ],
   "source": [
    "# 1330번 : 두 정수 A와 B가 주어졌을 때, A와 B를 비교하는 프로그램을 작성하시오.\n",
    "\n",
    "num = list(map(int,input().split()))\n",
    "temp = num[0] # 두 수를 비교하기 위해선 항상 변수 2개가 필요함 temp,temp2\n",
    "\n",
    "for i in range(1,len(num)):\n",
    "    temp2 = num[i]\n",
    "\n",
    "    if temp > temp2 :\n",
    "        print(\">\")\n",
    "    elif temp < temp2 :\n",
    "        print(\"<\")\n",
    "    else :\n",
    "        print(\"==\")"
   ]
  },
  {
   "cell_type": "code",
   "execution_count": 153,
   "id": "e87458da",
   "metadata": {},
   "outputs": [
    {
     "name": "stdout",
     "output_type": "stream",
     "text": [
      "5\n",
      "1 2 4 8 16\n",
      "75.0\n"
     ]
    }
   ],
   "source": [
    "# 1546번 : 점수 조작 \n",
    "# 자기 점수 중 최대값(M)을 골라 모든 점수를 점수/M*100으로 고쳤다.\n",
    "# 예를 들어, 최고점이 70이고, 수학점수가 50이었으면 수학점수는 50/70*100이 되어 71.43점\n",
    "\n",
    "\n",
    "N = int(input())\n",
    "subject_score = list(map(int,input().split()))\n",
    "\n",
    "\n",
    "M = max(subject_score)\n",
    "\n",
    "\n",
    "# 입력한 과목 점수 점수/M*100로 변환\n",
    "change_score = []\n",
    "for i in subject_score :\n",
    "    change_score.append(i/M*100)\n",
    "    \n",
    "    \n",
    "# 출력 - change_score의 값을 더함\n",
    "temp = 0\n",
    "for i in change_score:\n",
    "    temp += i\n",
    "    \n",
    "\n",
    "    \n",
    "print(temp / len(subject_score)) # 점수 변환 값 / 입력한 과목 갯수"
   ]
  },
  {
   "cell_type": "code",
   "execution_count": 154,
   "id": "1dd9f800",
   "metadata": {},
   "outputs": [
    {
     "name": "stdout",
     "output_type": "stream",
     "text": [
      "5\n",
      "*\n",
      "**\n",
      "***\n",
      "****\n",
      "*****\n"
     ]
    }
   ],
   "source": [
    "# 2438번 : 별 찍기 -1 \n",
    "star = int(input())\n",
    "\n",
    "for i in range(1,star+1):\n",
    "    print(\"*\" * i)"
   ]
  },
  {
   "cell_type": "code",
   "execution_count": 16,
   "id": "8b844d5a",
   "metadata": {},
   "outputs": [
    {
     "name": "stdout",
     "output_type": "stream",
     "text": [
      "5\n",
      "    *\n",
      "   **\n",
      "  ***\n",
      " ****\n",
      "*****\n"
     ]
    }
   ],
   "source": [
    "# 2439번 : 별 찍기 -2 \n",
    "star2 = int(input())\n",
    "\n",
    "for i in range(1,star2+1):\n",
    "    print(\" \" * (star2 - i) + (\"*\" * i))"
   ]
  },
  {
   "cell_type": "code",
   "execution_count": null,
   "id": "2e020717",
   "metadata": {},
   "outputs": [],
   "source": []
  }
 ],
 "metadata": {
  "kernelspec": {
   "display_name": "Python 3",
   "language": "python",
   "name": "python3"
  },
  "language_info": {
   "codemirror_mode": {
    "name": "ipython",
    "version": 3
   },
   "file_extension": ".py",
   "mimetype": "text/x-python",
   "name": "python",
   "nbconvert_exporter": "python",
   "pygments_lexer": "ipython3",
   "version": "3.8.8"
  }
 },
 "nbformat": 4,
 "nbformat_minor": 5
}
