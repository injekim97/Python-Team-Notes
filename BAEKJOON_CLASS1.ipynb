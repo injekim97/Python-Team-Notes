{
 "cells": [
  {
   "cell_type": "code",
   "execution_count": 4,
   "id": "851ed019",
   "metadata": {},
   "outputs": [
    {
     "name": "stdout",
     "output_type": "stream",
     "text": [
      "1 2\n",
      "3\n"
     ]
    }
   ],
   "source": [
    "# 1000번 : 두 정수 A와 B를 입력받은 다음, A+B를 출력하는 프로그램을 작성하시오.\n",
    "\n",
    "num = list(map(int,input().split()))\n",
    "\n",
    "result = 0\n",
    "for i in range(0,len(num)):\n",
    "    result += num[i]\n",
    "    \n",
    "print(result)"
   ]
  },
  {
   "cell_type": "code",
   "execution_count": 6,
   "id": "196ba55c",
   "metadata": {},
   "outputs": [
    {
     "name": "stdout",
     "output_type": "stream",
     "text": [
      "10 15\n",
      "-5\n"
     ]
    }
   ],
   "source": [
    "# 1001번 : 두 정수 A와 B를 입력받은 다음, A-B를 출력하는 프로그램을 작성하시오.\n",
    "\n",
    "num = list(map(int,input().split()))\n",
    "\n",
    "tmp = num[0] # 첫 번째 자리 리스트 값을 넣어줘야 정상적으로 값이 출력됨. \n",
    "for i in range(1,len(num)):\n",
    "    tmp -= num[i]\n",
    "    \n",
    "print(tmp)"
   ]
  },
  {
   "cell_type": "code",
   "execution_count": 7,
   "id": "b982e0d9",
   "metadata": {},
   "outputs": [
    {
     "name": "stdout",
     "output_type": "stream",
     "text": [
      "1 3\n",
      "0.3333333333333333\n"
     ]
    }
   ],
   "source": [
    "# 1008번 :  두 정수 A와 B를 입력받은 다음, A/B를 출력하는 프로그램을 작성하시오.\n",
    "\n",
    "num = list(map(int,input().split()))\n",
    "\n",
    "temp = num[0] # 첫 번째 자리 리스트 값을 넣어줘야 정상적으로 값이 출력됨. \n",
    "for i in range(1,len(num)):\n",
    "    temp /= num[i]\n",
    "    \n",
    "print(temp)"
   ]
  },
  {
   "cell_type": "code",
   "execution_count": 14,
   "id": "721d0153",
   "metadata": {},
   "outputs": [
    {
     "name": "stdout",
     "output_type": "stream",
     "text": [
      "The last character is a blank \n",
      "6\n"
     ]
    }
   ],
   "source": [
    "# 1152번 : 영어 대소문자와 공백으로 이루어진 문자열이 주어진다. \n",
    "# 이 문자열에는 몇 개의 단어가 있을까? 이를 구하는 프로그램을 작성하시오. \n",
    "# 단, 한 단어가 여러 번 등장하면 등장한 횟수만큼 모두 세어야 한다.\n",
    "\n",
    "\n",
    "word = list(map(str,input().split()))\n",
    "\n",
    "cnt = 0\n",
    "for i in word:\n",
    "    cnt += 1\n",
    "    \n",
    "print(cnt)"
   ]
  },
  {
   "cell_type": "code",
   "execution_count": 119,
   "id": "f3aba110",
   "metadata": {},
   "outputs": [
    {
     "name": "stdout",
     "output_type": "stream",
     "text": [
      "aaabbb\n",
      "?\n"
     ]
    }
   ],
   "source": [
    "# 1157번 : 알파벳 대소문자로 된 단어가 주어지면, 이 단어에서 가장 많이 사용된 알파벳이 무엇인지 알아내는 프로그램을 작성하시오. \n",
    "# 단, 대문자와 소문자를 구분하지 않는다.\n",
    "\n",
    "import collections\n",
    " \n",
    "word = input().upper()\n",
    "appy_list = []\n",
    "cnt = collections.Counter(word)\n",
    "\n",
    "word_high_frequency = cnt.most_common(2)  # [('A', 2), ('B', 2)]\n",
    "\n",
    "# print(word_high_frequency[0][0]) # A\n",
    "# print(word_high_frequency[0][1]) # 2\n",
    "# print(word_high_frequency[1][0]) # B\n",
    "# print(word_high_frequency[1][1]) # 2\n",
    "\n",
    "\n",
    "\n",
    "# 입력한 단어가 딱 한개라면 그대로 출력 \n",
    "if len(word_high_frequency) == 1 :\n",
    "    print(word)\n",
    "\n",
    "\n",
    "else :\n",
    "    if word_high_frequency[0][1] == word_high_frequency[1][1] :\n",
    "        print(\"?\")\n",
    "        \n",
    "    else :\n",
    "        print(word_high_frequency[0][0])"
   ]
  },
  {
   "cell_type": "code",
   "execution_count": 123,
   "id": "7dfea590",
   "metadata": {},
   "outputs": [
    {
     "name": "stdout",
     "output_type": "stream",
     "text": [
      "5 5\n",
      "==\n"
     ]
    }
   ],
   "source": [
    "# 1330번 : 두 정수 A와 B가 주어졌을 때, A와 B를 비교하는 프로그램을 작성하시오.\n",
    "\n",
    "num = list(map(int,input().split()))\n",
    "temp = num[0] # 두 수를 비교하기 위해선 항상 변수 2개가 필요함 temp,temp2\n",
    "\n",
    "for i in range(1,len(num)):\n",
    "    temp2 = num[i]\n",
    "\n",
    "    if temp > temp2 :\n",
    "        print(\">\")\n",
    "    elif temp < temp2 :\n",
    "        print(\"<\")\n",
    "    else :\n",
    "        print(\"==\")"
   ]
  },
  {
   "cell_type": "code",
   "execution_count": 153,
   "id": "e87458da",
   "metadata": {},
   "outputs": [
    {
     "name": "stdout",
     "output_type": "stream",
     "text": [
      "5\n",
      "1 2 4 8 16\n",
      "75.0\n"
     ]
    }
   ],
   "source": [
    "# 1546번 : 점수 조작 \n",
    "# 자기 점수 중 최대값(M)을 골라 모든 점수를 점수/M*100으로 고쳤다.\n",
    "# 예를 들어, 최고점이 70이고, 수학점수가 50이었으면 수학점수는 50/70*100이 되어 71.43점\n",
    "\n",
    "\n",
    "N = int(input())\n",
    "subject_score = list(map(int,input().split()))\n",
    "\n",
    "\n",
    "M = max(subject_score)\n",
    "\n",
    "\n",
    "# 입력한 과목 점수 점수/M*100로 변환\n",
    "change_score = []\n",
    "for i in subject_score :\n",
    "    change_score.append(i/M*100)\n",
    "    \n",
    "    \n",
    "# 출력 - change_score의 값을 더함\n",
    "temp = 0\n",
    "for i in change_score:\n",
    "    temp += i\n",
    "    \n",
    "\n",
    "    \n",
    "print(temp / len(subject_score)) # 점수 변환 값 / 입력한 과목 갯수"
   ]
  },
  {
   "cell_type": "code",
   "execution_count": 154,
   "id": "1dd9f800",
   "metadata": {},
   "outputs": [
    {
     "name": "stdout",
     "output_type": "stream",
     "text": [
      "5\n",
      "*\n",
      "**\n",
      "***\n",
      "****\n",
      "*****\n"
     ]
    }
   ],
   "source": [
    "# 2438번 : 별 찍기 -1 \n",
    "star = int(input())\n",
    "\n",
    "for i in range(1,star+1):\n",
    "    print(\"*\" * i)"
   ]
  },
  {
   "cell_type": "code",
   "execution_count": 16,
   "id": "8b844d5a",
   "metadata": {},
   "outputs": [
    {
     "name": "stdout",
     "output_type": "stream",
     "text": [
      "5\n",
      "    *\n",
      "   **\n",
      "  ***\n",
      " ****\n",
      "*****\n"
     ]
    }
   ],
   "source": [
    "# 2439번 : 별 찍기 -2 \n",
    "star2 = int(input())\n",
    "\n",
    "for i in range(1,star2+1):\n",
    "    print(\" \" * (star2 - i) + (\"*\" * i))"
   ]
  },
  {
   "cell_type": "code",
   "execution_count": 28,
   "id": "f4d22f33",
   "metadata": {},
   "outputs": [
    {
     "name": "stdout",
     "output_type": "stream",
     "text": [
      "0 2 4 5 6\n",
      "1\n"
     ]
    }
   ],
   "source": [
    "# 2475번 : 검증수\n",
    "# 5개의 숫자를 각각 제곱한 수의 합을 10으로 나눈 나머지이다.\n",
    "# e.g : 04256 -> 각 숫자를 제곱한 수들의 합 0+16+4+25+36 = 81 % 10 = 1\n",
    "\n",
    "check_num = list(map(int,input().split()))\n",
    "\n",
    "temp = 0\n",
    "for i in check_num:\n",
    "    temp += i**2\n",
    "    \n",
    "print(temp % 10)"
   ]
  },
  {
   "cell_type": "code",
   "execution_count": 29,
   "id": "cd79adc5",
   "metadata": {},
   "outputs": [
    {
     "name": "stdout",
     "output_type": "stream",
     "text": [
      "Hello World!\n"
     ]
    }
   ],
   "source": [
    "# 2557번 : Hello World\n",
    "print(\"Hello World!\")"
   ]
  },
  {
   "cell_type": "code",
   "execution_count": 34,
   "id": "3589c3af",
   "metadata": {},
   "outputs": [
    {
     "name": "stdout",
     "output_type": "stream",
     "text": [
      "3\n",
      "29\n",
      "38\n",
      "12\n",
      "57\n",
      "74\n",
      "40\n",
      "85\n",
      "61\n",
      "85\n",
      "8\n"
     ]
    }
   ],
   "source": [
    "# 2562번 : 최댓값\n",
    "# 첫번 째 줄 부터 아홉 번째 줄 까지 자연수 입력 받음\n",
    "# 첫 번째 줄에 최댓값 출력, 둘째 줄에 최댓값의 인덱스 번호 출력\n",
    "\n",
    "\n",
    "arr = []\n",
    "for i in range(9):\n",
    "    num = int(input())\n",
    "    arr.append(num)\n",
    "    \n",
    "    \n",
    "print(max(arr))\n",
    "print(arr.index(max(arr)) + 1)\n",
    "    "
   ]
  },
  {
   "cell_type": "code",
   "execution_count": 59,
   "id": "1fe9459d",
   "metadata": {},
   "outputs": [
    {
     "name": "stdout",
     "output_type": "stream",
     "text": [
      "150\n",
      "266\n",
      "427\n",
      "['1', '7', '0', '3', '7', '3', '0', '0']\n",
      "3\n",
      "1\n",
      "0\n",
      "2\n",
      "0\n",
      "0\n",
      "0\n",
      "2\n",
      "0\n",
      "0\n"
     ]
    }
   ],
   "source": [
    "# 2577번 : 숫자의 개수\n",
    "# 예를 들어 A = 150, B = 266, C = 427 이라면 A × B × C = 150 × 266 × 427 = 17037300 이 되고, \n",
    "# 계산한 결과 17037300 에는 0이 3번, 1이 1번, 3이 2번, 7이 2번 쓰였다.\n",
    "\n",
    "\n",
    "# ---입력문 : A * B * C----\n",
    "temp = 1\n",
    "for i in range(3):\n",
    "    num = int(input())\n",
    "    temp *= num # 17037300\n",
    "       \n",
    "temp = str(temp)  # \"1703730\"\n",
    "\n",
    "\n",
    "\n",
    "# 세 자리 입력한 곱을 str - list로 쪼갬\n",
    "arr = []\n",
    "for i in temp :\n",
    "    arr.append(i)\n",
    "\n",
    "# print(arr)    ['1', '7', '0', '3', '7', '3', '0', '0']\n",
    "\n",
    "\n",
    "\n",
    "cnt_0 = 0\n",
    "cnt_1 = 0\n",
    "cnt_2 = 0\n",
    "cnt_3 = 0\n",
    "cnt_4 = 0\n",
    "cnt_5 = 0\n",
    "cnt_6 = 0\n",
    "cnt_7 = 0\n",
    "cnt_8 = 0\n",
    "cnt_9 = 0\n",
    "\n",
    "for i in range(len(arr)):    \n",
    "    if arr[i] == \"0\" :\n",
    "        cnt_0 +=1\n",
    "\n",
    "    elif arr[i] == \"1\" :\n",
    "        cnt_1 +=1\n",
    "\n",
    "    elif arr[i] == \"2\" :\n",
    "        cnt_2 +=1\n",
    "    \n",
    "    elif arr[i] == \"3\" :\n",
    "        cnt_3 +=1\n",
    "    \n",
    "    elif arr[i] == \"4\" :\n",
    "        cnt_4 +=1\n",
    "    \n",
    "    elif arr[i] == \"5\" :\n",
    "        cnt_5 +=1\n",
    "    \n",
    "    elif arr[i] == \"6\" :\n",
    "        cnt_6 +=1\n",
    "    \n",
    "    elif arr[i] == \"7\" :\n",
    "        cnt_7 +=1\n",
    "\n",
    "    elif arr[i] == \"8\" :\n",
    "        cnt_8 +=1\n",
    "\n",
    "    elif arr[i] == \"9\" :\n",
    "        cnt_9 +=1\n",
    "\n",
    "        \n",
    "print(cnt_0)\n",
    "print(cnt_1)\n",
    "print(cnt_2)\n",
    "print(cnt_3)\n",
    "print(cnt_4)\n",
    "print(cnt_5)\n",
    "print(cnt_6)\n",
    "print(cnt_7)\n",
    "print(cnt_8)\n",
    "print(cnt_9)\n"
   ]
  },
  {
   "cell_type": "code",
   "execution_count": 19,
   "id": "3af84858",
   "metadata": {},
   "outputs": [
    {
     "name": "stdout",
     "output_type": "stream",
     "text": [
      "150\n",
      "266\n",
      "427\n",
      "3\n",
      "1\n",
      "0\n",
      "2\n",
      "0\n",
      "0\n",
      "0\n",
      "2\n",
      "0\n",
      "0\n"
     ]
    }
   ],
   "source": [
    "# 2577번 : 숫자의 개수 (2번째 풀이 방법 = 가독성 ↑)\n",
    "\n",
    "\n",
    "# input -----> 세자리 수 입력 후 곱해줌\n",
    "mul = 1\n",
    "for i in range(3):\n",
    "    num2 = int(input())\n",
    "    mul *= num2\n",
    "    \n",
    "mul_list_value = list(str(mul)) # 정수형을 문자열로 바꾼 후, 리스트로 변경  # ['1', '7', '0', '3', '7', '3', '0', '0']\n",
    "        \n",
    "    \n",
    "\n",
    "# output -->  0~9까지 수를 출력해서 나타냄\n",
    "for i in range(10):    \n",
    "    \n",
    "    # ★★★ 0~9 문자열(str)과 리스트의 값(str)을 인덱싱 해서 비교 가능 ★★★\n",
    "    # 즉 아래 코드는 \"0\"~\"9\" == 리스트 값 ['1', '7', '0', '3', '7', '3', '0', '0']\n",
    "    if(str(i) == mul_list_value) :\n",
    "        mul_list_value.count(str(i)) # 같은 값을 count 해서 숫자 세려라 0이 1개면 0은 1개 \n",
    "\n",
    "    print(mul_list_value.count(str(i))) "
   ]
  },
  {
   "cell_type": "code",
   "execution_count": 42,
   "id": "a2071ef6",
   "metadata": {},
   "outputs": [
    {
     "name": "stdout",
     "output_type": "stream",
     "text": [
      "2 \n",
      "3 ABC\n",
      "AAABBBCCC\n",
      "5 /HTP\n",
      "/////HHHHHTTTTTPPPPP\n"
     ]
    }
   ],
   "source": [
    "# 2675번 : 문자열 반복 (첫 번째 풀이)\n",
    "\n",
    "T = int(input())\n",
    "\n",
    "temp = []\n",
    "for i in range(T):\n",
    "    S,R = input().split()\n",
    "    temp.append(R)\n",
    "    \n",
    "    \n",
    "    for i in range(len(R)):\n",
    "        print(int(S) * R[i], end=\"\")\n",
    "    print()"
   ]
  },
  {
   "cell_type": "code",
   "execution_count": 46,
   "id": "fc48b529",
   "metadata": {},
   "outputs": [
    {
     "name": "stdout",
     "output_type": "stream",
     "text": [
      "2\n",
      "3 ABC\n",
      "AAABBBCCC\n",
      "5 /HTP\n",
      "/////HHHHHTTTTTPPPPP\n"
     ]
    }
   ],
   "source": [
    "# 2675번 : 문자열 반복 (두 번째 풀이)\n",
    "\n",
    "T2 = int(input()) \n",
    "\n",
    "for i in range(T2):\n",
    "    r2,s2 = input().split()\n",
    "    \n",
    "    p = list(str(s2)) # ['/', 'H', 'T', 'P']\n",
    "    \n",
    "    # p 리스트에서 하나씩 꺼내 숫자 만큼 곱해줌\n",
    "    for i in p :\n",
    "        print(int(r2) * i,end=\"\")\n",
    "    print()"
   ]
  },
  {
   "cell_type": "code",
   "execution_count": 51,
   "id": "17f8fe1d",
   "metadata": {},
   "outputs": [
    {
     "name": "stdout",
     "output_type": "stream",
     "text": [
      "2\n",
      "2 * 1 = 2\n",
      "2 * 2 = 4\n",
      "2 * 3 = 6\n",
      "2 * 4 = 8\n",
      "2 * 5 = 10\n",
      "2 * 6 = 12\n",
      "2 * 7 = 14\n",
      "2 * 8 = 16\n",
      "2 * 9 = 18\n"
     ]
    }
   ],
   "source": [
    "# 2739번 : 구구단 출력 1 \n",
    "\n",
    "N = int(input())\n",
    "for i in range(1,10):\n",
    "    print(f\"{N} * {i} = {N * i}\")"
   ]
  },
  {
   "cell_type": "code",
   "execution_count": 52,
   "id": "ce7509ef",
   "metadata": {},
   "outputs": [
    {
     "name": "stdout",
     "output_type": "stream",
     "text": [
      "2\n",
      "2 * 1 = 2\n",
      "2 * 2 = 4\n",
      "2 * 3 = 6\n",
      "2 * 4 = 8\n",
      "2 * 5 = 10\n",
      "2 * 6 = 12\n",
      "2 * 7 = 14\n",
      "2 * 8 = 16\n",
      "2 * 9 = 18\n"
     ]
    }
   ],
   "source": [
    "# 2739번 : 구구단 출력 2\n",
    "\n",
    "N = int(input())\n",
    "for i in range(1,10):\n",
    "    print(\"%d * %d = %d\" %(N,i,N*i))"
   ]
  },
  {
   "cell_type": "code",
   "execution_count": 53,
   "id": "06cab522",
   "metadata": {},
   "outputs": [
    {
     "name": "stdout",
     "output_type": "stream",
     "text": [
      "5\n",
      "1\n",
      "2\n",
      "3\n",
      "4\n",
      "5\n"
     ]
    }
   ],
   "source": [
    "# 2741번 : N 찍기\n",
    "\n",
    "number =int(input())\n",
    "for i in range(1,number+1):\n",
    "    print(i)"
   ]
  },
  {
   "cell_type": "code",
   "execution_count": 54,
   "id": "c738c5ca",
   "metadata": {},
   "outputs": [
    {
     "name": "stdout",
     "output_type": "stream",
     "text": [
      "5\n",
      "5\n",
      "4\n",
      "3\n",
      "2\n",
      "1\n"
     ]
    }
   ],
   "source": [
    "# 2742번 : 기찍 N\n",
    "\n",
    "number2 =int(input())\n",
    "for i in range(number2,0,-1):\n",
    "    print(i)"
   ]
  },
  {
   "cell_type": "code",
   "execution_count": 56,
   "id": "ca6f2e96",
   "metadata": {},
   "outputs": [
    {
     "name": "stdout",
     "output_type": "stream",
     "text": [
      "1999\n",
      "0\n"
     ]
    }
   ],
   "source": [
    "# 2753번 : 윤년\n",
    "\n",
    "year = int(input())\n",
    "\n",
    "# 4의 배수이면서 , (100의 배수가 아닐 때 또는 400의 배수)를 충족시켜 윤년이면 1, 아니면 0을 출력하기\n",
    "if (year % 4 == 0 and year % 100 != 0) or year % 400 == 0: \n",
    "    print(\"1\")\n",
    "else :\n",
    "    print(\"0\")"
   ]
  },
  {
   "cell_type": "code",
   "execution_count": 21,
   "id": "ecac3565",
   "metadata": {},
   "outputs": [
    {
     "name": "stdout",
     "output_type": "stream",
     "text": [
      "10 50\n",
      "10 5\n"
     ]
    }
   ],
   "source": [
    "# 1008번 : 알람 시계\n",
    "# 45분 일찍 알람 설정하기\n",
    "# 첫째 줄에 두 정수 H와 M이 주어진다. (0 ≤ H ≤ 23, 0 ≤ M ≤ 59) \n",
    "# 이것은 현재 상근이가 설정한 놓은 알람 시간 H시 M분을 의미한다.\n",
    "\n",
    "H,M = map(int,input().split())\n",
    "\n",
    "\n",
    "# 예제 입력2  H = 0 이고, 45분이하라면, \n",
    "if H == 0 and  M < 45 :\n",
    "    H = 23\n",
    "    print(H,M+60-45)\n",
    "\n",
    "    \n",
    "    \n",
    "# 예제 입력1,3  45분이하라면, 1시간 빼고 + 60해서 출력 해줘야함.\n",
    "elif M < 45 :\n",
    "    print(H-1,M+60-45)\n",
    "    \n",
    "    \n",
    "    \n",
    "# 예제 입력에 없는 예시 ) 45분 이상이면 시간 그대로 출력 및 M - 45    \n",
    "# e.g : 10 50 -> 10 5\n",
    "else:\n",
    "    print(H,M-45)"
   ]
  },
  {
   "cell_type": "code",
   "execution_count": 106,
   "id": "c3329a7d",
   "metadata": {},
   "outputs": [
    {
     "name": "stdout",
     "output_type": "stream",
     "text": [
      "123 456\n",
      "654\n"
     ]
    }
   ],
   "source": [
    "# 2908번 : 상수 (첫 번째 답안)\n",
    "# 두 수의 크기를 비교\n",
    "# e.g : 734와 893을 칠판에 적었다면, 상수는 이 수를 437과 398로 읽는다. \n",
    "# 따라서, 상수는 두 수중 큰 수인 437을 큰 수라고 말할 것이다\n",
    "\n",
    "\n",
    "\n",
    "# ★★ reverse를 쓰기 위해서 str으로 선언 한 후 [::-1]을 이용하여 뒤집는다 ★★\n",
    "num1,num2 = list(map(str,input().split()))  # 734 , 893\n",
    "\n",
    "reverse_num1 = num1[::-1] # 437\n",
    "reverse_num2 = num2[::-1] # 398\n",
    "\n",
    "\n",
    "if reverse_num1 > reverse_num2 :\n",
    "    print(reverse_num1)\n",
    "    \n",
    "else :\n",
    "    print(reverse_num2)"
   ]
  },
  {
   "cell_type": "code",
   "execution_count": 102,
   "id": "3c576ae5",
   "metadata": {},
   "outputs": [
    {
     "name": "stdout",
     "output_type": "stream",
     "text": [
      "734 893\n",
      "437\n"
     ]
    }
   ],
   "source": [
    "# 2908번 : 상수 (두 번째 답안)\n",
    "# 두 수의 크기를 비교\n",
    "# e.g : 734와 893을 칠판에 적었다면, 상수는 이 수를 437과 398로 읽는다. \n",
    "# 따라서, 상수는 두 수중 큰 수인 437을 큰 수라고 말할 것이다\n",
    "\n",
    "\n",
    "\n",
    "# ------- inpur ---------\n",
    "num = list(map(int,input().split())) # 734 893\n",
    "\n",
    "\n",
    "max_value = list(str(max(num)))   # A,B 중에 큰 값을 리스트로 저장 (893)\n",
    "max_value.reverse()  #  893을 역순으로 뒤집음 ['3', '9', '8']\n",
    "\n",
    "\n",
    "min_value = list(str(min(num)))   # A,B 중에 작은 값을 리스트로 저장 (734)\n",
    "min_value.reverse()  # ['4', '3', '7']\n",
    "\n",
    "\n",
    "\n",
    "\n",
    "\n",
    "# ------------------------output-----------------------------\n",
    "# 역순으로 저장한 max 값을 append 로 리스트에 추가\n",
    "arr = []\n",
    "for i in max_value:\n",
    "    arr.append(i)\n",
    "    \n",
    "\n",
    "# 역순으로 저장한 min 값을 append 로 리스트에 추가\n",
    "arr2 = []\n",
    "for i in min_value:\n",
    "    arr2.append(i)\n",
    "\n",
    "\n",
    "\n",
    "max_num = \"\".join(arr)\n",
    "min_num = \"\".join(arr2)\n",
    "\n",
    "\n",
    "if max_num > min_num :\n",
    "    print(max_num)\n",
    "    \n",
    "else :\n",
    "    print(min_num)"
   ]
  },
  {
   "cell_type": "code",
   "execution_count": 37,
   "id": "3899ab1e",
   "metadata": {},
   "outputs": [
    {
     "name": "stdout",
     "output_type": "stream",
     "text": [
      "8 1 2 3 4 5 6 7\n",
      "mixed\n"
     ]
    }
   ],
   "source": [
    "# 2920번 : 음계\n",
    "\n",
    "scale = list(map(int,input().split())) #   [1, 2, 3, 4, 5, 6, 7, 8]\n",
    "\n",
    "\n",
    "\n",
    "arr =[] \n",
    "for i in range(1,9):\n",
    "    arr.append(i) # [1, 2, 3, 4, 5, 6, 7, 8]\n",
    "\n",
    "    \n",
    "# 1 2 3 4 5 6 7 8 오름차순 이라면 ascending\n",
    "if arr == scale:\n",
    "    print(\"ascending\")\n",
    "\n",
    "    \n",
    "# 8 7 6 5 4 3 2 1 내림차순 이라면 descending\n",
    "elif arr[::-1] == scale :\n",
    "    print(\"descending\")\n",
    "\n",
    "    \n",
    "# 8 1 7 2 6 3 5 4  섞여 있다면 mixed\n",
    "else :\n",
    "    print(\"mixed\")"
   ]
  },
  {
   "cell_type": "code",
   "execution_count": 51,
   "id": "2060134f",
   "metadata": {},
   "outputs": [
    {
     "name": "stdout",
     "output_type": "stream",
     "text": [
      "1\n",
      "2\n",
      "3\n",
      "4\n",
      "5\n",
      "5\n"
     ]
    }
   ],
   "source": [
    "# 3052번 : 나머지\n",
    "# 첫째 줄부터 열 번째 줄 까지 숫자 입력 후 % 42로 나눔\n",
    "# 나눈 후 서로 다른 나머지가 몇 개인지 출력\n",
    "\n",
    "\n",
    "\n",
    "# --------- input ------------\n",
    "arr = []\n",
    "for i in range(10):\n",
    "    num = int(input())\n",
    "    arr.append(num%42)   \n",
    "\n",
    "arr = list(set(arr)) # ★★★ set -> 중복 나머지를 제거 한 후 리스트로 변형 ★★★\n",
    "\n",
    "\n",
    "\n",
    "# -------- output -------------\n",
    "# 서로 다른 나머지 출력\n",
    "cnt = 0\n",
    "for i in arr:\n",
    "    cnt += 1\n",
    "print(cnt)"
   ]
  }
 ],
 "metadata": {
  "kernelspec": {
   "display_name": "Python 3",
   "language": "python",
   "name": "python3"
  },
  "language_info": {
   "codemirror_mode": {
    "name": "ipython",
    "version": 3
   },
   "file_extension": ".py",
   "mimetype": "text/x-python",
   "name": "python",
   "nbconvert_exporter": "python",
   "pygments_lexer": "ipython3",
   "version": "3.8.8"
  }
 },
 "nbformat": 4,
 "nbformat_minor": 5
}
