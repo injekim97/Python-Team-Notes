{
 "cells": [
  {
   "cell_type": "code",
   "execution_count": 4,
   "id": "9f135855",
   "metadata": {},
   "outputs": [
    {
     "name": "stdout",
     "output_type": "stream",
     "text": [
      "1 2\n",
      "3\n"
     ]
    }
   ],
   "source": [
    "# 1000번 : 두 정수 A와 B를 입력받은 다음, A+B를 출력하는 프로그램을 작성하시오.\n",
    "\n",
    "num = list(map(int,input().split()))\n",
    "\n",
    "result = 0\n",
    "for i in range(0,len(num)):\n",
    "    result += num[i]\n",
    "    \n",
    "print(result)"
   ]
  },
  {
   "cell_type": "code",
   "execution_count": 6,
   "id": "95bf9877",
   "metadata": {},
   "outputs": [
    {
     "name": "stdout",
     "output_type": "stream",
     "text": [
      "10 15\n",
      "-5\n"
     ]
    }
   ],
   "source": [
    "# 1001번 : 두 정수 A와 B를 입력받은 다음, A-B를 출력하는 프로그램을 작성하시오.\n",
    "\n",
    "num = list(map(int,input().split()))\n",
    "\n",
    "tmp = num[0] # 첫 번째 자리 리스트 값을 넣어줘야 정상적으로 값이 출력됨. \n",
    "for i in range(1,len(num)):\n",
    "    tmp -= num[i]\n",
    "    \n",
    "print(tmp)"
   ]
  },
  {
   "cell_type": "code",
   "execution_count": 7,
   "id": "d80a4ea2",
   "metadata": {},
   "outputs": [
    {
     "name": "stdout",
     "output_type": "stream",
     "text": [
      "1 3\n",
      "0.3333333333333333\n"
     ]
    }
   ],
   "source": [
    "# 1008번 :  두 정수 A와 B를 입력받은 다음, A/B를 출력하는 프로그램을 작성하시오.\n",
    "\n",
    "num = list(map(int,input().split()))\n",
    "\n",
    "temp = num[0] # 첫 번째 자리 리스트 값을 넣어줘야 정상적으로 값이 출력됨. \n",
    "for i in range(1,len(num)):\n",
    "    temp /= num[i]\n",
    "    \n",
    "print(temp)"
   ]
  },
  {
   "cell_type": "code",
   "execution_count": 14,
   "id": "0279eb9f",
   "metadata": {},
   "outputs": [
    {
     "name": "stdout",
     "output_type": "stream",
     "text": [
      "The last character is a blank \n",
      "6\n"
     ]
    }
   ],
   "source": [
    "# 1152번 : 영어 대소문자와 공백으로 이루어진 문자열이 주어진다. \n",
    "# 이 문자열에는 몇 개의 단어가 있을까? 이를 구하는 프로그램을 작성하시오. \n",
    "# 단, 한 단어가 여러 번 등장하면 등장한 횟수만큼 모두 세어야 한다.\n",
    "\n",
    "\n",
    "word = list(map(str,input().split()))\n",
    "\n",
    "cnt = 0\n",
    "for i in word:\n",
    "    cnt += 1\n",
    "    \n",
    "print(cnt)"
   ]
  },
  {
   "cell_type": "code",
   "execution_count": 114,
   "id": "d07c64fd",
   "metadata": {},
   "outputs": [
    {
     "name": "stdout",
     "output_type": "stream",
     "text": [
      "aabb\n",
      "[('A', 2), ('B', 2)]\n",
      "A\n",
      "2\n",
      "B\n",
      "2\n"
     ]
    }
   ],
   "source": [
    "# 1157번 : 알파벳 대소문자로 된 단어가 주어지면, 이 단어에서 가장 많이 사용된 알파벳이 무엇인지 알아내는 프로그램을 작성하시오. \n",
    "# 단, 대문자와 소문자를 구분하지 않는다.\n",
    "\n",
    "import collections\n",
    " \n",
    "word = input().upper()\n",
    "appy_list = []\n",
    "cnt = collections.Counter(word)\n",
    "\n",
    "word_high_frequency = cnt.most_common(2)  # [('A', 2), ('B', 2)]\n",
    "\n",
    "# print(word_high_frequency[0][0]) # A\n",
    "# print(word_high_frequency[0][1]) # 2\n",
    "# print(word_high_frequency[1][0]) # B\n",
    "# print(word_high_frequency[1][1]) # 2\n",
    "\n",
    "\n",
    "\n",
    "# 입력한 단어가 딱 한개라면 그대로 출력 \n",
    "if len(word_high_frequency) == 1 :\n",
    "    print(word)\n",
    "\n",
    "\n",
    "else :\n",
    "    if word_high_frequency[0][1] == word_high_frequency[1][1] :\n",
    "        print(\"?\")\n",
    "        \n",
    "    else :\n",
    "        print(word_high_frequency[0][0])"
   ]
  }
 ],
 "metadata": {
  "kernelspec": {
   "display_name": "Python 3",
   "language": "python",
   "name": "python3"
  },
  "language_info": {
   "codemirror_mode": {
    "name": "ipython",
    "version": 3
   },
   "file_extension": ".py",
   "mimetype": "text/x-python",
   "name": "python",
   "nbconvert_exporter": "python",
   "pygments_lexer": "ipython3",
   "version": "3.8.8"
  }
 },
 "nbformat": 4,
 "nbformat_minor": 5
}
