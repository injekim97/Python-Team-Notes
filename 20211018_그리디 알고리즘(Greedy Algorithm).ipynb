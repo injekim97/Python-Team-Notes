{
 "cells": [
  {
   "cell_type": "code",
   "execution_count": 10,
   "id": "409e37f7",
   "metadata": {},
   "outputs": [
    {
     "name": "stdout",
     "output_type": "stream",
     "text": [
      "n을 동전으로 거슬러 줄 수 있는 동전 개수: 6\n"
     ]
    }
   ],
   "source": [
    "n = 1260\n",
    "cnt = 0 # 동전 개수 count 변수\n",
    "\n",
    "\n",
    "arr = [500,100,50,10] # 그리디 알고리즘은 큰 단위부터 작은 단위로 해야 최적의 해를 구할 수 있음\n",
    "\n",
    "\n",
    "# 1260원 --> 500원으로 먼저 최대한 나눠서 500원 2개, 260원을 100원으로 최대한 나눠서 2개, 남은 60원은 50원 1개, 10원 1개 \n",
    "for coin in arr:\n",
    "    cnt += n // coin \n",
    "    n %= coin # % 나머지 연산자로 1260원에 대해 리스트로 나눠줘야 정확한 동전의 개수가 나옴.\n",
    "    \n",
    "print(\"n을 동전으로 거슬러 줄 수 있는 동전 개수:\",cnt)     "
   ]
  },
  {
   "cell_type": "code",
   "execution_count": 11,
   "id": "10120414",
   "metadata": {},
   "outputs": [
    {
     "name": "stdout",
     "output_type": "stream",
     "text": [
      "n을 동전으로 거슬러 줄 수 있는 동전 개수: 14\n"
     ]
    }
   ],
   "source": [
    "n = 1260\n",
    "cnt = 0\n",
    "\n",
    "test_arr = [100,500,50,10] # 만약에 리스트 선언 시 작은 단위에서 큰 단위로 적는다면?\n",
    "\n",
    "for coin in test_arr:\n",
    "    cnt += n // coin\n",
    "    n %= coin\n",
    "    \n",
    "print(\"n을 동전으로 거슬러 줄 수 있는 동전 개수:\",cnt) # 같은 로직이지만 위의 코드와 달리 동전 개수가 달라짐"
   ]
  },
  {
   "cell_type": "markdown",
   "id": "8d7c018c",
   "metadata": {},
   "source": [
    "## <문제> 1이 될 때까지 \n",
    "##### 어떠한 수 N이 1이 될 때까지 다음의 두 과정 중 하나를 반복적으로 선택하여 수행하려 한다.\n",
    "##### 단, 두 번째 연산은 N이 K로 나누어 떨어질 때만 선택할 수 있다\n",
    "\n",
    "* 1. N에서 1을 뺀다\n",
    "* 2. N을 K로 나눈다.\n",
    "\n",
    "\n",
    "##### 예를 들어 N = 17,K = 4 라고 가정. 이때 1번의 과정을 한 번 수행하면 N은 16, 이후에 2번 과정 수행하면 N은 1\n",
    "##### 결과적으로 이 경우 전체 과정을 실행한 횟수는 3이 됨. 이는 N을 1로 만드는 최소 횟수\n",
    "##### N과 K가 주어질 때 N이 1이 될 때까지 1번 혹은 2번의 과정을 수행해야 하는 최소 횟수를 구하는 프포그램 작성해라.\n",
    "\n",
    "\n",
    "\n",
    "+ 입력 조건 : 첫째 줄에 N(1<=N<=100000)과 K(2<=K<=100000) 공백 기준으로 하여 각각 자연수가 주어짐\n",
    "+ 출력 조건 : 첫째 줄에 N이 1이 될 때까지 1번 혹은 2번 과정을 수행하는 최솟값 횟수 출력\n",
    "\n",
    "\n",
    "* 입력 예시 25 5\n",
    "* 출력 예시 2"
   ]
  },
  {
   "cell_type": "code",
   "execution_count": 72,
   "id": "6d62d4ff",
   "metadata": {},
   "outputs": [
    {
     "name": "stdout",
     "output_type": "stream",
     "text": [
      "25 5\n",
      "2\n",
      "time: 0.5590770244598389\n"
     ]
    }
   ],
   "source": [
    "# 주어진 N 최대한 많이 나누기\n",
    "# N의 값을 줄일 때 2 이상의 수로 나누는 작업이 1 빼는 것 보다 횟수를 많이 줄일 수 있음\n",
    "\n",
    "import time\n",
    "start_time = time.time() # 측정 시작\n",
    "\n",
    "\n",
    "\n",
    "\n",
    "n,k = list(map(int,input().split()))\n",
    "result = 0\n",
    "\n",
    "\n",
    "while True :    \n",
    "    # N이 k로 나누어 떨어지는 수가 될 떄까지만 -1 빼기\n",
    "    target = (n // k) * k\n",
    "    result += (n - target)\n",
    "    n = target\n",
    "    \n",
    "    if n < k:\n",
    "        break\n",
    "        \n",
    "    result += 1\n",
    "    n //= k\n",
    "\n",
    "result += (n - 1)\n",
    "print(result)\n",
    "\n",
    "\n",
    "end_time = time.time() # 측정 종료\n",
    "print(\"time:\", end_time - start_time) # 수행 시간 출력"
   ]
  },
  {
   "cell_type": "code",
   "execution_count": 76,
   "id": "f2f42a2e",
   "metadata": {},
   "outputs": [
    {
     "name": "stdout",
     "output_type": "stream",
     "text": [
      "25 5\n",
      "2\n",
      "time: 0.5123825073242188\n"
     ]
    }
   ],
   "source": [
    "# 주어진 N 최대한 많이 나누기\n",
    "# N의 값을 줄일 때 2 이상의 수로 나누는 작업이 1 빼는 것 보다 횟수를 많이 줄일 수 있음\n",
    "# 내가 푼 소스코드\n",
    "\n",
    "\n",
    "import time\n",
    "start_time = time.time() # 측정 시작\n",
    "\n",
    "\n",
    "\n",
    "N,K = list(map(int,input().split()))\n",
    "result = 0\n",
    "\n",
    "while True :    \n",
    "    \n",
    "    target = (N // K) * K # 25 5 -> 25\n",
    "    result += (N - target)  # 25 - 25 = 0, 5-5= 0  즉 항상 0이 되므로 전혀 지장이 없음, 그렇기 때문에 아래 result += 1 이 계속 증가됨\n",
    "    \n",
    "    # N이 K보다 작다면 종료\n",
    "    if N < K:\n",
    "        break\n",
    "        \n",
    "    result += 1\n",
    "    N =  N // K # 25 // 5  = 5 , 5 // 5 = 0\n",
    "\n",
    "print(result-1)\n",
    "\n",
    "end_time = time.time() # 측정 종료\n",
    "print(\"time:\", end_time - start_time) # 수행 시간 출력"
   ]
  }
 ],
 "metadata": {
  "kernelspec": {
   "display_name": "Python 3",
   "language": "python",
   "name": "python3"
  },
  "language_info": {
   "codemirror_mode": {
    "name": "ipython",
    "version": 3
   },
   "file_extension": ".py",
   "mimetype": "text/x-python",
   "name": "python",
   "nbconvert_exporter": "python",
   "pygments_lexer": "ipython3",
   "version": "3.8.8"
  }
 },
 "nbformat": 4,
 "nbformat_minor": 5
}
