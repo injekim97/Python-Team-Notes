{
 "cells": [
  {
   "cell_type": "code",
   "execution_count": 14,
   "id": "581e4c22",
   "metadata": {},
   "outputs": [
    {
     "name": "stdout",
     "output_type": "stream",
     "text": [
      "5\n",
      "R R R U D D\n",
      "3 4\n"
     ]
    }
   ],
   "source": [
    "# <문제> : 상하좌우\n",
    "# 여행가 A는 N * N 크기의 정사각형 공간 위에 서 있다.\n",
    "# 이 공간은 1 * 1 크기의 정사각형으로 나누어져 있다. \n",
    "# 가장 왼쪽 위 좌표는 (1,1)이며, 가장오른쪽 아래 좌표는 (N,N)에 해당한ㄷ\n",
    "# 여행가 A는 상하좌우 이동이 가능하며 시작 좌표는 항상(1,1)\n",
    "\n",
    "# 입력 예시 : 5, R R R U D D\n",
    "# 출력 예시 3 4\n",
    "\n",
    "\n",
    "\n",
    "\n",
    "N = int(input())\n",
    "move = input().split()\n",
    "x,y = 1,1\n",
    "\n",
    "\n",
    "\n",
    "\n",
    "# 방향 벡터 사용\n",
    "# 출력 예시를 잘 보면 1,1 에서 R R R 했는데 dy 즉 y 좌표가 바뀜\n",
    "# 그렇기 때문에 문제 상에선 dy가 LEFT, Right, dx가 Up down 을 뜻함.\n",
    "# 시작 지점 (1,1) 기준에 의하여, 못가는 범위는 -1, 갈 수 있는 범위는 0으로 표시함\n",
    "move_types = ['L','R','U','D']\n",
    "dx = [0,0,-1,1] \n",
    "dy = [-1,1,0,0] \n",
    "\n",
    "\n",
    "\n",
    "\n",
    "for i in move :\n",
    "    for j in range(len(move_types)):\n",
    "        \n",
    "        # 입력한 방향 중, L R U D 랑 일치한다면?\n",
    "        if i == move_types[j]: \n",
    "            nx = x + dx[j]\n",
    "            ny = y + dy[j]\n",
    "            \n",
    "            \n",
    "    #  최소 1,1이기 때문에 값이 0이 될 순 없음  \n",
    "    # 또한 N * N 정사각형 크기이므로 크기를 넘을 수 없음 \n",
    "    # e.g N = 5 라면 nx,ny는 6을 넘을 수가 없음\n",
    "    if nx < 1 or ny < 1 or nx > N or ny > N:\n",
    "        continue\n",
    "       \n",
    "    x,y = nx,ny\n",
    "    \n",
    "print(x,y)"
   ]
  }
 ],
 "metadata": {
  "kernelspec": {
   "display_name": "Python 3",
   "language": "python",
   "name": "python3"
  },
  "language_info": {
   "codemirror_mode": {
    "name": "ipython",
    "version": 3
   },
   "file_extension": ".py",
   "mimetype": "text/x-python",
   "name": "python",
   "nbconvert_exporter": "python",
   "pygments_lexer": "ipython3",
   "version": "3.8.8"
  }
 },
 "nbformat": 4,
 "nbformat_minor": 5
}
