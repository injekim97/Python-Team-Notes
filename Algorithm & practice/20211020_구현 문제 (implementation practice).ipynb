{
 "cells": [
  {
   "cell_type": "markdown",
   "id": "05aaa64b",
   "metadata": {},
   "source": [
    "## <문제> : 상하좌우\n",
    "#### 여행가 A는 N * N 크기의 정사각형 공간 위에 서 있다.\n",
    "#### 이 공간은 1 * 1 크기의 정사각형으로 나누어져 있다. \n",
    "##### 가장 왼쪽 위 좌표는 (1,1)이며, 가장오른쪽 아래 좌표는 (N,N)에 해당\n",
    "#### 여행가 A는 상하좌우 이동이 가능하며 시작 좌표는 항상(1,1)\n",
    "\n",
    "\n",
    "\n",
    "#### 입력 예시 : \n",
    "#### 5\n",
    "#### R R R U D D\n",
    "#### 출력 예시\n",
    "#### 3 4"
   ]
  },
  {
   "cell_type": "code",
   "execution_count": 31,
   "id": "d89bcff2",
   "metadata": {},
   "outputs": [
    {
     "name": "stdout",
     "output_type": "stream",
     "text": [
      "5\n",
      "R R R U D D\n",
      "3 4\n"
     ]
    }
   ],
   "source": [
    "N = int(input())\n",
    "move = input().split()\n",
    "x,y = 1,1\n",
    "\n",
    "# 방향 벡터 사용\n",
    "# ★★★★★ 출력 예시를 잘 보면 1,1 에서 R R R 했는데 dy 즉 y 좌표가 바뀜 ★★★★★\n",
    "# ★★★★★ 그렇기 때문에 문제 상에선 dy가 LEFT, Right, dx가 Up down 을 뜻함. ★★★★★\n",
    "# 시작 지점 (1,1) 기준에 의하여, 못가는 범위는 -1, 갈 수 있는 범위는 0으로 표시함\n",
    "move_types = ['L','R','U','D']\n",
    "dx = [0,0,-1,1] \n",
    "dy = [-1,1,0,0] \n",
    "\n",
    "\n",
    "for i in move :\n",
    "    for j in range(len(move_types)):\n",
    "        \n",
    "        # 입력한 방향 중, L R U D 랑 일치한다면?\n",
    "        if i == move_types[j]: \n",
    "            nx = x + dx[j]\n",
    "            ny = y + dy[j]\n",
    "            \n",
    "            \n",
    "    #  최소 1,1이기 때문에 값이 0이 될 순 없음  \n",
    "    # 또한 N * N 정사각형 크기이므로 크기를 넘을 수 없음 \n",
    "    # e.g N = 5 라면 nx,ny는 6을 넘을 수가 없음\n",
    "    if nx < 1 or ny < 1 or nx > N or ny > N:\n",
    "        continue\n",
    "       \n",
    "    x,y = nx,ny\n",
    "    \n",
    "print(x,y)"
   ]
  },
  {
   "cell_type": "markdown",
   "id": "c32b52c8",
   "metadata": {},
   "source": [
    "## <문제> : 문자열 재정렬\n",
    "#### 알파벳 대문자와 숫자(0~9) 구성된 문자열이 입력으로 주어짐\n",
    "#### 이때 모든 알파벳을 오름차순으로 정렬하여 이어서 출력한 뒤에, 그 뒤의 모든 숫자를 더한 값을 이어서 출력\n",
    "#### e.g : K1KA5CB7 -> ABCKK13 \n",
    "\n",
    "\n",
    "\n",
    "\n",
    "#### ★★★ 해당 문제를 풀 때 알아야 하는 메서드 ★★★\n",
    "* 리스트에 문자열이 있는지 확인하는 메서드 -> 리스트명.isalpha() \n",
    "* 리스트 정렬 -> 리스트명.sort()\n",
    "* \"\".join(리스트명) -> 공백을 가지면서 출력하는 값을 \"\".join(리스트명)으로 공백제거"
   ]
  },
  {
   "cell_type": "code",
   "execution_count": 28,
   "id": "886de0f0",
   "metadata": {},
   "outputs": [
    {
     "name": "stdout",
     "output_type": "stream",
     "text": [
      "K1KA5CB7\n",
      "ABCKK13\n"
     ]
    }
   ],
   "source": [
    "# 문자열 입력 되었을 때 문자를 하나씩 확인 \n",
    "# 숫자인 경우 전부 더해주며, 알파벳(문자) 일 경우 arr 리스트에 넣어준 후 sorted 써서 정렬 후 출력\n",
    "\n",
    "word_number = input()\n",
    "arr = []\n",
    "temp = 0\n",
    "\n",
    "for i in word_number:\n",
    "    \n",
    "    # isalpah()함수로 문자열이라면 arr 리스트에 삽입\n",
    "    if i.isalpha():\n",
    "        arr.append(i)\n",
    "\n",
    "    # 숫자라면 전부 합산 \n",
    "    else :\n",
    "        temp += int(i) # 문자열로 입력되었기 때문에 int(i) 로 받아야함\n",
    "\n",
    "        \n",
    "# 리스트에 저장된 알파벳 리스트 정렬 sort() 사용\n",
    "arr.sort()\n",
    "\n",
    "# 이제 정렬된 리스트 맨 뒤에 값을 더한 것을 추가하면 됨(temp의 값이 하나라도 존재할 경우~)\n",
    "if temp != 0:\n",
    "    arr.append(str(temp))\n",
    "    \n",
    "    \n",
    "print(\"\".join((arr)))"
   ]
  }
 ],
 "metadata": {
  "kernelspec": {
   "display_name": "Python 3",
   "language": "python",
   "name": "python3"
  },
  "language_info": {
   "codemirror_mode": {
    "name": "ipython",
    "version": 3
   },
   "file_extension": ".py",
   "mimetype": "text/x-python",
   "name": "python",
   "nbconvert_exporter": "python",
   "pygments_lexer": "ipython3",
   "version": "3.8.8"
  }
 },
 "nbformat": 4,
 "nbformat_minor": 5
}
