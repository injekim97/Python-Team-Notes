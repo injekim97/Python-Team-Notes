{
 "cells": [
  {
   "cell_type": "code",
   "execution_count": 11,
   "id": "083b951a",
   "metadata": {},
   "outputs": [
    {
     "name": "stdout",
     "output_type": "stream",
     "text": [
      "10 20 30 40\n",
      "100\n"
     ]
    }
   ],
   "source": [
    "# ★★★ 정수로 입력한 후, for 문으로 리스트에 접근하는 방법 ★★★\n",
    "# -> for i in range(1,len(num)):\n",
    "\n",
    "\n",
    "num = list(map(int,input().split()))\n",
    "\n",
    "tmp = 0\n",
    "for i in range(0,len(num)):\n",
    "    tmp += num[i]\n",
    "    \n",
    "print(tmp)"
   ]
  },
  {
   "cell_type": "code",
   "execution_count": 12,
   "id": "da32d1c5",
   "metadata": {},
   "outputs": [
    {
     "name": "stdout",
     "output_type": "stream",
     "text": [
      "150\n",
      "266\n",
      "427\n",
      "['1', '7', '0', '3', '7', '3', '0', '0']\n"
     ]
    }
   ],
   "source": [
    "# ★★★ 정수형을 문자열로 바꾼 후 리스트 변경 방법 ★★★\n",
    "\n",
    "# input -----> 세자리 수 입력 후 곱해줌\n",
    "mul = 1\n",
    "for i in range(3):\n",
    "    num2 = int(input())\n",
    "    mul *= num2\n",
    "    \n",
    "mul_list_value = list(str(mul)) # 정수형을 문자열로 바꾼 후, 리스트로 변경  # ['1', '7', '0', '3', '7', '3', '0', '0']\n",
    "print(mul_list_value)\n",
    "\n",
    "\n",
    "\n",
    "# ★★★ for 문을 통해 str(i)로 문자열 == 리스트 내에 있는 문자열 비교  ★★★\n",
    "# output -->  0~9까지 수를 출력해서 나타냄\n",
    "for i in range(10):    \n",
    "    \n",
    "    # ★★★ 0~9 문자열(str)과 리스트의 값(str)을 인덱싱 해서 비교 가능 ★★★\n",
    "    # 즉 아래 코드는 \"0\"~\"9\" == 리스트 값 ['1', '7', '0', '3', '7', '3', '0', '0']\n",
    "    if(str(i) == mul_list_value) :\n",
    "        mul_list_value.count(str(i)) # 같은 값을 count 해서 숫자 세려라 0이 1개면 0은 1개 \n",
    "\n",
    "    print(mul_list_value.count(str(i))) "
   ]
  },
  {
   "cell_type": "code",
   "execution_count": 13,
   "id": "5fd9f107",
   "metadata": {},
   "outputs": [
    {
     "name": "stdout",
     "output_type": "stream",
     "text": [
      "2\n",
      "3 ABC\n",
      "AAABBBCCC\n",
      "5 /HTP\n",
      "/////HHHHHTTTTTPPPPP\n"
     ]
    }
   ],
   "source": [
    "# ★★★ 입력한 값을 for 문에 넣어서 바로 곱해주는 연산 ★★★\n",
    "# 3 * ABC => AAABBBCCC\n",
    "\n",
    "\n",
    "T = int(input())\n",
    "\n",
    "temp = []\n",
    "for i in range(T):\n",
    "    S,R = input().split()\n",
    "    temp.append(R)\n",
    "    \n",
    "    \n",
    "    for i in range(len(R)):\n",
    "        print(int(S) * R[i], end=\"\")\n",
    "    print()"
   ]
  },
  {
   "cell_type": "code",
   "execution_count": 14,
   "id": "fee5393c",
   "metadata": {},
   "outputs": [
    {
     "name": "stdout",
     "output_type": "stream",
     "text": [
      "123 456\n",
      "654\n"
     ]
    }
   ],
   "source": [
    "# ★★★ 리스트 값 reverse 하는 방법 ★★★\n",
    "\n",
    "\n",
    "# ★★ reverse를 쓰기 위해서 str으로 선언 한 후 [::-1]을 이용하여 뒤집는다 ★★\n",
    "num1,num2 = list(map(str,input().split()))  # 734 , 893\n",
    "\n",
    "reverse_num1 = num1[::-1] # 437\n",
    "reverse_num2 = num2[::-1] # 398\n",
    "\n",
    "\n",
    "if reverse_num1 > reverse_num2 :\n",
    "    print(reverse_num1)\n",
    "    \n",
    "else :\n",
    "    print(reverse_num2)"
   ]
  },
  {
   "cell_type": "code",
   "execution_count": 15,
   "id": "ee37ccbb",
   "metadata": {},
   "outputs": [
    {
     "name": "stdout",
     "output_type": "stream",
     "text": [
      "baekjoon\n",
      "1 0 -1 -1 2 -1 -1 -1 -1 4 3 -1 -1 7 5 -1 -1 -1 -1 -1 -1 -1 -1 -1 -1 -1\n"
     ]
    }
   ],
   "source": [
    "# S.find(chr(i))  -> 값이 존재하면 인덱스 위치 값, 존재하지 않으면 -1\n",
    "# ★★★ 정수를 아스키코드로 변환 -> chr() ★★★\n",
    "\n",
    "S = input().lower()\n",
    "\n",
    "arr = []\n",
    "for i in range(97,123): \n",
    "    arr.append(S.find(chr(i)))\n",
    "    \n",
    "print(* arr)"
   ]
  },
  {
   "cell_type": "code",
   "execution_count": 17,
   "id": "73cc3cad",
   "metadata": {},
   "outputs": [
    {
     "name": "stdout",
     "output_type": "stream",
     "text": [
      "3\n",
      "10 20 30\n",
      "10 30\n"
     ]
    }
   ],
   "source": [
    "# list 내 최소값 , 최대값 출력\n",
    "\n",
    "\n",
    "N = int(input())\n",
    "num = list(map(int,input().split()))\n",
    "\n",
    "print(min(num),max(num))"
   ]
  },
  {
   "cell_type": "markdown",
   "id": "8d8ae5e8",
   "metadata": {},
   "source": [
    "## 아스키 코드\n",
    "#### ord (문자 입력 -> 숫자), 암기법은 o , 8진수를 떠올려 정수로 바꿔준다고 생각\n",
    "* word = ord(input())\n",
    "\n",
    "#### chr(숫자 입력 -> 문자), 암기법은 c , char형을 떠올려 문자로 바꿔준다고 생각 \n",
    "* word = chr(int(input()))"
   ]
  },
  {
   "cell_type": "code",
   "execution_count": 19,
   "id": "3ac98fa3",
   "metadata": {},
   "outputs": [
    {
     "name": "stdout",
     "output_type": "stream",
     "text": [
      "A\n",
      "65\n"
     ]
    }
   ],
   "source": [
    "# 입력한 문자를 아스키 코드로 변경\n",
    "word = ord(input())\n",
    "print(word)"
   ]
  },
  {
   "cell_type": "code",
   "execution_count": 20,
   "id": "ccd43f04",
   "metadata": {},
   "outputs": [
    {
     "name": "stdout",
     "output_type": "stream",
     "text": [
      "97\n",
      "a\n"
     ]
    }
   ],
   "source": [
    "# 입력한 정수를 아스키코드로 변경\n",
    "word2 = chr(int(input()))\n",
    "print(word2)"
   ]
  }
 ],
 "metadata": {
  "kernelspec": {
   "display_name": "Python 3",
   "language": "python",
   "name": "python3"
  },
  "language_info": {
   "codemirror_mode": {
    "name": "ipython",
    "version": 3
   },
   "file_extension": ".py",
   "mimetype": "text/x-python",
   "name": "python",
   "nbconvert_exporter": "python",
   "pygments_lexer": "ipython3",
   "version": "3.8.8"
  }
 },
 "nbformat": 4,
 "nbformat_minor": 5
}
