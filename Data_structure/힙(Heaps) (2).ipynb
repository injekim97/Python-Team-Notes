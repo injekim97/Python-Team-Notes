{
 "cells": [
  {
   "cell_type": "markdown",
   "id": "c039ea1c",
   "metadata": {},
   "source": [
    "## 힙 (Heaps) "
   ]
  },
  {
   "cell_type": "markdown",
   "id": "95866757",
   "metadata": {},
   "source": [
    "### 최대 힙에서 원소의 삭제\n",
    "1.루트 노드의 제거 - 이것이 원소들 중 최댓값\n",
    "\n",
    "2.트리 마지막 자리 노드를 임시로 루트 노드의 자리에 배치\n",
    "\n",
    "3.자식 노드들과의 값 비교와 아래로, 아래로 이동\n",
    "- 자식은 둘 있을 수도 있는데, 어느 쪽으로 이동?"
   ]
  },
  {
   "cell_type": "markdown",
   "id": "31ed451e",
   "metadata": {},
   "source": [
    "### 최대 힙으로부터 원소 삭제 - 복잡도\n",
    "\n",
    "원소의 개수가 n 인 최대 힙에서 최대 원소 삭제\n",
    "* 자식 노드들과의 대소 비교 최대 회수 : 2 * log_2n\n",
    "\n",
    "최악 복잡도 O(logn)의 삭제 연산"
   ]
  },
  {
   "cell_type": "markdown",
   "id": "87a80cf2",
   "metadata": {},
   "source": [
    "### 삭제 연산의 구현 - remove() 메서드"
   ]
  },
  {
   "cell_type": "code",
   "execution_count": 1,
   "id": "9402ddca",
   "metadata": {},
   "outputs": [],
   "source": [
    "class MaxHeap :\n",
    "    def remove(self) :\n",
    "        \n",
    "        # 길이가 1이 넘어야 하나 이상의 노드를 존재하는 경우(0은 버리니까)\n",
    "        if len(self.data) > 1:\n",
    "        \n",
    "            # self.data[1]  =  root node 가 들어가 있음  \n",
    "            # self.data[-1] =  맨 마지막 원소임\n",
    "            self.data[1],self.data[-1] = self.data[-1],self.data[1]\n",
    "    \n",
    "            data = self.data.pop(-1) # 자리 바꾼 후, root node 의 값을 추출함\n",
    "        \n",
    "            # 재귀를 통해 아래로 아래로 내리는 과정\n",
    "            # (1) = root node 부터 시작해서 최대힙을 유지하기 위함       \n",
    "            self.maxHeapify(1)  \n",
    "            \n",
    "            \n",
    "        # 길이가 1을 넘지 못한다면 (1이하)\n",
    "        else :\n",
    "            data = None \n",
    "          \n",
    "        \n",
    "        return data"
   ]
  },
  {
   "cell_type": "markdown",
   "id": "a9d4daff",
   "metadata": {},
   "source": [
    "### 삭제 연산의 구현 - maxHeapify() 메서드"
   ]
  },
  {
   "cell_type": "code",
   "execution_count": 2,
   "id": "8fdfc39f",
   "metadata": {},
   "outputs": [],
   "source": [
    "class MaxHeap :\n",
    "    \n",
    "    # i = 어느 노드 기준으로 시작할지 (index)\n",
    "    def maxHeapify(self,i) :\n",
    "        left = ...\n",
    "        right =  ...\n",
    "        smallest = i # 작은 값의 인덱스를 가지는 값으로 초기화\n",
    "        \n",
    "        \n",
    "        #  자신(i) m, 왼쪽 자식(left) , 오른쪽 자식(right) 중 최대를 찾음\n",
    "        #  3개 중 최대를 찾아서 인덱스를 smallest에 삽입\n",
    "        \n",
    "        # if smallest != i : \n",
    "            # 현재 노드 (i) 와 최대값 노드(smallest) 의 값 바꾼 후\n",
    "            # 재귀적으로 maxHeapify를 호출"
   ]
  },
  {
   "cell_type": "markdown",
   "id": "fa1a904a",
   "metadata": {},
   "source": [
    "### 최대 & 최소 힙의 응용\n",
    "1.우선 순위 큐(priority queue)\n",
    "* Enqueue 할 때 \"느슨한 정렬\" 을 이루고 있도록 함 : O(logn)\n",
    "* Dequeue 할 때 최댓값을 순서대로 추출 : O(logn)\n",
    "* 시간적으로의 장점은 최대 & 최소 힙 > 양방향 연결리스트\n",
    "\n",
    "\n",
    "2.힙 정렬(heap sort)\n",
    "* 정렬되지 않은 원소들을 아무 순서로나 최대 힙에 삽입 : O(logn)\n",
    "* 삽입이 끝나면, 힙이 비게 될 때까지 하나씩 삭제 : O(logn)\n",
    "* 원소들이 삭제된 순서가 원소들의 정렬 순서\n",
    "* 정렬 알고리즘의 복잡도 : O(nlogn)"
   ]
  },
  {
   "cell_type": "markdown",
   "id": "6398d9df",
   "metadata": {},
   "source": [
    "### 힙 정렬(heap sort) 의 코드 구현"
   ]
  },
  {
   "cell_type": "code",
   "execution_count": 3,
   "id": "daf02409",
   "metadata": {},
   "outputs": [],
   "source": [
    "def heapsort(unsorted) :\n",
    "    H = MaxHeap() \n",
    "    \n",
    "    for item in unsorted:\n",
    "        H.insert(item)\n",
    "        \n",
    "    sorted = []\n",
    "    \n",
    "    \n",
    "    # 핵심적인 코드 (정렬되지 않은 값들이 정렬됨)    \n",
    "    d = H.remove()\n",
    "    while d:\n",
    "        sorted.append(d)\n",
    "        d = H.remove()\n",
    "\n",
    "    return sorted"
   ]
  },
  {
   "cell_type": "markdown",
   "id": "0ac73165",
   "metadata": {},
   "source": [
    "### 연습문제 - 최대 힙에서의 원소 삭제"
   ]
  },
  {
   "cell_type": "code",
   "execution_count": 4,
   "id": "7421bab9",
   "metadata": {},
   "outputs": [],
   "source": [
    "class MaxHeap:\n",
    "\n",
    "    def __init__(self):\n",
    "        self.data = [None]\n",
    "\n",
    "\n",
    "    def remove(self):\n",
    "        if len(self.data) > 1:\n",
    "            self.data[1], self.data[-1] = self.data[-1], self.data[1]\n",
    "            data = self.data.pop(-1)\n",
    "            self.maxHeapify(1)\n",
    "        else:\n",
    "            data = None\n",
    "        return data\n",
    "\n",
    "\n",
    "    \n",
    "    \n",
    "    # maxHeapify 전부다 빈칸\n",
    "    def maxHeapify(self, i):\n",
    "        # 왼쪽 자식 (left child) 의 인덱스를 계산합니다. \n",
    "        left = 2 * i\n",
    "\n",
    "        # 오른쪽 자식 (right child) 의 인덱스를 계산합니다.\n",
    "        right = 2 * i + 1\n",
    "\n",
    "        smallest = i\n",
    "        \n",
    "        # 왼쪽 자식이 존재하는지, 그리고 왼쪽 자식의 (키) 값이 (무엇보다?) 더 큰지를 판단합니다.\n",
    "        if left < len(self.data) and self.data[left] > self.data[smallest] :\n",
    "            # 조건이 만족하는 경우, smallest 는 왼쪽 자식의 인덱스를 가집니다.\n",
    "            smallest = left\n",
    "\n",
    "            \n",
    "        # 오른쪽 자식이 존재하는지, 그리고 오른쪽 자식의 (키) 값이 (무엇보다?) 더 큰지를 판단합니다.\n",
    "        if right < len(self.data) and self.data[right] > self.data[smallest] :\n",
    "            # 조건이 만족하는 경우, smallest 는 오른쪽 자식의 인덱스를 가집니다.\n",
    "            smallest = right\n",
    "\n",
    "            \n",
    "        if smallest != i:\n",
    "            # 현재 노드 (인덱스 i) 와 최댓값 노드 (왼쪽 아니면 오른쪽 자식) 를 교체합니다.\n",
    "            self.data[smallest],self.data[i] = self.data[i],self.data[smallest]\n",
    "\n",
    "            # 재귀적 호출을 이용하여 최대 힙의 성질을 만족할 때까지 트리를 정리합니다.\n",
    "            self.maxHeapify(smallest)\n",
    "\n",
    "\n",
    "def solution(x):\n",
    "    return 0"
   ]
  }
 ],
 "metadata": {
  "kernelspec": {
   "display_name": "Python 3",
   "language": "python",
   "name": "python3"
  },
  "language_info": {
   "codemirror_mode": {
    "name": "ipython",
    "version": 3
   },
   "file_extension": ".py",
   "mimetype": "text/x-python",
   "name": "python",
   "nbconvert_exporter": "python",
   "pygments_lexer": "ipython3",
   "version": "3.8.8"
  }
 },
 "nbformat": 4,
 "nbformat_minor": 5
}
