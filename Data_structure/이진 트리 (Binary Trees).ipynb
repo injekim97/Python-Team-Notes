{
 "cells": [
  {
   "cell_type": "markdown",
   "id": "44029043",
   "metadata": {},
   "source": [
    "## 이진 트리 (Binary Trees)\n",
    "\n",
    "#### 이진 트리의 추상적 자료구조\n",
    "##### 연산의 정의\n",
    "\n",
    "size()\n",
    "- 현재 트리에 포함되어 있는 노드의 수를 구함\n",
    "\n",
    "depth()\n",
    "- 현재 트리의 깊이(트리의 높이)를 구함\n",
    "\n",
    "순회(traversal)"
   ]
  },
  {
   "cell_type": "markdown",
   "id": "37f912f0",
   "metadata": {},
   "source": [
    "### 이진 트리의 구현 - 노드(Node)\n",
    "* Data 노드에 left, right를 가질 수 있음\n",
    "\n",
    "Node\n",
    "- Data\n",
    "- Left child\n",
    "- Right child"
   ]
  },
  {
   "cell_type": "code",
   "execution_count": 3,
   "id": "0e0c2a81",
   "metadata": {},
   "outputs": [],
   "source": [
    "# 이진 트리의 구현 - 노드(Node)\n",
    "# 위의 Node 구조를 보고 코드로 구현 하면 이해할 것\n",
    "class Node:\n",
    "    def __init__(self,item):\n",
    "        self.data = item\n",
    "        self.left = None\n",
    "        self.right = None"
   ]
  },
  {
   "cell_type": "code",
   "execution_count": 4,
   "id": "c9544058",
   "metadata": {},
   "outputs": [],
   "source": [
    "# 이진 트리의 구현 - 트리(Tree)\n",
    "# 루트 노드(root node)를 어느 것인지 가리켜야 함\n",
    "\n",
    "class BinaryTree:\n",
    "    def __init__(self,) :\n",
    "        self.root = r"
   ]
  },
  {
   "cell_type": "markdown",
   "id": "ca1589ed",
   "metadata": {},
   "source": [
    "### 이진 트리의 구현 - size()\n",
    "* 재귀적인 방법으로 쉽게 구할 수 있음\n",
    "* 예를 들면 루트 노드를 제외한 \n",
    "* left subtree 의 size() == 4 와 right subtree 의 size() == 4 라고 한다면?\n",
    "* 전체 이진 트리의 size()는 = left subtree size() + right subtree size() + 1 = 9"
   ]
  },
  {
   "cell_type": "code",
   "execution_count": 5,
   "id": "70ef22dd",
   "metadata": {},
   "outputs": [],
   "source": [
    "# 이진 트리의 구현 - size()\n",
    "\n",
    "class Node:\n",
    "    def size(self) :\n",
    "        l = self.left.size() if self.left else 0    # left의 size가 없다면 0으로 초기화\n",
    "        r = self.right.size() if self.right else 0  # right의 size가 없다면 0으로 초기화\n",
    "        return l + r + 1  # 위의 전체 이진 트리 size() 구하는 식과 동일 \n",
    "    \n",
    "\n",
    "class BinaryTree:\n",
    "    def size(self) :\n",
    "        # 루트 노드라면?\n",
    "        if self.root :\n",
    "            return self.root.size()\n",
    "        \n",
    "        #비어 있는 트리라면?\n",
    "        else :\n",
    "            return 0"
   ]
  },
  {
   "cell_type": "code",
   "execution_count": 7,
   "id": "ca807698",
   "metadata": {},
   "outputs": [],
   "source": [
    "# 이진 트리의 구현 - depth()\n",
    "# 재귀적인 방법으로 쉽게 구할 수 있음\n",
    "# left subtree() 의 depth() == 2 , right subtree() 의 depth() == 1\n",
    "# 전체 이진 트리의 depth() = left subtree의 depth() 와 right subtree의 depth() 중 더 큰 것에 + 1\n",
    "\n",
    "\n",
    "\n",
    "\n",
    "# https://programmers.co.kr/learn/courses/57/lessons/13863\n",
    "# 8분 17초"
   ]
  },
  {
   "cell_type": "code",
   "execution_count": null,
   "id": "bdb21a81",
   "metadata": {},
   "outputs": [],
   "source": []
  },
  {
   "cell_type": "code",
   "execution_count": null,
   "id": "d15e6adf",
   "metadata": {},
   "outputs": [],
   "source": []
  }
 ],
 "metadata": {
  "kernelspec": {
   "display_name": "Python 3",
   "language": "python",
   "name": "python3"
  },
  "language_info": {
   "codemirror_mode": {
    "name": "ipython",
    "version": 3
   },
   "file_extension": ".py",
   "mimetype": "text/x-python",
   "name": "python",
   "nbconvert_exporter": "python",
   "pygments_lexer": "ipython3",
   "version": "3.8.8"
  }
 },
 "nbformat": 4,
 "nbformat_minor": 5
}
