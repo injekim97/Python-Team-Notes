{
 "cells": [
  {
   "cell_type": "markdown",
   "id": "d666baa8",
   "metadata": {},
   "source": [
    "## 조합의 수 계산 - 재귀적 방법\n",
    "#### 문제: n 개의 서로 다른 원소에서 m 개를 택하는 경우의 수\n",
    "\n",
    "* 조합 식 : n,m = n-1,m + n-1 + m-1\n"
   ]
  },
  {
   "cell_type": "code",
   "execution_count": 15,
   "id": "6a6950cf",
   "metadata": {},
   "outputs": [
    {
     "data": {
      "text/plain": [
       "66"
      ]
     },
     "execution_count": 15,
     "metadata": {},
     "output_type": "execute_result"
    }
   ],
   "source": [
    "def combi(n,m) :\n",
    "    \n",
    "    if n == m :\n",
    "        return 1\n",
    "    \n",
    "    elif m == 0 :\n",
    "        return 1\n",
    "\n",
    "    return combi(n-1,m)+combi(n-1,m-1)\n",
    "\n",
    "\n",
    "combi(12,2)"
   ]
  },
  {
   "cell_type": "markdown",
   "id": "bbf03bb8",
   "metadata": {},
   "source": [
    "#### 전에 했던 피보나치 재귀 알고리즘의 효율에 대해 설명\n",
    "* fibo(4) = fibo(3) + fibo(2)\n",
    "* fibo(3) + fibo(2) = fibo(2) + fibo(1) + fibo(1) + fibo(0)\n",
    "* fibo(2) = fibo(1) + fibo(0)   \n",
    "#### 도합 8 번의 함수 호출"
   ]
  },
  {
   "cell_type": "code",
   "execution_count": 26,
   "id": "53d5eac7",
   "metadata": {},
   "outputs": [
    {
     "name": "stdout",
     "output_type": "stream",
     "text": [
      "숫자 입력: 35\n",
      "Iterative version: 9227465 (0.000)\n",
      "Recursive version: 9227465 (2.300)\n",
      "\n",
      "숫자 입력: 40\n",
      "Iterative version: 102334155 (0.000)\n",
      "Recursive version: 102334155 (25.433)\n",
      "\n",
      "숫자 입력: -1\n",
      "Iterative version: -1 (0.000)\n",
      "Recursive version: -1 (0.000)\n",
      "\n"
     ]
    },
    {
     "ename": "KeyboardInterrupt",
     "evalue": "Interrupted by user",
     "output_type": "error",
     "traceback": [
      "\u001b[1;31m---------------------------------------------------------------------------\u001b[0m",
      "\u001b[1;31mKeyboardInterrupt\u001b[0m                         Traceback (most recent call last)",
      "\u001b[1;32m<ipython-input-26-7d33f185421c>\u001b[0m in \u001b[0;36m<module>\u001b[1;34m\u001b[0m\n\u001b[0;32m     37\u001b[0m \u001b[1;33m\u001b[0m\u001b[0m\n\u001b[0;32m     38\u001b[0m \u001b[1;32mwhile\u001b[0m \u001b[1;32mTrue\u001b[0m \u001b[1;33m:\u001b[0m\u001b[1;33m\u001b[0m\u001b[1;33m\u001b[0m\u001b[0m\n\u001b[1;32m---> 39\u001b[1;33m     \u001b[0mn\u001b[0m \u001b[1;33m=\u001b[0m \u001b[0mint\u001b[0m\u001b[1;33m(\u001b[0m\u001b[0minput\u001b[0m\u001b[1;33m(\u001b[0m\u001b[1;34m\"숫자 입력: \"\u001b[0m\u001b[1;33m)\u001b[0m\u001b[1;33m)\u001b[0m\u001b[1;33m\u001b[0m\u001b[1;33m\u001b[0m\u001b[0m\n\u001b[0m\u001b[0;32m     40\u001b[0m \u001b[1;33m\u001b[0m\u001b[0m\n\u001b[0;32m     41\u001b[0m     \u001b[1;31m# -1 이라면 종료\u001b[0m\u001b[1;33m\u001b[0m\u001b[1;33m\u001b[0m\u001b[1;33m\u001b[0m\u001b[0m\n",
      "\u001b[1;32mC:\\ProgramData\\Anaconda3\\lib\\site-packages\\ipykernel\\kernelbase.py\u001b[0m in \u001b[0;36mraw_input\u001b[1;34m(self, prompt)\u001b[0m\n\u001b[0;32m    858\u001b[0m                 \u001b[1;34m\"raw_input was called, but this frontend does not support input requests.\"\u001b[0m\u001b[1;33m\u001b[0m\u001b[1;33m\u001b[0m\u001b[0m\n\u001b[0;32m    859\u001b[0m             )\n\u001b[1;32m--> 860\u001b[1;33m         return self._input_request(str(prompt),\n\u001b[0m\u001b[0;32m    861\u001b[0m             \u001b[0mself\u001b[0m\u001b[1;33m.\u001b[0m\u001b[0m_parent_ident\u001b[0m\u001b[1;33m,\u001b[0m\u001b[1;33m\u001b[0m\u001b[1;33m\u001b[0m\u001b[0m\n\u001b[0;32m    862\u001b[0m             \u001b[0mself\u001b[0m\u001b[1;33m.\u001b[0m\u001b[0m_parent_header\u001b[0m\u001b[1;33m,\u001b[0m\u001b[1;33m\u001b[0m\u001b[1;33m\u001b[0m\u001b[0m\n",
      "\u001b[1;32mC:\\ProgramData\\Anaconda3\\lib\\site-packages\\ipykernel\\kernelbase.py\u001b[0m in \u001b[0;36m_input_request\u001b[1;34m(self, prompt, ident, parent, password)\u001b[0m\n\u001b[0;32m    902\u001b[0m             \u001b[1;32mexcept\u001b[0m \u001b[0mKeyboardInterrupt\u001b[0m\u001b[1;33m:\u001b[0m\u001b[1;33m\u001b[0m\u001b[1;33m\u001b[0m\u001b[0m\n\u001b[0;32m    903\u001b[0m                 \u001b[1;31m# re-raise KeyboardInterrupt, to truncate traceback\u001b[0m\u001b[1;33m\u001b[0m\u001b[1;33m\u001b[0m\u001b[1;33m\u001b[0m\u001b[0m\n\u001b[1;32m--> 904\u001b[1;33m                 \u001b[1;32mraise\u001b[0m \u001b[0mKeyboardInterrupt\u001b[0m\u001b[1;33m(\u001b[0m\u001b[1;34m\"Interrupted by user\"\u001b[0m\u001b[1;33m)\u001b[0m \u001b[1;32mfrom\u001b[0m \u001b[1;32mNone\u001b[0m\u001b[1;33m\u001b[0m\u001b[1;33m\u001b[0m\u001b[0m\n\u001b[0m\u001b[0;32m    905\u001b[0m             \u001b[1;32mexcept\u001b[0m \u001b[0mException\u001b[0m \u001b[1;32mas\u001b[0m \u001b[0me\u001b[0m\u001b[1;33m:\u001b[0m\u001b[1;33m\u001b[0m\u001b[1;33m\u001b[0m\u001b[0m\n\u001b[0;32m    906\u001b[0m                 \u001b[0mself\u001b[0m\u001b[1;33m.\u001b[0m\u001b[0mlog\u001b[0m\u001b[1;33m.\u001b[0m\u001b[0mwarning\u001b[0m\u001b[1;33m(\u001b[0m\u001b[1;34m\"Invalid Message:\"\u001b[0m\u001b[1;33m,\u001b[0m \u001b[0mexc_info\u001b[0m\u001b[1;33m=\u001b[0m\u001b[1;32mTrue\u001b[0m\u001b[1;33m)\u001b[0m\u001b[1;33m\u001b[0m\u001b[1;33m\u001b[0m\u001b[0m\n",
      "\u001b[1;31mKeyboardInterrupt\u001b[0m: Interrupted by user"
     ]
    }
   ],
   "source": [
    "import time\n",
    "\n",
    "\n",
    "# 피보나치 - 재귀적 함수(Recursive version)\n",
    "\n",
    "def rec_fibo(n) :\n",
    "    # f0 또는 f1을 n으로 처리 - 종결문\n",
    "    if n <= 1:\n",
    "        return n\n",
    "    \n",
    "    else :\n",
    "        return rec_fibo(n-1) + rec_fibo(n-2)\n",
    "        \n",
    "        \n",
    "        \n",
    "        \n",
    "\n",
    "# 피보나치 - 반복적 함수 사용 (Iterative version)\n",
    "def iter_fibo(n) :\n",
    "    \n",
    "    # f0 또는 f1을 n으로 처리 - 종결문\n",
    "    if n <= 1:\n",
    "        return n\n",
    "    \n",
    "    \n",
    "    else :\n",
    "        i = 2\n",
    "        t0 = 0\n",
    "        t1 = 1\n",
    "        \n",
    "        # 2이상 일 때 ~\n",
    "        while i <= n:\n",
    "            t0,t1 = t1, t0 + t1 # t0 = t1, t1 = t0 + t1\n",
    "            i += 1\n",
    "        return t1\n",
    "    \n",
    "    \n",
    "while True :\n",
    "    n = int(input(\"숫자 입력: \"))\n",
    "    \n",
    "    # -1 이라면 종료\n",
    "    if num == -1 :\n",
    "        break\n",
    "        \n",
    "    # 시간 측정\n",
    "    ts = time.time()\n",
    "    fibo = iter_fibo(n)\n",
    "    ts = time.time() - ts\n",
    "    print(\"Iterative version: %d (%.3f)\" %(fibo,ts))  # 반복 함수 시간\n",
    "    \n",
    "    ts = time.time()\n",
    "    fibo = rec_fibo(n)\n",
    "    ts = time.time() - ts\n",
    "    print(\"Recursive version: %d (%.3f)\" %(fibo,ts))  # 재귀 함수 시간\n",
    "    print()\n",
    "    \n",
    "            "
   ]
  },
  {
   "cell_type": "markdown",
   "id": "274e0d4b",
   "metadata": {},
   "source": [
    "#### 연습문제 - 재귀적 이진 탐색\n",
    "* 리스트 내에서의 범위 인덱스가 loewr 부터 upper 까지로 정해질 때, x 와 같은 값을 가지는 원소의 인덱스를 리턴하는 함수 solution() 을 완성해라\n",
    "* 만약 리스트 L 안에 x 와 같은 값을 가지는 원소가 존재하지 않는 경우에는 -1 반환\n",
    "\n",
    "\n",
    "* e.g : L = [2, 3, 5, 6, 9, 11, 15] , x = 6, lower = 0 , upper = 6 라면, L[3] == 6 이므로 3 을 리턴\n",
    "\n",
    "* e.g 2: L = [2, 5, 7, 9, 11] , x = 4 , lower = 0 , upper = 4 로 주어지면, 리스트 L 내에 4 의 원소가 존재하지 않으므로 -1 을 리턴"
   ]
  },
  {
   "cell_type": "code",
   "execution_count": 33,
   "id": "479fbed6",
   "metadata": {},
   "outputs": [
    {
     "name": "stdout",
     "output_type": "stream",
     "text": [
      "3\n",
      "-1\n"
     ]
    }
   ],
   "source": [
    "def solution(L,x,lower,upper):\n",
    "    \n",
    "    \n",
    "    # 리스트 내에 x가 발견하지 못한다면 ~\n",
    "    # 즉 x 값이 L[0] 보다 작거나 x 값이 L[6] 보다 크다면 -1로 반환\n",
    "    if x < L[lower] or x > L[upper] : \n",
    "        return -1\n",
    "    \n",
    "    middle = (lower + upper) // 2\n",
    "    \n",
    "    \n",
    "    # 값을 찾았다면 middle 반환\n",
    "    if x == L[middle] :\n",
    "        return middle\n",
    "    \n",
    "    \n",
    "    # x(값)이 middle 보다 작다면 오른쪽 값을 버려야하니 upper = middle -1\n",
    "    elif x < L[middle]:\n",
    "        return solution(L,x,lower,middle-1)\n",
    "    \n",
    "    # x(값) 이 middle 값 보다 크다면  왼쪽 값을 버려야하니 lower = middle + 1\n",
    "    else :\n",
    "        return solution(L,x,middle+1,upper)\n",
    "    \n",
    "    \n",
    "print(solution([2, 3, 5, 6, 9, 11, 15], 6, 0, 6))   # 3\n",
    "print(solution([2, 5, 7, 9, 11], 4, 0, 4))        # 리스트내에 없어서 -1 반환"
   ]
  }
 ],
 "metadata": {
  "kernelspec": {
   "display_name": "Python 3",
   "language": "python",
   "name": "python3"
  },
  "language_info": {
   "codemirror_mode": {
    "name": "ipython",
    "version": 3
   },
   "file_extension": ".py",
   "mimetype": "text/x-python",
   "name": "python",
   "nbconvert_exporter": "python",
   "pygments_lexer": "ipython3",
   "version": "3.8.8"
  }
 },
 "nbformat": 4,
 "nbformat_minor": 5
}
