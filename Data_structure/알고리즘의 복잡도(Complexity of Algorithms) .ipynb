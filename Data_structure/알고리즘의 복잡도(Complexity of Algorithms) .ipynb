{
 "cells": [
  {
   "cell_type": "markdown",
   "id": "77d9bc99",
   "metadata": {},
   "source": [
    "### 시간 복잡도 (Time Complexity)\n",
    "* 문제의 크기와 이를 해결하는 데 걸리는 시간 사이의 관계\n",
    "* 입력으로 주어진 데이터 집합의 크기에 따라 얼마나 시간이 걸리느냐?\n",
    "\n",
    "\n",
    "### 평균 시간 복잡도 (Average Time Complexity)\n",
    "* 임의의 입력 패턴을 가정했을 때 소요되는 시간의 평균\n",
    "\n",
    "\n",
    "### 최악 시간 복잡도 (Worst-case Time Complexity)\n",
    "* 가장 긴 시간을 소요하게 만드는 입력에 따라 소요되는 시간\n",
    "\n",
    "\n",
    "### 공간 복잡도 (Space Complexity)\n",
    "* 문제의 크기와 이를 해결하는 데 필요한 메모리 공간 사이의 관계\n",
    "* 이 문제를 푸는 데 메모리 공간을 얼마나 사용해야 하는 가?"
   ]
  },
  {
   "cell_type": "markdown",
   "id": "33d8be65",
   "metadata": {},
   "source": [
    "### Big-O Notation\n",
    "* 점근 표기법 (asymptotic notation) 의 하나\n",
    "* 어떤 함수의 증가 양상을 다른 함수와의 비교로 표현(알고리즘의 복잡도를 표현할 때 흔히 쓰임)\n",
    "* O(logn),O(n),O(n^2),O(2^n) 등으로 표기\n",
    "\n",
    "\n",
    "### e.g : 수학적인 정의는 일단 차지하고, 입력의 크기가 n 일 때, \n",
    "* O(logn) - 입력의 크기에 로그이 비례하는 시간 소요\n",
    "* O(n) - 입력의 크기에 비례하는 시간 소요 \n",
    "\n",
    "* ★계수는 그다지 중요하지 않음.★\n",
    "* 100n 10000n => O(n) 둘다 똑같음"
   ]
  },
  {
   "cell_type": "markdown",
   "id": "41d9db2c",
   "metadata": {},
   "source": [
    "### 선형 시간 알고리즘 - O(n)\n",
    "n개의 무작위로 나열된 수에서 최댓값을 찾기 위해 선형 탐색 알고리즘을 적용\n",
    "* e.g : L = [3,8,2,7,6,10,9]     \n",
    "* 최댓값 -> 끝까지 다 살펴 보기 전에 알 수 없음(즉 끝까지 봐야 알 수 있음)\n",
    "* Average case: O(n)\n",
    "* Worst-case : O(n)"
   ]
  },
  {
   "cell_type": "markdown",
   "id": "62c2f05c",
   "metadata": {},
   "source": [
    "### 로그 시간 알고리즘 - O(logn)\n",
    "n 개의 크기 순으로 정렬된 수에서 특정 값을 찾기 위해 이진 탐색 알고리즘 적용\n",
    "* e.g : L = [3,8,2,7,6,10,9]     "
   ]
  },
  {
   "cell_type": "markdown",
   "id": "47ea980e",
   "metadata": {},
   "source": [
    "### 이차 시간 알고리즘 - O(n^2)\n",
    "삽입 정렬(insertion sort)\n",
    "* 하나의 원소를 집어 넣을 때 n에 비례하는 횟수를 정해야 하기 때문에 원소의 갯수를 n만큼 반복하므로 n * n => O(n^2)\n",
    "* Best case: O(n)\n",
    "* Worst case : O(n^2)"
   ]
  },
  {
   "cell_type": "markdown",
   "id": "aad8e2c2",
   "metadata": {},
   "source": [
    "### 보다 나은(낮은) 복잡도를 가지는 정렬 알고리즘\n",
    "병합 정렬 (merge sort) - O(nlogn)\n",
    "1. 정렬한 데이터를 반씩 나누어 각각을 정렬 시킴\n",
    "2. 여러명을 시켜 시험지를 학번으로 분류 O(logn)\n",
    "3. 정렬된 데이터를 두 묶음씩 합침\n",
    "4. 그렇게 하면 즉 O(nlogn) 복잡도를 가짐\n",
    "\n",
    "* 입력 패턴에 따라 절열 속도에 차이가 있지만 정렬 문제에 대해 O(nlogn) 보다 낮은 복잡도를 갖는 알고리즘은 존재 할 수 없음이 증명되었음. \n",
    "* 즉, 이게 제일 복잡도가 낮은 알고리즘 방식이다.\n",
    "\n",
    "* 그림을 봤을 때, 모든 원소를 1/2 씩 쪼개고 쪼개진 것을 또 1/2 로 쪼개면서 오름차순으로 정렬하는 알고리즘 "
   ]
  },
  {
   "cell_type": "markdown",
   "id": "88d8f6ac",
   "metadata": {},
   "source": [
    "### 복잡한 문제 중 배낭 문제(Knapsack Problem)\n",
    "\n",
    "가방은 15키로를 담을 수 있음\n",
    "\n",
    "* 10달러 - 4키로\n",
    "* 4달러 - 12키로\n",
    "* 2달러 - 1키로\n",
    "* 2달러 - 2키로\n",
    "* 1달러 - 1키로"
   ]
  },
  {
   "cell_type": "markdown",
   "id": "8d765f02",
   "metadata": {},
   "source": [
    "### 알고리즘의 복잡도(Complexity of Algorithms) 퀴즈\n",
    "\n",
    "1. N 개의 원소로 이루어진 배열을 반씩 나누어 각각 정렬한 뒤 병합 (merge) 하는 방법을 통해서, \"divide-and-conquer\" 방법으로 정렬할 수 있다. 이러한 방법으로 데이터를 정렬하는 알고리즘을 병합 정렬 (merge sort) 알고리즘의 복잡도를 big-O 점근 표기법으로 표기해라.\n",
    "* O(NlogN)\n",
    "\n",
    "2. 이미 크기 순으로 정렬되어 있는 N 개의 원소를 가지는 배열로부터, 입력으로 주어진 데이터가 배열 내에 존재하는지, 또한 존재한다면 몇 번째 원소인지를 탐색하는 방법으로서, 배열의 가운데 원소와 입력 데이터를 비교하고 그 데이터와 같은 원소가 존재할 수 없는 절반의 배열을 버리는 방식을 택할 수 있다. 이러한 탐색 방법을 이진 탐색 (binary search) 이라고 부르는데, 복잡도를 big-O 점근 표기법으로 표기해라.\n",
    "* O(logN)\n",
    "\n",
    "\n",
    "3. N 개의 원소가 무작위 순서로 늘어서 있는 배열 내에, 입력으로 주어진 데이터가 존재하는지, 그리고 존재한다면 몇 번째 위치에 존재하는지를 알아내기 위하여 배열을 처음부터 시작해서 원소를 하나씩 입력 데이터와 비교하는 방법을 적용할 수 있다. 이러한 탐색 방법을 선형 탐색 (linear search) 이라고 부르는데 big-O 점근 표기법으로 표기해라. \n",
    "* O(N)\n",
    "\n",
    "\n",
    "4. N 개의 수가 입력으로 주어진다고 할 때, 모든 원소들 사이의 대소 관계를 비교하여 N X N 행렬로 나타내고자 합니다. 이 문제를 풀기 위하여 모든 원소의 쌍에 대하여 대소 관계를 비교하여 그것을 행렬에 채우는 방법을 택한다고 할 때, 이 알고리즘의 복잡도를 big-O 점근 표기법으로 표기해라. \n",
    "* O(N^2 )\n",
    "\n",
    "\n",
    "5. for i in range(N):\n",
    "    for j in range(N):\n",
    "        C[i][j] = 0\n",
    "        for k in range(N):\n",
    "            C[i][j] += A[i][k] * B[k][j]\n",
    "\n",
    "* 3중 for문 이니까 O(N^3)"
   ]
  }
 ],
 "metadata": {
  "kernelspec": {
   "display_name": "Python 3",
   "language": "python",
   "name": "python3"
  },
  "language_info": {
   "codemirror_mode": {
    "name": "ipython",
    "version": 3
   },
   "file_extension": ".py",
   "mimetype": "text/x-python",
   "name": "python",
   "nbconvert_exporter": "python",
   "pygments_lexer": "ipython3",
   "version": "3.8.8"
  }
 },
 "nbformat": 4,
 "nbformat_minor": 5
}
