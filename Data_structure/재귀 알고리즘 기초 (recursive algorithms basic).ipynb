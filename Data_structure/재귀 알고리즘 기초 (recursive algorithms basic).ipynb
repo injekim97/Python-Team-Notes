{
 "cells": [
  {
   "cell_type": "markdown",
   "id": "583fc52e",
   "metadata": {},
   "source": [
    "## 재귀함수 (recursive functions) 란?\n",
    "* 하나의 함수에서 자신을 다시 호출하여 작업을 수행하는 것\n",
    "* 다양한 문제들을 재귀를 통해 해결 가능함 (e.g : 이진 트리(binary trees))"
   ]
  },
  {
   "cell_type": "markdown",
   "id": "352c0ae0",
   "metadata": {},
   "source": [
    "#### 이진 트리 (binary trees)\n",
    "\n",
    "e.g : 12 노드가 있다고 가정 \n",
    "* 왼쪽 서브트리의 원소들은 모두 작거나 같을 거\n",
    "* 오른쪽 서브트리의 원소들은 모두 클 것\n",
    "* 이 원칙을 모든 노드에 대해서 적용한다고 가정 \n",
    "* ★★ 트리 탐색을 통해 10을 찾을 수 있음. (그림 생략) ★★"
   ]
  },
  {
   "cell_type": "markdown",
   "id": "2ef47d0a",
   "metadata": {},
   "source": [
    "#### 자연수의 합 구하기 - 재귀함수 사용\n",
    "\n",
    "* 문제 : 1 부터 n 까지 모든 자연수의 합을 구하는 문제 \n",
    "\n",
    "def sum(n) :\n",
    "    return n + sum(n-1)\n",
    "     \n",
    "     \n",
    "그렇습니다. 1 부터 1 까지의 모든 자연수의 합은 1 이므로, 위 점화식에 덧붙여 하나의 수식을 추가해야 합니다: sum(1) = 1. 이 두 수식을 묶으면, 1 부터 n 까지의 자연수의 합을 구하는 문제의 답이 됩니다. 이것이 재귀 알고리즘 (recursive algorithm) 입니다.\n",
    "\n",
    "많은 경우, 재귀적으로 표현된 알고리즘은 사람이 이해하기는 좋지만, 컴퓨터가 알고리즘을 실행하면 그 성능도 좋을까요? 그렇지 않은 경우가 많습니다. 다음 강의인 제 5 강에서 재귀 알고리즘의 예를 추가로 소개하고, 효율성에 대한 논의도 해보기로 합시다."
   ]
  },
  {
   "cell_type": "code",
   "execution_count": 1,
   "id": "12ae33c2",
   "metadata": {},
   "outputs": [
    {
     "name": "stdout",
     "output_type": "stream",
     "text": [
      "숫자 입력: 2\n"
     ]
    },
    {
     "ename": "RecursionError",
     "evalue": "maximum recursion depth exceeded",
     "output_type": "error",
     "traceback": [
      "\u001b[1;31m---------------------------------------------------------------------------\u001b[0m",
      "\u001b[1;31mRecursionError\u001b[0m                            Traceback (most recent call last)",
      "\u001b[1;32m<ipython-input-1-6920b090a1f6>\u001b[0m in \u001b[0;36m<module>\u001b[1;34m\u001b[0m\n\u001b[0;32m      4\u001b[0m \u001b[1;33m\u001b[0m\u001b[0m\n\u001b[0;32m      5\u001b[0m \u001b[0mnum\u001b[0m \u001b[1;33m=\u001b[0m \u001b[0mint\u001b[0m\u001b[1;33m(\u001b[0m\u001b[0minput\u001b[0m\u001b[1;33m(\u001b[0m\u001b[1;34m\"숫자 입력: \"\u001b[0m\u001b[1;33m)\u001b[0m\u001b[1;33m)\u001b[0m\u001b[1;33m\u001b[0m\u001b[1;33m\u001b[0m\u001b[0m\n\u001b[1;32m----> 6\u001b[1;33m \u001b[0mprint\u001b[0m\u001b[1;33m(\u001b[0m\u001b[0msum\u001b[0m\u001b[1;33m(\u001b[0m\u001b[0mnum\u001b[0m\u001b[1;33m)\u001b[0m\u001b[1;33m)\u001b[0m   \u001b[1;31m# RecursionError: maximum recursion depth exceeded 에러 발생\u001b[0m\u001b[1;33m\u001b[0m\u001b[1;33m\u001b[0m\u001b[0m\n\u001b[0m",
      "\u001b[1;32m<ipython-input-1-6920b090a1f6>\u001b[0m in \u001b[0;36msum\u001b[1;34m(n)\u001b[0m\n\u001b[0;32m      1\u001b[0m \u001b[1;32mdef\u001b[0m \u001b[0msum\u001b[0m\u001b[1;33m(\u001b[0m\u001b[0mn\u001b[0m\u001b[1;33m)\u001b[0m\u001b[1;33m:\u001b[0m\u001b[1;33m\u001b[0m\u001b[1;33m\u001b[0m\u001b[0m\n\u001b[0;32m      2\u001b[0m     \u001b[1;31m#print(n)  # 2 ~ -2950 까지 입력됨 그래서 에러가 발생함\u001b[0m\u001b[1;33m\u001b[0m\u001b[1;33m\u001b[0m\u001b[1;33m\u001b[0m\u001b[0m\n\u001b[1;32m----> 3\u001b[1;33m     \u001b[1;32mreturn\u001b[0m \u001b[0mn\u001b[0m \u001b[1;33m+\u001b[0m \u001b[0msum\u001b[0m\u001b[1;33m(\u001b[0m\u001b[0mn\u001b[0m\u001b[1;33m-\u001b[0m\u001b[1;36m1\u001b[0m\u001b[1;33m)\u001b[0m\u001b[1;33m\u001b[0m\u001b[1;33m\u001b[0m\u001b[0m\n\u001b[0m\u001b[0;32m      4\u001b[0m \u001b[1;33m\u001b[0m\u001b[0m\n\u001b[0;32m      5\u001b[0m \u001b[0mnum\u001b[0m \u001b[1;33m=\u001b[0m \u001b[0mint\u001b[0m\u001b[1;33m(\u001b[0m\u001b[0minput\u001b[0m\u001b[1;33m(\u001b[0m\u001b[1;34m\"숫자 입력: \"\u001b[0m\u001b[1;33m)\u001b[0m\u001b[1;33m)\u001b[0m\u001b[1;33m\u001b[0m\u001b[1;33m\u001b[0m\u001b[0m\n",
      "... last 1 frames repeated, from the frame below ...\n",
      "\u001b[1;32m<ipython-input-1-6920b090a1f6>\u001b[0m in \u001b[0;36msum\u001b[1;34m(n)\u001b[0m\n\u001b[0;32m      1\u001b[0m \u001b[1;32mdef\u001b[0m \u001b[0msum\u001b[0m\u001b[1;33m(\u001b[0m\u001b[0mn\u001b[0m\u001b[1;33m)\u001b[0m\u001b[1;33m:\u001b[0m\u001b[1;33m\u001b[0m\u001b[1;33m\u001b[0m\u001b[0m\n\u001b[0;32m      2\u001b[0m     \u001b[1;31m#print(n)  # 2 ~ -2950 까지 입력됨 그래서 에러가 발생함\u001b[0m\u001b[1;33m\u001b[0m\u001b[1;33m\u001b[0m\u001b[1;33m\u001b[0m\u001b[0m\n\u001b[1;32m----> 3\u001b[1;33m     \u001b[1;32mreturn\u001b[0m \u001b[0mn\u001b[0m \u001b[1;33m+\u001b[0m \u001b[0msum\u001b[0m\u001b[1;33m(\u001b[0m\u001b[0mn\u001b[0m\u001b[1;33m-\u001b[0m\u001b[1;36m1\u001b[0m\u001b[1;33m)\u001b[0m\u001b[1;33m\u001b[0m\u001b[1;33m\u001b[0m\u001b[0m\n\u001b[0m\u001b[0;32m      4\u001b[0m \u001b[1;33m\u001b[0m\u001b[0m\n\u001b[0;32m      5\u001b[0m \u001b[0mnum\u001b[0m \u001b[1;33m=\u001b[0m \u001b[0mint\u001b[0m\u001b[1;33m(\u001b[0m\u001b[0minput\u001b[0m\u001b[1;33m(\u001b[0m\u001b[1;34m\"숫자 입력: \"\u001b[0m\u001b[1;33m)\u001b[0m\u001b[1;33m)\u001b[0m\u001b[1;33m\u001b[0m\u001b[1;33m\u001b[0m\u001b[0m\n",
      "\u001b[1;31mRecursionError\u001b[0m: maximum recursion depth exceeded"
     ]
    }
   ],
   "source": [
    "def sum(n):\n",
    "    #print(n)  # 2 ~ -2950 까지 입력됨 그래서 에러가 발생함\n",
    "    return n + sum(n-1)\n",
    "\n",
    "num = int(input(\"숫자 입력: \"))\n",
    "print(sum(num))   # RecursionError: maximum recursion depth exceeded 에러 발생"
   ]
  },
  {
   "cell_type": "markdown",
   "id": "897cfdd7",
   "metadata": {},
   "source": [
    "#### 재귀 알고리즘은 효율성에도 중요시 해야함.\n",
    "* Recursive version  vs Iterative version "
   ]
  },
  {
   "cell_type": "code",
   "execution_count": 2,
   "id": "52b49058",
   "metadata": {},
   "outputs": [
    {
     "name": "stdout",
     "output_type": "stream",
     "text": [
      "숫자 입력: 5\n",
      "5\n",
      "4\n",
      "3\n",
      "2\n",
      "1\n",
      "15\n"
     ]
    }
   ],
   "source": [
    "# 제대로 된 재귀 함수로 작성하려면? (if 문으로 - 종결 조건을 넣어줘야 함.)\n",
    "# Recursive version   O(n)\n",
    "\n",
    "def sum(n):\n",
    "    print(n)\n",
    "    \n",
    "    # ★★★★★ 재귀 호출의 종결 조건이 매우 중요함  ★★★★★\n",
    "    if n <= 1 :\n",
    "        return n \n",
    "    else :\n",
    "        return n + sum(n-1)\n",
    "\n",
    "num = int(input(\"숫자 입력: \"))\n",
    "print(sum(num))   "
   ]
  },
  {
   "cell_type": "code",
   "execution_count": 3,
   "id": "a9c1f701",
   "metadata": {},
   "outputs": [
    {
     "data": {
      "text/plain": [
       "15"
      ]
     },
     "execution_count": 3,
     "metadata": {},
     "output_type": "execute_result"
    }
   ],
   "source": [
    "# Iterative version   O(n)\n",
    "\n",
    "def sum(n):\n",
    "    temp = 0\n",
    "    while n >= 0 :\n",
    "        temp += n\n",
    "        n -= 1\n",
    "    return temp\n",
    "\n",
    "sum(5)"
   ]
  },
  {
   "cell_type": "code",
   "execution_count": 4,
   "id": "6bb0e3cf",
   "metadata": {},
   "outputs": [
    {
     "name": "stdout",
     "output_type": "stream",
     "text": [
      "6\n"
     ]
    }
   ],
   "source": [
    "#### 재귀 알고리즘 추가 예제 (팩토리얼 재귀함수)\n",
    "\n",
    "def factorial(n):\n",
    "    if n <= 1 :\n",
    "        return 1\n",
    "    else :\n",
    "        return n * factorial(n-1)\n",
    "    \n",
    "print(factorial(3))"
   ]
  },
  {
   "cell_type": "markdown",
   "id": "8145e6e4",
   "metadata": {},
   "source": [
    "## 연습문제 - Fibonacci 순열\n",
    "* F0 = 0, F1 = 1, Fn = Fn-1 + Fn -2   n >= 2\n",
    "* Recursive version  vs Iterative version 2개의 버전으로 작성"
   ]
  },
  {
   "cell_type": "code",
   "execution_count": 5,
   "id": "1b9a35eb",
   "metadata": {},
   "outputs": [
    {
     "data": {
      "text/plain": [
       "8"
      ]
     },
     "execution_count": 5,
     "metadata": {},
     "output_type": "execute_result"
    }
   ],
   "source": [
    "# Recursive version - 피보나치 \n",
    "\n",
    "def solution(x) :\n",
    "    \n",
    "    # F0 = 0\n",
    "    if x <= 0:\n",
    "        return 0\n",
    "    \n",
    "    # F1 = 1\n",
    "    elif x == 1:\n",
    "        return 1 \n",
    "    \n",
    "    # Fn = Fn-1 + Fn-2\n",
    "    else :\n",
    "        return solution(x-1) + solution(x-2)\n",
    "        \n",
    "solution(6)"
   ]
  },
  {
   "cell_type": "code",
   "execution_count": 6,
   "id": "3433f9ce",
   "metadata": {},
   "outputs": [
    {
     "data": {
      "text/plain": [
       "8"
      ]
     },
     "execution_count": 6,
     "metadata": {},
     "output_type": "execute_result"
    }
   ],
   "source": [
    "def solution2(x):\n",
    "    if( x < 2): return x\n",
    "\n",
    "    answer = solution2(x-1) + solution2(x-2)\n",
    "    return answer\n",
    "\n",
    "solution2(6)"
   ]
  },
  {
   "cell_type": "code",
   "execution_count": 7,
   "id": "292b501d",
   "metadata": {},
   "outputs": [
    {
     "data": {
      "text/plain": [
       "8"
      ]
     },
     "execution_count": 7,
     "metadata": {},
     "output_type": "execute_result"
    }
   ],
   "source": [
    "# iterative version - 피보나치\n",
    "\n",
    "\n",
    "def iterative_solution(x):\n",
    "    answer = 0\n",
    "    fa = 0\n",
    "    fb = 1\n",
    "    \n",
    "    while x > 0:\n",
    "        x -= 1\n",
    "        fa, fb = fb, fa+fb\n",
    "        answer = fa\n",
    "        \n",
    "    return answer\n",
    "\n",
    "iterative_solution(6)"
   ]
  }
 ],
 "metadata": {
  "kernelspec": {
   "display_name": "Python 3",
   "language": "python",
   "name": "python3"
  },
  "language_info": {
   "codemirror_mode": {
    "name": "ipython",
    "version": 3
   },
   "file_extension": ".py",
   "mimetype": "text/x-python",
   "name": "python",
   "nbconvert_exporter": "python",
   "pygments_lexer": "ipython3",
   "version": "3.8.8"
  }
 },
 "nbformat": 4,
 "nbformat_minor": 5
}
