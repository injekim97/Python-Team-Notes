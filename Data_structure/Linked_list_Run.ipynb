{
 "cells": [
  {
   "cell_type": "markdown",
   "id": "4de30251",
   "metadata": {},
   "source": [
    "## 연결 리스트 원소 삽입의 복잡도\n",
    "* 맨 앞에 삽입하는 경우: O(1)\n",
    "* 중간에 삽입하는 경우: O(n)\n",
    "* 맨 끝에 삽입하는 경우: O(1)"
   ]
  },
  {
   "cell_type": "code",
   "execution_count": 2,
   "id": "e5a04c04",
   "metadata": {},
   "outputs": [],
   "source": [
    "from Linked_list import *\n",
    "a = Node(67)\n",
    "b = Node(34)\n",
    "c = Node(28)\n",
    "L = LinkedList()"
   ]
  },
  {
   "cell_type": "code",
   "execution_count": 3,
   "id": "7a4b97bd",
   "metadata": {},
   "outputs": [
    {
     "data": {
      "text/plain": [
       "LinkedList: empty"
      ]
     },
     "execution_count": 3,
     "metadata": {},
     "output_type": "execute_result"
    }
   ],
   "source": [
    "L"
   ]
  },
  {
   "cell_type": "code",
   "execution_count": 4,
   "id": "f1cf44f8",
   "metadata": {},
   "outputs": [
    {
     "data": {
      "text/plain": [
       "True"
      ]
     },
     "execution_count": 4,
     "metadata": {},
     "output_type": "execute_result"
    }
   ],
   "source": [
    "L.insertAt(1,a)    # 맨 앞에 67을 넣음"
   ]
  },
  {
   "cell_type": "code",
   "execution_count": 5,
   "id": "a2b94fda",
   "metadata": {},
   "outputs": [
    {
     "data": {
      "text/plain": [
       "True"
      ]
     },
     "execution_count": 5,
     "metadata": {},
     "output_type": "execute_result"
    }
   ],
   "source": [
    "L.insertAt(2,b)   # 맨 뒤에 34을 넣음"
   ]
  },
  {
   "cell_type": "code",
   "execution_count": 6,
   "id": "5d01e805",
   "metadata": {},
   "outputs": [
    {
     "data": {
      "text/plain": [
       "67 -> 34"
      ]
     },
     "execution_count": 6,
     "metadata": {},
     "output_type": "execute_result"
    }
   ],
   "source": [
    "L"
   ]
  },
  {
   "cell_type": "code",
   "execution_count": 7,
   "id": "6334d9ad",
   "metadata": {},
   "outputs": [
    {
     "data": {
      "text/plain": [
       "True"
      ]
     },
     "execution_count": 7,
     "metadata": {},
     "output_type": "execute_result"
    }
   ],
   "source": [
    "L.insertAt(1,c)   # 맨 앞에 28을 넣음"
   ]
  },
  {
   "cell_type": "code",
   "execution_count": 8,
   "id": "622b3856",
   "metadata": {},
   "outputs": [
    {
     "data": {
      "text/plain": [
       "28 -> 67 -> 34"
      ]
     },
     "execution_count": 8,
     "metadata": {},
     "output_type": "execute_result"
    }
   ],
   "source": [
    "L"
   ]
  },
  {
   "cell_type": "markdown",
   "id": "e08ec2d2",
   "metadata": {},
   "source": []
  },
  {
   "cell_type": "code",
   "execution_count": null,
   "id": "8508d164",
   "metadata": {},
   "outputs": [],
   "source": []
  }
 ],
 "metadata": {
  "kernelspec": {
   "display_name": "Python 3",
   "language": "python",
   "name": "python3"
  },
  "language_info": {
   "codemirror_mode": {
    "name": "ipython",
    "version": 3
   },
   "file_extension": ".py",
   "mimetype": "text/x-python",
   "name": "python",
   "nbconvert_exporter": "python",
   "pygments_lexer": "ipython3",
   "version": "3.8.8"
  }
 },
 "nbformat": 4,
 "nbformat_minor": 5
}
