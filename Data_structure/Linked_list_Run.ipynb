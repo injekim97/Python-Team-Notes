{
 "cells": [
  {
   "cell_type": "markdown",
   "id": "4f99dd22",
   "metadata": {},
   "source": [
    "## 연결 리스트 원소 삽입의 복잡도\n",
    "* 맨 앞에 삽입하는 경우: O(1)\n",
    "* 중간에 삽입하는 경우: O(n)\n",
    "* 맨 끝에 삽입하는 경우: O(1)"
   ]
  },
  {
   "cell_type": "code",
   "execution_count": 2,
   "id": "196474ed",
   "metadata": {},
   "outputs": [],
   "source": [
    "from Linked_list import *\n",
    "a = Node(67)\n",
    "b = Node(34)\n",
    "c = Node(28)\n",
    "L = LinkedList()"
   ]
  },
  {
   "cell_type": "code",
   "execution_count": 3,
   "id": "f6a2d616",
   "metadata": {},
   "outputs": [
    {
     "data": {
      "text/plain": [
       "LinkedList: empty"
      ]
     },
     "execution_count": 3,
     "metadata": {},
     "output_type": "execute_result"
    }
   ],
   "source": [
    "L"
   ]
  },
  {
   "cell_type": "code",
   "execution_count": 4,
   "id": "aa6269c5",
   "metadata": {},
   "outputs": [
    {
     "data": {
      "text/plain": [
       "True"
      ]
     },
     "execution_count": 4,
     "metadata": {},
     "output_type": "execute_result"
    }
   ],
   "source": [
    "L.insertAt(1,a)    # 맨 앞에 67을 넣음"
   ]
  },
  {
   "cell_type": "code",
   "execution_count": 5,
   "id": "04dcc77a",
   "metadata": {},
   "outputs": [
    {
     "data": {
      "text/plain": [
       "True"
      ]
     },
     "execution_count": 5,
     "metadata": {},
     "output_type": "execute_result"
    }
   ],
   "source": [
    "L.insertAt(2,b)   # 맨 뒤에 34을 넣음"
   ]
  },
  {
   "cell_type": "code",
   "execution_count": 6,
   "id": "1f3b062b",
   "metadata": {},
   "outputs": [
    {
     "data": {
      "text/plain": [
       "67 -> 34"
      ]
     },
     "execution_count": 6,
     "metadata": {},
     "output_type": "execute_result"
    }
   ],
   "source": [
    "L"
   ]
  },
  {
   "cell_type": "code",
   "execution_count": 7,
   "id": "861c565b",
   "metadata": {},
   "outputs": [
    {
     "data": {
      "text/plain": [
       "True"
      ]
     },
     "execution_count": 7,
     "metadata": {},
     "output_type": "execute_result"
    }
   ],
   "source": [
    "L.insertAt(1,c)   # 맨 앞에 28을 넣음"
   ]
  },
  {
   "cell_type": "code",
   "execution_count": 8,
   "id": "cc298b16",
   "metadata": {},
   "outputs": [
    {
     "data": {
      "text/plain": [
       "28 -> 67 -> 34"
      ]
     },
     "execution_count": 8,
     "metadata": {},
     "output_type": "execute_result"
    }
   ],
   "source": [
    "L"
   ]
  }
 ],
 "metadata": {
  "kernelspec": {
   "display_name": "Python 3",
   "language": "python",
   "name": "python3"
  },
  "language_info": {
   "codemirror_mode": {
    "name": "ipython",
    "version": 3
   },
   "file_extension": ".py",
   "mimetype": "text/x-python",
   "name": "python",
   "nbconvert_exporter": "python",
   "pygments_lexer": "ipython3",
   "version": "3.8.8"
  }
 },
 "nbformat": 4,
 "nbformat_minor": 5
}
