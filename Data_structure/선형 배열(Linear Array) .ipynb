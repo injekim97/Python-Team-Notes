{
 "cells": [
  {
   "cell_type": "markdown",
   "id": "8dd0f905",
   "metadata": {},
   "source": [
    "#### 선형 배열(Linear Array) \n",
    "* 데이터들이 선 처럼 일렬로 늘어선 형태를 말하며 배열이라고 생각하면 됨(Python-list)\n",
    "\n",
    " \n",
    " \n",
    "#### 리스트 길이와 무관(빠른 실행 결과)를 나타내는 연산들\n",
    "* 리스트명.append() -> 리스트 길이의 관계 없이 빠른 실행 결과를 나타냄 \n",
    "* 리스트명.pop() -> 리스트의 길이와 무관하게 빠르게 실행할 수 있는 연산 \n",
    "* ★★★ 시간 복잡도 O(1) ★★★\n",
    "\n",
    "#### 리스트의 길이에 비례(선형 시간)해서 실행 시간이 오래 걸리는 연산들\n",
    "* 리스트명.insert() -> 원소 삽입\n",
    "* del(리스트명[인덱스 번호]) -> 원소 삭제\n",
    "* ★★★ 시간 복잡도 O(n) ★★★\n",
    "\n",
    "\n",
    "#### 즉, 리스트의 길이가 실행 시간에 비례함.\n",
    "* 리스트 길이가 100 배가 되면, 위 연산들을 실행하는 데 걸리는 시간도 100 배 증가\n",
    "\n",
    "\n",
    "* 리스트명.index() -> 원소 탐색"
   ]
  },
  {
   "cell_type": "code",
   "execution_count": 1,
   "id": "625704ba",
   "metadata": {},
   "outputs": [
    {
     "data": {
      "text/plain": [
       "['Injekim97', 'Now02', 'Github', 'Tistory']"
      ]
     },
     "execution_count": 1,
     "metadata": {},
     "output_type": "execute_result"
    }
   ],
   "source": [
    "arr = [\"Injekim97\",\"Now02\",\"Github\",\"Tistory\"]\n",
    "arr"
   ]
  },
  {
   "cell_type": "code",
   "execution_count": 2,
   "id": "bd5e534c",
   "metadata": {},
   "outputs": [
    {
     "data": {
      "text/plain": [
       "'Github'"
      ]
     },
     "execution_count": 2,
     "metadata": {},
     "output_type": "execute_result"
    }
   ],
   "source": [
    "arr[2]"
   ]
  },
  {
   "cell_type": "code",
   "execution_count": 3,
   "id": "66fd60ac",
   "metadata": {},
   "outputs": [],
   "source": [
    "arr.append(\"Linear_Arrays\")"
   ]
  },
  {
   "cell_type": "code",
   "execution_count": 4,
   "id": "62b1f804",
   "metadata": {},
   "outputs": [
    {
     "data": {
      "text/plain": [
       "['Injekim97', 'Now02', 'Github', 'Tistory', 'Linear_Arrays']"
      ]
     },
     "execution_count": 4,
     "metadata": {},
     "output_type": "execute_result"
    }
   ],
   "source": [
    "arr"
   ]
  },
  {
   "cell_type": "code",
   "execution_count": 5,
   "id": "f0be62bd",
   "metadata": {},
   "outputs": [
    {
     "data": {
      "text/plain": [
       "'Linear_Arrays'"
      ]
     },
     "execution_count": 5,
     "metadata": {},
     "output_type": "execute_result"
    }
   ],
   "source": [
    "arr.pop()"
   ]
  },
  {
   "cell_type": "code",
   "execution_count": 6,
   "id": "bf515c8c",
   "metadata": {},
   "outputs": [
    {
     "data": {
      "text/plain": [
       "['Injekim97', 'Now02', 'Github', 'Tistory']"
      ]
     },
     "execution_count": 6,
     "metadata": {},
     "output_type": "execute_result"
    }
   ],
   "source": [
    "arr"
   ]
  },
  {
   "cell_type": "code",
   "execution_count": 7,
   "id": "bb6461a0",
   "metadata": {},
   "outputs": [],
   "source": [
    "num_arr2 =[20,37,58,72,91]"
   ]
  },
  {
   "cell_type": "code",
   "execution_count": 8,
   "id": "cc51df17",
   "metadata": {},
   "outputs": [
    {
     "data": {
      "text/plain": [
       "[20, 37, 58, 72, 91]"
      ]
     },
     "execution_count": 8,
     "metadata": {},
     "output_type": "execute_result"
    }
   ],
   "source": [
    "num_arr2"
   ]
  },
  {
   "cell_type": "code",
   "execution_count": 9,
   "id": "53fdac9e",
   "metadata": {},
   "outputs": [],
   "source": [
    "# 맨뒤에 있는 91을 5번으로 옮기고, 72를 오른쪽을 4번 인덱스로 옮김\n",
    "num_arr2.insert(3,65) "
   ]
  },
  {
   "cell_type": "code",
   "execution_count": 10,
   "id": "15ab7d7e",
   "metadata": {},
   "outputs": [
    {
     "data": {
      "text/plain": [
       "[20, 37, 58, 65, 72, 91]"
      ]
     },
     "execution_count": 10,
     "metadata": {},
     "output_type": "execute_result"
    }
   ],
   "source": [
    "num_arr2"
   ]
  },
  {
   "cell_type": "code",
   "execution_count": 11,
   "id": "54887208",
   "metadata": {},
   "outputs": [],
   "source": [
    "del(num_arr2[2])"
   ]
  },
  {
   "cell_type": "code",
   "execution_count": 12,
   "id": "4e102cc8",
   "metadata": {},
   "outputs": [
    {
     "data": {
      "text/plain": [
       "[20, 37, 65, 72, 91]"
      ]
     },
     "execution_count": 12,
     "metadata": {},
     "output_type": "execute_result"
    }
   ],
   "source": [
    "num_arr2"
   ]
  },
  {
   "cell_type": "code",
   "execution_count": 13,
   "id": "ac187ed3",
   "metadata": {},
   "outputs": [
    {
     "data": {
      "text/plain": [
       "65"
      ]
     },
     "execution_count": 13,
     "metadata": {},
     "output_type": "execute_result"
    }
   ],
   "source": [
    "num_arr2.pop(2) # 2번인덱스 65 호출"
   ]
  },
  {
   "cell_type": "code",
   "execution_count": 14,
   "id": "57f9196a",
   "metadata": {},
   "outputs": [
    {
     "data": {
      "text/plain": [
       "[20, 37, 72, 91]"
      ]
     },
     "execution_count": 14,
     "metadata": {},
     "output_type": "execute_result"
    }
   ],
   "source": [
    "num_arr2"
   ]
  },
  {
   "cell_type": "code",
   "execution_count": 18,
   "id": "b9a99092",
   "metadata": {},
   "outputs": [
    {
     "data": {
      "text/plain": [
       "2"
      ]
     },
     "execution_count": 18,
     "metadata": {},
     "output_type": "execute_result"
    }
   ],
   "source": [
    "# arr 리스트에서 Github라는 값을 가진 인덱스 위치 추출\n",
    "arr.index(\"Github\")"
   ]
  },
  {
   "cell_type": "markdown",
   "id": "092153eb",
   "metadata": {},
   "source": [
    "## 연습문제1  \n",
    "#### 정렬된 리스트에 주어진 원소 삽입하기\n",
    "\n",
    "#### 힌트 : 중진 원소를 삽입할 위치 찾기 및 해당 위치에 원소를 삽입\n",
    "#### 결과 : 여전히 정렬된 상태를 유지하는 리스트\n",
    "\n",
    "\n",
    "* 예를 들어, L = [20, 37, 58, 72, 91] 이고 x = 65 인 경우, 올바른 리턴 값은 [20, 37, 58, 65, 72, 91] 입니다.\n",
    "\n",
    "* 힌트: 순환문을 이용하여 올바른 위치를 결정하고 insert() 메서드를 이용하여 삽입하는 것이 한 가지 방법입니다.\n",
    "\n",
    "* 주의: 리스트 내에 존재하는 모든 원소들보다 작거나 모든 원소들보다 큰 정수가 주어지는 경우에 대해서도 올바르게 처리해야 합니다."
   ]
  },
  {
   "cell_type": "code",
   "execution_count": 90,
   "id": "1f23682a",
   "metadata": {},
   "outputs": [
    {
     "data": {
      "text/plain": [
       "[20, 37, 58, 65, 72, 91]"
      ]
     },
     "execution_count": 90,
     "metadata": {},
     "output_type": "execute_result"
    }
   ],
   "source": [
    "# 연습문제 1번 풀이\n",
    "\n",
    "def solution(L, x):\n",
    "    answer = L # 리스트를 넣어서, \n",
    "    \n",
    "    index = 0 # 인덱스 번호로 출력해줘야 하기 때문에 \n",
    "    for i in range(0,len(L)) :\n",
    "        if L[i] < x :\n",
    "            index += 1        # 3 \n",
    "            \n",
    "    answer.insert(index,x)            \n",
    "    return answer\n",
    "\n",
    "solution([20, 37, 58, 72, 91] , 65)"
   ]
  },
  {
   "cell_type": "markdown",
   "id": "4ff468ff",
   "metadata": {},
   "source": [
    "## 연습문제2\n",
    "#### 주어진 리스트에서 특정원소를 (여러 번 들어 있을 수도 있음) 모두 찾아내라 .\n",
    "#### 힌트 : index() 메서드 이용 및 리스트 슬라이싱 이용해서 반복해서 찾기\n",
    "\n",
    "* e.g1 :  L = [64, 72, 83, 72, 54] 이고 x = 72 인 경우의 올바른 리턴 값은 [1, 3] 입니다.\n",
    "* e.g2 :  L = [64, 72, 83, 72, 54] 이고 x = 83 인 경우의 올바른 리턴 값은 [2] 입니다.\n",
    "* e.g3 :  L = [64, 72, 83, 72, 54] 이고 x = 49 인 경우의 올바른 리턴 값은 [-1] 입니다.\n",
    "\n",
    "Hint 1 : 리스트의 index() 메서드와 리스트 슬라이싱을 활용하는 것이 한 가지 방법\n",
    "* e.g : L = [6, 2, 8, 7, 3] 인 경우 L[1:3] = [2, 8] , L[2:] = [8, 7, 3] , L[:3] = [6, 2, 8]\n",
    "\n",
    "Hint 2 : 리스트의 index() 메서드는 인자로 주어지는 원소가 리스트 내에 존재하지 않을 때 ValueError 를  발생하는데, try ... except 로 처리해도 되고, \"if x in L\" 과 같은 조건문으로 특정 원소가 리스트 내에 존재하는지를 판단해도 됩니다."
   ]
  },
  {
   "cell_type": "code",
   "execution_count": 91,
   "id": "2deeaaa7",
   "metadata": {},
   "outputs": [
    {
     "data": {
      "text/plain": [
       "[1, 3]"
      ]
     },
     "execution_count": 91,
     "metadata": {},
     "output_type": "execute_result"
    }
   ],
   "source": [
    "# 연습문제 2번 깔끔한 답안 코드\n",
    "\n",
    "def solution(L, x):\n",
    "\n",
    "    # L 리스트에 x(값)이 존재 한다면 ~ \n",
    "    if x in L:\n",
    "        # enumerate(L) 을 index, value 로 사용해서 value == x 가 같다면 리스트로 감싸서 인덱스 리턴\n",
    "        return [idx for idx, value in enumerate(L) if value == x] \n",
    "\n",
    "    else:\n",
    "        return [-1]\n",
    "    \n",
    "solution([64, 72, 83, 72, 54], 72)"
   ]
  },
  {
   "cell_type": "code",
   "execution_count": 92,
   "id": "bca179ad",
   "metadata": {},
   "outputs": [
    {
     "data": {
      "text/plain": [
       "[1, 3]"
      ]
     },
     "execution_count": 92,
     "metadata": {},
     "output_type": "execute_result"
    }
   ],
   "source": [
    "# 연습문제 2번 답안 코드\n",
    "\n",
    "def solution(L, x):\n",
    "    answer = []\n",
    "    \n",
    "    for i in range(len(L)):\n",
    "        if L[i] == x:\n",
    "            answer.append(i)\n",
    "    \n",
    "    # ★ L 리스트에 x와 같은 값이 없다면 0 == 0 으로 비교해서 append 로 -1 넣어줌 ★\n",
    "    if len(answer) == 0:\n",
    "        answer.append(-1)\n",
    "    \n",
    "    return answer\n",
    "\n",
    "solution([64, 72, 83, 72, 54], 72)"
   ]
  }
 ],
 "metadata": {
  "kernelspec": {
   "display_name": "Python 3",
   "language": "python",
   "name": "python3"
  },
  "language_info": {
   "codemirror_mode": {
    "name": "ipython",
    "version": 3
   },
   "file_extension": ".py",
   "mimetype": "text/x-python",
   "name": "python",
   "nbconvert_exporter": "python",
   "pygments_lexer": "ipython3",
   "version": "3.8.8"
  }
 },
 "nbformat": 4,
 "nbformat_minor": 5
}
