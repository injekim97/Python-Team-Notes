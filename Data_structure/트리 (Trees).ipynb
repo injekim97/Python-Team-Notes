{
 "cells": [
  {
   "cell_type": "markdown",
   "id": "3f9f6662",
   "metadata": {},
   "source": [
    "## 트리 (Trees)\n"
   ]
  },
  {
   "cell_type": "markdown",
   "id": "74e3a50c",
   "metadata": {},
   "source": [
    "* 트리는 나무를 거꾸로 한 것으로 생각하면 됨\n",
    "* 맨 위에는 뿌리(root) 노드와 리프(leaf) 노드가 존재\n",
    "\n",
    "\n",
    "* A,B,C,D,E,F,G 를 노드라고 함\n",
    "* A와 B, B와 C를 이어주는 선을 간선이라 함\n",
    "\n",
    "* 루트 노드(root node)는 맨 위의 노드\n",
    "* 리프 노드(leaf node)는 더이상 가지를 칠 수 없는 노드\n",
    "* 내부 노드(internal node)는 루프노드와 리프노드가 아닌 노드를 뜻함"
   ]
  },
  {
   "cell_type": "markdown",
   "id": "98c647d8",
   "metadata": {},
   "source": [
    "### 부모 노드(parent  node) 와 자식 노드(child node)\n",
    "#### 예를 들면 D,G,H,J 가 있다고 했을 때 \n",
    "* 부모 노드(parent node)는 D\n",
    "* 자식 노드(child node)는 G,H,J\n",
    "* 형제 노드(sibling node) 는 같은 부모 아래의 child node를 뜻함 G,H,J\n",
    "\n",
    "* 조상은 부모의 부모을 뜻함\n",
    "* 후손은 자식의 자식을 뜻함"
   ]
  },
  {
   "cell_type": "markdown",
   "id": "72a07d42",
   "metadata": {},
   "source": [
    "### 노드의 수준(LEVEL)\n",
    "* 루트노드는 level0 또는 level1 로 시작 가능\n",
    "* 그 아래의 노드는 루트노드(level0)의 기준으로 순차적으로 +1\n",
    "* 즉, level1, level2, level3, ..."
   ]
  },
  {
   "cell_type": "markdown",
   "id": "391a4fb1",
   "metadata": {},
   "source": [
    "### 트리의 높이(Height) == 트리의 깊이(depth)\n",
    "* 트리의 높이(height), 트리의 깊이(depth) = 최대 수준(level) + 1\n",
    "* 예를 들어, level이 3라면 height(depth)는 3 + 1 = 4 "
   ]
  },
  {
   "cell_type": "markdown",
   "id": "b1c4058a",
   "metadata": {},
   "source": [
    "### 부분 트리(서브트리 - Subtree)\n",
    "* 어느 한 노드를 기준으로 아래의 달린 것들을 짤라내는 것을 서브트리라고 함\n",
    "* 루트 노드(root node)를 제외한 것들\n",
    "\n",
    "### 노드의 차수(Degree)\n",
    "* 자식(서브트리) 의 수\n",
    "* 예를 들면 루트 노드 A가 B,C 가 연결되어 있다면 degree = 2 임 \n",
    "* 이어지는 간선의 개수라고 생각 하자'\n",
    "* 리프 노드(leaf node)는 이어지는 간선의 개수가 없으므로 무조건 degree가 0 임"
   ]
  },
  {
   "cell_type": "markdown",
   "id": "a2eb4deb",
   "metadata": {},
   "source": [
    "### 이진 트리(Binary Tree)\n",
    "* 모든 노드의 차수(degree)가 2 이하인 트리\n",
    "* 다른 말로 이해하자면, 특정한 노드를 기준으로 이어지는 간선의 개수가 2개 이하로 이루어졌을 때\n",
    "* 재귀적으로 정의 할 수 있음 (루트 노드 + 왼쪽 서브트리 + 오른쪽 서브트리)\n",
    "* 단, 이 때 왼쪽과 오른쪽 서브트리 또한 이진트리\n",
    "* 재귀로 작성할 때 종료 조건을 꼭 해줘야함. (빈 트리(empty tree))\n",
    "\n",
    "\n",
    "#### 포화 이진 트리(Full Binary Tree)\n",
    "* 모든 레벨에서 노드들이 모두 채워져 있는 이진트리\n",
    "* 높이가 k이고 노드의 개수가 2^k - 1 인 이진트리\n",
    "* 예를 들면 높이가 3이라면, 노드의 개수는 2^3 - 1 = 7개를 가지고 있음\n",
    "\n",
    "\n",
    "\n",
    "#### 완전 이진 트리(Complete Binary Tree)\n",
    "* 높이 k인 완전 이진 트리 (높이가 4라면)\n",
    "* 레벨 k-2 까지는 모든 노드가 2개의 자식을 가진 포화 이진 트리 (2까지는 포화 이진 트리)\n",
    "* 레벨 k-1 에서는 왼쪽 부터 노드가 순차적으로 채워져 있는 이진 트리 (3에서는 왼쪽 노드가 채워져 있어야 함)"
   ]
  }
 ],
 "metadata": {
  "kernelspec": {
   "display_name": "Python 3",
   "language": "python",
   "name": "python3"
  },
  "language_info": {
   "codemirror_mode": {
    "name": "ipython",
    "version": 3
   },
   "file_extension": ".py",
   "mimetype": "text/x-python",
   "name": "python",
   "nbconvert_exporter": "python",
   "pygments_lexer": "ipython3",
   "version": "3.8.8"
  }
 },
 "nbformat": 4,
 "nbformat_minor": 5
}
