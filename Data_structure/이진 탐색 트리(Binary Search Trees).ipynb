{
 "cells": [
  {
   "cell_type": "markdown",
   "id": "d5bb99e9",
   "metadata": {},
   "source": [
    "## 이진 탐색 트리(Binary Search Trees)"
   ]
  },
  {
   "cell_type": "markdown",
   "id": "341064de",
   "metadata": {},
   "source": [
    "모든 노드에 대해서 \n",
    "* 왼쪽 서브트리에 있는 데이터는 모두 현재 노드의 값보다 작고\n",
    "* 오른쪽 서브트리에 있는 데이터는 모두 현재 노드의 값보다 큰 성질을 만족하는 이진 트리\n",
    "* 중복되는 데이터 원소는 없는 것으로 가정\n"
   ]
  },
  {
   "cell_type": "markdown",
   "id": "ee31d503",
   "metadata": {},
   "source": [
    "### 이진 탐색 트리를 이용한 데이터 검색"
   ]
  },
  {
   "cell_type": "markdown",
   "id": "36688e1e",
   "metadata": {},
   "source": [
    "* e.g : 6을 찾아라\n",
    "* root node는 5 라고 가정 했을 때, 오른쪽(5보다 큰)을 찾아감\n",
    "* 8을 찾아 갔는데 6을 찾아야 하니까 왼쪽(작은 값) 을 찾아야 하므로 6을 찾아감"
   ]
  },
  {
   "cell_type": "markdown",
   "id": "c37d2242",
   "metadata": {},
   "source": [
    "### (정렬된) 배열을 이용한 이진 탐색과 비교\n",
    "\n",
    "이진 탐색 트리\n",
    "* 장점 : 데이터 원소의 추가와 삭제가 용이\n",
    "* 단점 : 공간 소요가 큼\n",
    "\n",
    "항상 O(logn)의 탐색 복잡도?"
   ]
  },
  {
   "cell_type": "markdown",
   "id": "20a043f7",
   "metadata": {},
   "source": [
    "### 이진 탐색 트리의 추상적 자료구조\n",
    "* 데이터 표현 - 각 노드는 (key,value)의 쌍으로\n",
    "* 키를 이용해서 검색 가능 (1:draven, 2:injekim)\n",
    "* 보다 복잡한 데이터 레코드로 확장 가능"
   ]
  },
  {
   "cell_type": "markdown",
   "id": "69a9ecd0",
   "metadata": {},
   "source": [
    "### 연산의 정의\n",
    "insert(key,value)\n",
    "* 트리에 주어진 데이터 원소를 추가\n",
    "\n",
    "remove(key)\n",
    "* 특정 원소를 트리로 부터 삭제\n",
    "\n",
    "lookup(key)\n",
    "* 특정 원소를 검색\n",
    "\n",
    "inorder()\n",
    "* 키의 순서대로 데이터 원소를 나열\n",
    "\n",
    "min(),max()\n",
    "* 키가 최소,최대 키를 가지는 원소를 각각 탐색"
   ]
  },
  {
   "cell_type": "markdown",
   "id": "90be40fd",
   "metadata": {},
   "source": [
    "### 이진 탐색 트리(초기화)"
   ]
  },
  {
   "cell_type": "code",
   "execution_count": 1,
   "id": "eea7b5fa",
   "metadata": {},
   "outputs": [],
   "source": [
    "class Node :\n",
    "    def __init__(self,key,data):\n",
    "        self.key = key       # key 에는 노드 번호들(1,2,3,4,5)\n",
    "        self.data = data     # value 에는 노드 1의 값(draven), 노드 2의 값(injekim)\n",
    "        self.left = None\n",
    "        self.right = None\n",
    "        \n",
    "        \n",
    "    \n",
    "class BinSearchTree:\n",
    "    def __init__(self):\n",
    "        self.root = None      "
   ]
  },
  {
   "cell_type": "markdown",
   "id": "f5a3df38",
   "metadata": {},
   "source": [
    "### 코드 구현 - 중위 순회(inorder traversal)"
   ]
  },
  {
   "cell_type": "code",
   "execution_count": 2,
   "id": "e0c432a1",
   "metadata": {},
   "outputs": [],
   "source": [
    "class Node :\n",
    "    def inorder(self):\n",
    "        traversal = []\n",
    "        \n",
    "        if self.left :\n",
    "            traversal += self.left.inorder()\n",
    "            \n",
    "        traversal.append(self)   # 여기서 자기 자신 데이터를 self로 넣어야 함\n",
    "        \n",
    "        if self.right :\n",
    "            traversal += self.right.inorder()\n",
    "            \n",
    "        return traversal\n",
    "        \n",
    "        \n",
    "\n",
    "\n",
    "class BinSearchTree:\n",
    "    def inorder(self):\n",
    "        \n",
    "        # root 노드가 있다면 중위 순회 값 return\n",
    "        if self.root :\n",
    "            return self.root.inorder()\n",
    "        \n",
    "        # 비어 있다면 []\n",
    "        else :\n",
    "            return []"
   ]
  },
  {
   "cell_type": "markdown",
   "id": "3b29ed70",
   "metadata": {},
   "source": [
    "### 코드 구현 - min()"
   ]
  },
  {
   "cell_type": "code",
   "execution_count": 3,
   "id": "5fc771eb",
   "metadata": {},
   "outputs": [],
   "source": [
    "class Node :\n",
    "    def min(self):\n",
    "        \n",
    "        # 계속해서 왼쪽 서브트리를 찾아가면 작은 값을 찾으므로 self.left.min()\n",
    "        if self.left :\n",
    "            return self.left.min()\n",
    "        \n",
    "        # 왼쪽으로 갈 서브트리가 없다면 자기 자신이 min 값으로 self 을 return\n",
    "        else :\n",
    "            return self\n",
    "        \n",
    "                \n",
    "\n",
    "class BinSearchTree:\n",
    "    def min(self):\n",
    "        \n",
    "        # root 노드가 존재 한다면 ? root에서 작은 min 값을 찾음\n",
    "        if self.root :\n",
    "            return self.root.min()\n",
    "        \n",
    "        # 없다면 None 출력\n",
    "        else :\n",
    "            return None"
   ]
  },
  {
   "cell_type": "markdown",
   "id": "8aedf8d8",
   "metadata": {},
   "source": [
    "### 코드 구현 - max()\n",
    "* min 과 달리 완전히 대칭(오른쪽 서브트리만 찾아가면 됨)"
   ]
  },
  {
   "cell_type": "code",
   "execution_count": 4,
   "id": "8c2a333d",
   "metadata": {},
   "outputs": [],
   "source": [
    "class Node :\n",
    "    def max(self):\n",
    "        \n",
    "        if self.right :\n",
    "            return self.right.max()\n",
    "        \n",
    "        else :\n",
    "            return self\n",
    "        \n",
    "                \n",
    "\n",
    "class BinSearchTree:\n",
    "    def max(self):\n",
    "        \n",
    "        # root 노드가 존재 한다면 ? root에서 작은 max 값을 찾음\n",
    "        if self.root :\n",
    "            return self.root.max()\n",
    "        \n",
    "        # 없다면 None 출력\n",
    "        else :\n",
    "            return None"
   ]
  },
  {
   "cell_type": "markdown",
   "id": "1904b2c5",
   "metadata": {},
   "source": [
    "### 코드 구현 - lookup()\n",
    "* 입력 인자: 찾으려는 대상 키\n",
    "* 리턴 : 찾은 노드, 그것의 부모 노드 (각각 없으면 None 으로 출력)"
   ]
  },
  {
   "cell_type": "code",
   "execution_count": 5,
   "id": "7455b9b2",
   "metadata": {},
   "outputs": [],
   "source": [
    "class Node :\n",
    "    \n",
    "    # parent = None 라는 인자를 꼭 줘야 함.\n",
    "    def lookup(self,key,parent=None):\n",
    "        \n",
    "        # 지금 방문된 노드 보다 왼쪽 서브트리에 있다면(왼쪽 서브트리가 존재하면?)\n",
    "        if key < self.key :\n",
    "            \n",
    "            if self.left :\n",
    "                return self.left.lookup(key,self) # parent에 self(자신)을 저장\n",
    "            \n",
    "            \n",
    "            # 찾을 노드와 그것의 부모노드가 없다면 None, None 출력\n",
    "            else :\n",
    "                return None,None\n",
    "            \n",
    "            \n",
    "        # key 가 self.key 보다 작지 않다면(큰 경우)\n",
    "        elif key > self.key :\n",
    "            \n",
    "            if self.right :\n",
    "                return self.right.lookup(key,self)\n",
    "            \n",
    "            else :\n",
    "                return None,None\n",
    "            \n",
    "            \n",
    "        # self(key), parent(부모 노드) 리턴\n",
    "        else :\n",
    "            return self,parent \n",
    "            \n",
    "\n",
    "            \n",
    "        \n",
    "class BinSearchTree:\n",
    "    def lookup(self,key):\n",
    "        \n",
    "        # root 노드가 존재 한다면 ?  찾으려는 key 값을 출력\n",
    "        if self.root :\n",
    "            return self.root.lookup(key)\n",
    "        \n",
    "        # 찾을 노드와 그것의 부모노드가 없다면 None, None 출력\n",
    "        else :\n",
    "            return None,None"
   ]
  },
  {
   "cell_type": "markdown",
   "id": "edb5787f",
   "metadata": {},
   "source": [
    "### 코드 구현 - insert()\n",
    "* 입력 인자: 키,데이터 원소\n",
    "* 리턴 : 없음"
   ]
  },
  {
   "cell_type": "code",
   "execution_count": 6,
   "id": "37679945",
   "metadata": {},
   "outputs": [],
   "source": [
    "class Node :\n",
    "\n",
    "    def insert(self, key, data):\n",
    "        if key < self.key:\n",
    "            if self.left:\n",
    "                self.left.insert(key, data)\n",
    "            else:\n",
    "                self.left = Node(key,data)\n",
    "        \n",
    "        elif key > self.key:\n",
    "            if self.right:\n",
    "                self.right.insert(key, data)\n",
    "            else:\n",
    "                self.right = Node(key, data)\n",
    "        \n",
    "        else:\n",
    "            raise KeyError(\"KeyError\")\n",
    "\n",
    "        \n",
    "              \n",
    "class BinSearchTree:\n",
    "    def insert(self,key,data):\n",
    "        \n",
    "        # root 노드가 존재 한다면 ?  재귀적으로 key,data를 인자로 해서 호출\n",
    "        if self.root :\n",
    "            return self.root.insert(key,data)\n",
    "        \n",
    "        #  빈 트리라면? key,data를 가지는 Node를 초기화 한 후 root에 저장\n",
    "        else :\n",
    "            self.root = Node(key,data)"
   ]
  },
  {
   "cell_type": "markdown",
   "id": "d336e08d",
   "metadata": {},
   "source": [
    "### 연습 문제 -  이진 탐색 트리의 원소 삽입 연산(insert)"
   ]
  },
  {
   "cell_type": "code",
   "execution_count": 7,
   "id": "1651a5e8",
   "metadata": {},
   "outputs": [],
   "source": [
    "class Node:\n",
    "\n",
    "    def __init__(self, key, data):\n",
    "        self.key = key\n",
    "        self.data = data\n",
    "        self.left = None\n",
    "        self.right = None\n",
    "\n",
    "\n",
    "    # insert 부분 전부 빈칸\n",
    "    def insert(self, key, data):\n",
    "        if key < self.key:\n",
    "            if self.left:\n",
    "                self.left.insert(key, data)\n",
    "            else:\n",
    "                self.left = Node(key,data)\n",
    "        \n",
    "        elif key > self.key:\n",
    "            if self.right:\n",
    "                self.right.insert(key, data)\n",
    "            else:\n",
    "                self.right = Node(key, data)\n",
    "        \n",
    "        else:\n",
    "            raise KeyError(\"KeyError\")\n",
    "\n",
    "            \n",
    "    def inorder(self):\n",
    "        traversal = []\n",
    "        if self.left:\n",
    "            traversal += self.left.inorder()\n",
    "        traversal.append(self)\n",
    "        if self.right:\n",
    "            traversal += self.right.inorder()\n",
    "        return traversal\n",
    "\n",
    "\n",
    "class BinSearchTree:\n",
    "\n",
    "    def __init__(self):\n",
    "        self.root = None\n",
    "\n",
    "\n",
    "    def insert(self, key, data):\n",
    "        if self.root:\n",
    "            self.root.insert(key, data)\n",
    "        else:\n",
    "            self.root = Node(key, data)\n",
    "\n",
    "\n",
    "    def inorder(self):\n",
    "        if self.root:\n",
    "            return self.root.inorder()\n",
    "        else:\n",
    "            return []\n",
    "\n",
    "\n",
    "def solution(x):\n",
    "    return 0"
   ]
  }
 ],
 "metadata": {
  "kernelspec": {
   "display_name": "Python 3",
   "language": "python",
   "name": "python3"
  },
  "language_info": {
   "codemirror_mode": {
    "name": "ipython",
    "version": 3
   },
   "file_extension": ".py",
   "mimetype": "text/x-python",
   "name": "python",
   "nbconvert_exporter": "python",
   "pygments_lexer": "ipython3",
   "version": "3.8.8"
  }
 },
 "nbformat": 4,
 "nbformat_minor": 5
}
