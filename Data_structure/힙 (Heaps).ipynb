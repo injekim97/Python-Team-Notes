{
 "cells": [
  {
   "cell_type": "markdown",
   "id": "f3f8ed59",
   "metadata": {},
   "source": [
    "## 힙 (Heaps)\n",
    "\n",
    "이진 트리의 한 종류 (이진 힙 - binary heap)\n",
    "- 루트 노드(root node) 가 언제나 최댓값(max heap) 또는 최솟값(min heap)을 가짐\n",
    "- 완전 이진 트리여야 함"
   ]
  },
  {
   "cell_type": "markdown",
   "id": "27b7ed2e",
   "metadata": {},
   "source": [
    "### 최대 힙 (max heap) 예시\n",
    "- 10개의 노드로 이루어진 이진 트리\n",
    "- 모든 노드에서 루트노드가 자기 자식 보다 큰값을 가지는지?\n",
    "- 재귀적으로도 정의됨(어느 누구를 루트로 하는 서브트리도 모두 최대 힙)"
   ]
  },
  {
   "cell_type": "markdown",
   "id": "580ce2a9",
   "metadata": {},
   "source": [
    "### 최소값(min heap) & 최대값(max heap) 과 이진 탐색 트리와 비교\n",
    "1.원소들은 완전히 크기 순으로 정렬되어 있는가?\n",
    "* 이진 탐색 트리에서는 완전히 크기 순으로 정렬됨\n",
    "* 최소값(min heap) & 최대값(max heap) 에서는 그렇지 않음(느슨하게 정렬됨)\n",
    "\n",
    "2.특정 키 값을 가지는 원소를 빠르게 검색할 수 있는가?\n",
    "* 이진 탐색 트리에서는 일반적으로 키 값을 가지고 왼쪽 오른쪽으로 찾아갈 수 있기 때문에 가능함\n",
    "* 힙 에서는 좋은 방법이 없음(빠르게 검색X)\n",
    "\n",
    "3.부가의 제약 조건은 어떤 것인가?\n",
    "* 힙은 완전 이진 트리여야 한다는 조건을 가지고 있음"
   ]
  },
  {
   "cell_type": "markdown",
   "id": "f9caf2ac",
   "metadata": {},
   "source": [
    "### 최대 힙(Max heap) 의 추상적 자료구조\n",
    "\n",
    "#### 연산의 정의\n",
    "* \\__init\\__() - 빈 최대 힙을 생성\n",
    "* inserT(item) - 새로운 원소를 힙에 삽입\n",
    "* remove() - 최대 원소(root node)를 반환 (반환 동시에 이 노드 삭제)"
   ]
  },
  {
   "cell_type": "markdown",
   "id": "f20ad9fc",
   "metadata": {},
   "source": [
    "### 데이터 표현의 설계\n",
    "* 배열을 이용한 이진 트리의 표현\n",
    "\n",
    "\n",
    "### 노드 번호 m을 기준으로\n",
    "* 왼쪽 자식의 번호 : 2 * m\n",
    "* 오른쪽 자식의 번호 : 2 * m + 1\n",
    "* 부모 노드의 번호 : m // 2\n",
    "\n",
    "\n",
    "완전 이진 트리이므로\n",
    "* 노드의 추가 및 삭제는 마지막 노드에서만 함"
   ]
  },
  {
   "cell_type": "markdown",
   "id": "61e54b48",
   "metadata": {},
   "source": [
    "### 코드 구현 - 빈 힙 생성"
   ]
  },
  {
   "cell_type": "code",
   "execution_count": 1,
   "id": "6afea80c",
   "metadata": {},
   "outputs": [],
   "source": [
    "class MaxHeap :\n",
    "    def __init__(self):\n",
    "        self.data = [None]"
   ]
  },
  {
   "cell_type": "markdown",
   "id": "a8edd5ad",
   "metadata": {},
   "source": [
    "### 최대 힙에 원소 삽입\n",
    "1.트리의 마지막 자리에 새로운 원소를 임시로 저장\n",
    "\n",
    "2.부모 노드와 키 값을 비교하여 위로,위로,이동\n",
    "\n",
    "* 부모노드가 자식노드 보다 커야 한다는 제약 조건 때문에 조건이 만족할 때까지 반복"
   ]
  },
  {
   "cell_type": "markdown",
   "id": "31153d4d",
   "metadata": {},
   "source": [
    "### 최대 힙에 원소 삽입 - 복잡도\n",
    "원소의 개수가 n 인 최대 힙에 새로운 원소 삽입\n",
    "* 부모 노드와의 대소 비교 최대 회수: log_2n\n",
    "* 최악 복잡도 O(logn)의 삽입 연산"
   ]
  },
  {
   "cell_type": "markdown",
   "id": "18e47066",
   "metadata": {},
   "source": [
    "### 삽입 연산의 구현 - insert(item) 메서드\n",
    "힌트 : 자식노드와 부모노드 값을 바꾸려고 할 때 \n",
    "\n",
    "a = 3 , b = 5\n",
    "\n",
    "a,b = b,a "
   ]
  },
  {
   "cell_type": "code",
   "execution_count": 3,
   "id": "40ad875c",
   "metadata": {},
   "outputs": [],
   "source": [
    "class MaxHeap :\n",
    "    def insert(self,item):\n",
    "        ..."
   ]
  },
  {
   "cell_type": "markdown",
   "id": "54f07e0f",
   "metadata": {},
   "source": [
    "### 연습문제 - 최대 힙에 새로운 원소 삽입"
   ]
  },
  {
   "cell_type": "code",
   "execution_count": null,
   "id": "68a5abab",
   "metadata": {},
   "outputs": [],
   "source": [
    "class MaxHeap:\n",
    "\n",
    "    def __init__(self):\n",
    "        self.data = [None]\n",
    "\n",
    "    def insert(self, item):\n",
    "        self.data.append(item)\n",
    "        index = len(self.data) - 1  # 마지막 인덱스\n",
    "        \n",
    "        while index != 1:\n",
    "            ParentNode = index // 2\n",
    "\n",
    "            \n",
    "            # 마지막 인덱스의 값이 부모노드보다 크다면\n",
    "            # 위치를 바꿔준다 (힌트 부분 a,b = b,a)\n",
    "            # 그런 후 인덱스에 부모노드 값을 넣고 인덱스가 1이 아닐 때 까지 반복\n",
    "            if self.data[ParentNode] < self.data[index]:\n",
    "                self.data[ParentNode], self.data[index] = self.data[index], self.data[ParentNode]\n",
    "                index = ParentNode\n",
    "        \n",
    "            else:\n",
    "                break\n",
    "\n",
    "def solution(x):\n",
    "    return 0"
   ]
  }
 ],
 "metadata": {
  "kernelspec": {
   "display_name": "Python 3",
   "language": "python",
   "name": "python3"
  },
  "language_info": {
   "codemirror_mode": {
    "name": "ipython",
    "version": 3
   },
   "file_extension": ".py",
   "mimetype": "text/x-python",
   "name": "python",
   "nbconvert_exporter": "python",
   "pygments_lexer": "ipython3",
   "version": "3.8.8"
  }
 },
 "nbformat": 4,
 "nbformat_minor": 5
}
