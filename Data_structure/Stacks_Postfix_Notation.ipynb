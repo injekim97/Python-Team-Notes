{
 "cells": [
  {
   "cell_type": "markdown",
   "id": "76f69938",
   "metadata": {},
   "source": [
    "### 스택의 응용 수식의 후위 표기법\n",
    "\n",
    "\n",
    "중위 표기법(infix notation)\n",
    "* 연산자가 피연산자들의 사이에 위치\n",
    "* e.g : (A + B) * (C + D)\n",
    "즉 (A+B)(C+D)(*) 가 순서\n",
    "\n",
    "\n",
    "\n",
    "후위 표기법(postfix notation)\n",
    "* 연산자가 피연산자들의 뒤에 위치\n",
    "* 즉 A B + C D + *  (+ : 1, + : 2, * : 3)"
   ]
  },
  {
   "cell_type": "markdown",
   "id": "eda48df5",
   "metadata": {},
   "source": [
    "### 중위 표현식 -> 후위 표현식 (스택 자료구조 이용)\n",
    "\n",
    "1) A * B + C 수식을 후위 표현식으로는 ?\n",
    "* [후위] A B * C +\n",
    "\n",
    "\n",
    "2) A + B * C 수식을 후위 표현식으로는 ?\n",
    "* [후위] A B C * +"
   ]
  },
  {
   "cell_type": "markdown",
   "id": "8d7e8186",
   "metadata": {},
   "source": [
    "### 1) 중위 표현식을 후위 표현식으로 바꾸는 방법?\n",
    "\n",
    "e.g  A * B + C \n",
    "\n",
    "* 왼쪽 부터 시작해서 피연산자들을 쭉 적음\n",
    "* 연산자(*,+,-,/)를 만나면 스택에 push\n",
    "\n",
    "후위 A B *  \n",
    "* 스택에는  S.push(*) ,  S.push(+)\n",
    "\n",
    "* 우선 순위는 * 이 + 보다 높기 때문에 * pop 후\n",
    "* +는 스택에 넣음\n",
    "\n",
    "즉, 후위 A B * C +"
   ]
  },
  {
   "cell_type": "markdown",
   "id": "7e516b61",
   "metadata": {},
   "source": [
    "### 2) 중위 표현식을 후위 표현식으로 바꾸는 방법?\n",
    "\n",
    "e.g  A + B * C \n",
    "\n",
    "* 왼쪽 부터 시작해서 피연산자들을 쭉 적음\n",
    "* 연산자(*,+,-,/)를 만나면 스택에 push\n",
    "\n",
    "후위 A B C  \n",
    "* 스택에는  S.push(+) ,  S.push(*)\n",
    "\n",
    "* 우선 순위는 * 이 + 보다 높기 때문에 스택에 +,*(맨 위에) 쌓여 있음\n",
    "\n",
    "\n",
    "즉, 후위 A B C * +"
   ]
  },
  {
   "cell_type": "markdown",
   "id": "383d6881",
   "metadata": {},
   "source": [
    "#### 3) 중위 표현식을 후위 표현식으로 바꾸는 방법? (동일한 연산자 일 경우)\n",
    "\n",
    "e.g  A + B + C \n",
    "* 왼쪽 부터 시작해서 피연산자들을 쭉 적음\n",
    "\n",
    "후위 A B +(스택에 먼저 들어 가 있는 것을 pop)\n",
    "\n",
    "* 스택에는  S.push(+) 한 것을 먼저 pop 한 후\n",
    "* S.push(+) 동일한 연산자를 푸쉬함\n",
    "\n",
    "\n",
    "즉, 후위 A B + C +"
   ]
  },
  {
   "cell_type": "markdown",
   "id": "0b6e4f84",
   "metadata": {},
   "source": [
    "## 괄호의 처리\n",
    "\n",
    "중위 (A + B) * C   \n",
    "* 후위 AB + C *\n",
    "\n",
    "\n",
    "* 여는 괄호는 스택에 push\n",
    "* 닫는 괄호를 만나면 여는 괄호가 나올 때 까지 pop\n",
    "\n",
    "\n",
    "\n",
    "중위 A * (B + C)   \n",
    "* 후위 A B C + *\n",
    "* 연산자를 만났을 때, 여는 괄호 너머까지 pop 하지 않도록 \n",
    "* 여는 괄호의 우선순위는 가장 낮게 설정\n",
    "* 스택 맨 밑에는 * , ( , + 들어가 있음\n"
   ]
  },
  {
   "cell_type": "markdown",
   "id": "c1a52c87",
   "metadata": {},
   "source": [
    "## 또 다른 예제 (중위 표현식을 후위 표현식으로)\n",
    "1) (A + B) * (C + D) \n",
    "* 후위 A B + C D + *\n",
    "\n",
    "\n",
    "\n",
    "2) (A + (B - C)) * D\n",
    "* 후위 A B C D + - *\n",
    "\n"
   ]
  },
  {
   "cell_type": "markdown",
   "id": "45264a41",
   "metadata": {},
   "source": [
    "### 알고리즘의 설계\n",
    "* 연산자의 우선순위 설정 (사칙연산 및 소괄호만 사용)"
   ]
  },
  {
   "cell_type": "code",
   "execution_count": 5,
   "id": "a33741aa",
   "metadata": {},
   "outputs": [
    {
     "name": "stdout",
     "output_type": "stream",
     "text": [
      "{'*': 3, '/': 3, '+': 2, '-': 2, '(': 1}\n"
     ]
    }
   ],
   "source": [
    "# 사전(dict) 사용\n",
    "# 3이 가장 높은 우선순위임 (3 > 2 > 1)\n",
    "\n",
    "prec = {\n",
    "    \"*\" : 3, \"/\" : 3,\n",
    "    \"+\" : 2, \"-\" : 2,\n",
    "    \"(\" : 1\n",
    "}\n",
    "\n",
    "print(prec)"
   ]
  },
  {
   "cell_type": "markdown",
   "id": "6d3e1861",
   "metadata": {},
   "source": [
    "* 중위 표현식을 왼쪽부터 한 글자씩 읽어서\n",
    "* 피연산자(ABC) 라면 그냥 출력\n",
    "* '(' 이면 스택에 push\n",
    "* ')' 이면 '(' 이 나올 때까지 스택에서 pop, 출력\n",
    "* 연산자이면 스택에서 이보다 높(거나 같)은 우선 순위 것들을 pop으로 출력\n",
    "* 그리고 이 연산자는 스택에 push\n",
    "* 스택에 남아 있는 연산자는 모두 pop 로 출력"
   ]
  },
  {
   "cell_type": "markdown",
   "id": "7c31d4eb",
   "metadata": {},
   "source": [
    "## 코드의 구현 - 힌트\n",
    "\n",
    "1) 스택의 맨 위에 있는 연산자와의 우선순위 비교\n",
    "* peek() 연산 이용 (꺼내지 않고 우선순위 높은지 낮은지 판단 가능)\n",
    "\n",
    "\n",
    "2) 스택에 남아 있는 연산자 모두 pop() 하는 순환문\n",
    "* while not opStack.isEmpty():"
   ]
  },
  {
   "cell_type": "markdown",
   "id": "3837c91a",
   "metadata": {},
   "source": [
    "## 연습문제 중위표현 수식 ---> 후위표현 수식"
   ]
  },
  {
   "cell_type": "code",
   "execution_count": 7,
   "id": "6f9c79c2",
   "metadata": {},
   "outputs": [],
   "source": [
    "class ArrayStack:\n",
    "\n",
    "    def __init__(self):\n",
    "        self.data = []\n",
    "\n",
    "    def size(self):\n",
    "        return len(self.data)\n",
    "\n",
    "    def isEmpty(self):\n",
    "        return self.size() == 0\n",
    "\n",
    "    def push(self, item):\n",
    "        self.data.append(item)\n",
    "\n",
    "    def pop(self):\n",
    "        return self.data.pop()\n",
    "\n",
    "    def peek(self):\n",
    "        return self.data[-1]\n",
    "\n",
    "prec = {\n",
    "    '*': 3, '/': 3,\n",
    "    '+': 2, '-': 2,\n",
    "    '(': 1\n",
    "}\n",
    "\n",
    "def solution(S):\n",
    "    opStack = ArrayStack()\n",
    "    answer = ''\n",
    "   \n",
    "    for c in S:\n",
    "        if c == '(':\n",
    "            opStack.push(c)\n",
    "        \n",
    "        elif c == ')':\n",
    "            while opStack.peek() != '(':\n",
    "                answer += opStack.pop()\n",
    "            opStack.pop()\n",
    "    \n",
    "        else:\n",
    "            if c in prec:\n",
    "                if opStack.isEmpty():\n",
    "                    opStack.push(c)\n",
    "               \n",
    "                elif prec[opStack.peek()] >= prec[c]:\n",
    "                    while not opStack.isEmpty() and prec[opStack.peek()] >= prec[c]:\n",
    "                        answer += opStack.pop()\n",
    "                    opStack.push(c)\n",
    "                else:\n",
    "                    opStack.push(c)\n",
    "            else:\n",
    "                answer += c \n",
    "    \n",
    "    while not opStack.isEmpty():\n",
    "        answer += opStack.pop()\n",
    "    \n",
    "    return answer"
   ]
  }
 ],
 "metadata": {
  "kernelspec": {
   "display_name": "Python 3",
   "language": "python",
   "name": "python3"
  },
  "language_info": {
   "codemirror_mode": {
    "name": "ipython",
    "version": 3
   },
   "file_extension": ".py",
   "mimetype": "text/x-python",
   "name": "python",
   "nbconvert_exporter": "python",
   "pygments_lexer": "ipython3",
   "version": "3.8.8"
  }
 },
 "nbformat": 4,
 "nbformat_minor": 5
}
