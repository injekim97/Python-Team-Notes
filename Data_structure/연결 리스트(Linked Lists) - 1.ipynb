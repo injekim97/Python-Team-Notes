{
 "cells": [
  {
   "cell_type": "markdown",
   "id": "eca42b07",
   "metadata": {},
   "source": [
    "### 연결 리스트 (Linked Lists) - 1"
   ]
  },
  {
   "cell_type": "markdown",
   "id": "633bb881",
   "metadata": {},
   "source": [
    "## 추상적 자료구조 (Abstract Data Structures)\n",
    "#### Data\n",
    "* e.g : 정수, 문자열, 레코드 등등\n",
    "    \n",
    "#### A set of operations\n",
    "* 삽입, 삭제, 순회\n",
    "* 정렬, 탐색"
   ]
  },
  {
   "cell_type": "markdown",
   "id": "c2803da1",
   "metadata": {},
   "source": [
    "## 기본적 연결 리스트(2개의 클래스 이용)\n",
    "67 --> 34 --> 58 (앞에 있는 꼬리에서 뒤에 있는 것을 가리키도록 함)\n",
    "* Node 구성은 Data, Link (next)\n",
    "* Node에는 67 데이터가 담겨져 있지만, 다음 데이터가 어디냐에 대한 링크도 포함\n",
    "* 또한, Node 내의 데이터는 다른 구조로 이루어 질 수 도 있음\n",
    "* e.g : 문자열, 레코드, 다른 연결 리스트 등\n",
    "\n",
    "\n",
    "[67[끝]]  -> [34[끝]] -> [58[끝]]\n",
    "* ↑ head (67)  　　          ↑ Tail (58) \n",
    "* 끝(링크로 그 다음 데이터를 연결(Link)해줌)\n",
    "* 위의 예시에서는 노드 개수가 3개임"
   ]
  },
  {
   "cell_type": "code",
   "execution_count": 1,
   "id": "e7c690da",
   "metadata": {},
   "outputs": [],
   "source": [
    "# 생성자 \n",
    "class Node :\n",
    "    def __init__(self,item):\n",
    "        self.data = item   # 67 \n",
    "        self.next = None  # 처음 생성할 땐 다음에 붙을 게 없기 때문에 None(Next) \n",
    "        \n",
    "\n",
    "        \n",
    "# 비어 있는 연결 리스트\n",
    "class LinkedList :\n",
    "    def __init__(self):\n",
    "        self.nodeCnt = 0\n",
    "        self.head = None  # 처음 생성할 땐 Head가 아무것도 가리키지 않음 \n",
    "        self.tail = None  # 처음 생성할 땐 tail가 아무것도 가리키지 않음\n"
   ]
  },
  {
   "cell_type": "markdown",
   "id": "91debc2b",
   "metadata": {},
   "source": [
    "### 연산 정의\n",
    "1. 특정 원소 참조(k 번째)\n",
    "2. 리스트 순회\n",
    "3. 길이 얻어내기\n",
    "\n",
    "* 원소 삽입 - 연결 리스트(Linked Lists) 2\n",
    "* 원소 삭제  - 연결 리스트(Linked Lists) 2\n",
    "* 두 리스트 합치기 - 연결 리스트(Linked Lists) 2"
   ]
  },
  {
   "cell_type": "markdown",
   "id": "10181c51",
   "metadata": {},
   "source": [
    "## 특정 원소 참조 (k 번째)\n",
    "\n",
    "[67[끝]]  -> [34[끝]] -> [58[끝]]\n",
    "* ↑ head (67)  　　          ↑ Tail (58) \n",
    "* 노드 개수가 3개\n",
    "* 인덱스를 0부터 시작하는 것이 아닌 1부터 시작함(1부터 시작하는 것이 좋음)"
   ]
  },
  {
   "cell_type": "code",
   "execution_count": 2,
   "id": "88bb2dce",
   "metadata": {},
   "outputs": [],
   "source": [
    "# pos 번째에 있는 노드를 뽑아서 return\n",
    "\n",
    "def getAt(self,pos):\n",
    "    # pos 가 0보다 작거나 같은지? 또는 pos가 가지고 있는 노드수 보다 크면 None 반환\n",
    "    if pos <= 0 or pos > self.nodeCnt:\n",
    "        return None\n",
    "\n",
    "    # 노드를 1로 줌\n",
    "    idx = 1 \n",
    "    current = self.head\n",
    "    \n",
    "    while i < pos :\n",
    "        current = current.next \n",
    "        idx += 1 # 1씩 증가함으로써 다음 번 노드를 가리키기 위함\n",
    "    \n",
    "    return current "
   ]
  },
  {
   "cell_type": "markdown",
   "id": "d0acc2dc",
   "metadata": {},
   "source": [
    "## 배열 VS 연결 리스트\n",
    "\n",
    "* 　　　   　　　　　　　　    배열  　　　　　 연결 리스트\n",
    "* 저장공간 　　　　　　연속한 위치 　　　      임의의 위치\n",
    "* 특정 원소 지칭　　　 　매우 간편 　　　      선형탐색과 유사\n",
    "*　　　　　　　　　　　　O(1)  　　　　　　　O(n)\n",
    "\n",
    "#### 저장공간\n",
    "* 배열은 연속한 위치에 데이터가 놓아짐\n",
    "* 연결 리스트는 각 노드들이 링크로 연결되어 있어, 임의의 위치에 놓아져야 함\n",
    "\n",
    "#### 특정 원소 지칭\n",
    "* 배열의 경우 인덱스 지정 하면 바로 찾을 수 있음.\n",
    "* 연결 리스트는 getAt 메서드를 보면 알 수 있다시피, 선형탐색과 유사(앞에 노드서 부터 찾아야 함)\n",
    "\n",
    "#### 그런데도 배열 말고 연결리스트를 사용하는 이유는?\n",
    "* 삽입과 삭제를 유연하게 사용할 수 있음\n",
    "* 두 개의 리스트를 병합하는 것도 쉽게 할 수 있음"
   ]
  },
  {
   "cell_type": "markdown",
   "id": "338743ed",
   "metadata": {},
   "source": [
    "## 연습문제 - 리스트 순회"
   ]
  },
  {
   "cell_type": "code",
   "execution_count": 3,
   "id": "37385c9f",
   "metadata": {},
   "outputs": [],
   "source": [
    "# 이 방법은 1-> 1->2 -> 1->2->3 ->1->2->3->4 \n",
    "# 방법이므로, 시간을 많이 잡기 때문에 이렇게 작성하면 안됨\n",
    "       \n",
    "\n",
    "def traverse(self):\n",
    "    \n",
    "    idx = 1\n",
    "    arr = []\n",
    "    while i <= self.nodeCnt:\n",
    "        arr.append(self.getAt(i))\n",
    "    return arr"
   ]
  },
  {
   "cell_type": "code",
   "execution_count": 4,
   "id": "b816101a",
   "metadata": {},
   "outputs": [],
   "source": [
    "# 1-> 2-> 3-> 4-> 5 Head에서 시작해서 연결해주는 것을 원함. \n",
    "# 마지막 노드는 None 인지 판단하면 됨\n",
    "\n",
    "\n",
    "\n",
    "# 생성자 \n",
    "class Node:\n",
    "    def __init__(self, item):\n",
    "        self.data = item # 67 \n",
    "        self.next = None  # 처음 생성할 땐 다음에 붙을 게 없기 때문에 None(Next) \n",
    "\n",
    "\n",
    "# 비어 있는 연결 리스트\n",
    "class LinkedList:\n",
    "    def __init__(self):\n",
    "        self.nodeCnt = 0\n",
    "        self.head = None  # 처음 생성할 땐 Head가 아무것도 가리키지 않음 \n",
    "        self.tail = None  # 처음 생성할 땐 tail가 아무것도 가리키지 않음\n",
    "        \n",
    "    \n",
    "    # pos 번째에 있는 노드를 뽑아서 return\n",
    "    def getAt(self, pos):\n",
    "        # pos 가 0보다 작거나 같은지? 또는 pos가 가지고 있는 노드수 보다 크면 None 반환\n",
    "        if pos <= 0 or pos > self.nodeCnt:\n",
    "            return None\n",
    "\n",
    "        # 노드를 1로 줌\n",
    "        idx = 1 \n",
    "        current = self.head\n",
    "\n",
    "        while i < pos:\n",
    "            current = current.next \n",
    "            idx += 1 # 1씩 증가함으로써 다음 번 노드를 가리키기 위함\n",
    "\n",
    "        return current\n",
    "\n",
    "    \n",
    "    #[67[끝]]  -> [34[끝]] -> [58[끝]]\n",
    "   #* ↑ head (67)  　　      ↑ Tail (58) \n",
    "\n",
    "    def traverse(self) :\n",
    "        arr = []\n",
    "        node = self.head  # node의 앞(head) 저장\n",
    "        \n",
    "        # node가 없을 때 까지 \n",
    "        while node != None:\n",
    "            arr.append(node.data)  # node의 앞(head)에서 데이터(item) 저장 후 \n",
    "            node = node.next # 다음 번째의 노드를 가리킴 1-> 2-> 3->\n",
    "        \n",
    "        return arr\n",
    "\n",
    "    \n",
    "    \n",
    "def solution(x):\n",
    "    return 0"
   ]
  }
 ],
 "metadata": {
  "kernelspec": {
   "display_name": "Python 3",
   "language": "python",
   "name": "python3"
  },
  "language_info": {
   "codemirror_mode": {
    "name": "ipython",
    "version": 3
   },
   "file_extension": ".py",
   "mimetype": "text/x-python",
   "name": "python",
   "nbconvert_exporter": "python",
   "pygments_lexer": "ipython3",
   "version": "3.8.8"
  }
 },
 "nbformat": 4,
 "nbformat_minor": 5
}
