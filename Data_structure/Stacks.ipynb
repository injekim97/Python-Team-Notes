{
 "cells": [
  {
   "cell_type": "markdown",
   "id": "bbeecaa7",
   "metadata": {},
   "source": [
    "### 스택 (Stack)\n",
    "* 자료(data element) 를 보관할 수 있는 선형 구조\n",
    "* 단, 넣을 때는 한 쪽 끝에서 밀어 넣어야 하며 (push 연산)\n",
    "* 꺼낼 땐 같은 쪽에서 뽑아 꺼내야 함 (pop 연산)\n",
    "\n",
    "* 후입선출(LIFO) 특징을 가지는 선형 자료 구조"
   ]
  },
  {
   "cell_type": "markdown",
   "id": "1bf54db5",
   "metadata": {},
   "source": [
    "### 스택의 동작\n",
    "* 처음에 비어 있음 (empty stack)    \n",
    "* S = Stack()\n",
    "\n",
    "\n",
    "* 데이터 원소 A를 스택에 추가\n",
    "* S.push(A)\n",
    "\n",
    "\n",
    "* 데이터 원소 B를 스택에 추가\n",
    "* S.push(B)\n",
    "\n",
    "\n",
    "* 데이터 원소 꺼내기 \n",
    "* r1 = S.pop()    B가 꺼내짐\n",
    "\n",
    "\n",
    "* 데이터 원소 또 꺼내기 \n",
    "* r2 = S.pop()    A가 꺼내짐"
   ]
  },
  {
   "cell_type": "markdown",
   "id": "d2e2556a",
   "metadata": {},
   "source": [
    "### 스택에서 발생하는 오류(주의 사항)\n",
    "\n",
    "#### 비어 있는 스택에서 데이터 원소 꺼낸다면? \n",
    "* r3 = S.pop()  \n",
    "* ★★★ 스택 언더플로우(stack underflow) 에러 발생 ★★★\n",
    "\n",
    "\n",
    "#### 꽉 찬 스택에서 데이터 원소를 넣으려고 할 때? (스택 크기가 4일 때)\n",
    "* S = Stack()\n",
    "* S.push(A)\n",
    "* S.push(B)\n",
    "* S.push(C)\n",
    "* S.push(D)\n",
    "* S.push(E)  ->  에러 발생 (스택 크기를 넘어서)\n",
    "* ★★★ 스택 오버플로우(stack overflow) 에러 발생 ★★★"
   ]
  },
  {
   "cell_type": "markdown",
   "id": "45816d85",
   "metadata": {},
   "source": [
    "### 스택을 추상적 자료구조로 구현 하는 방법?\n",
    "\n",
    "\n",
    "1. 배열을 이용하여 구현\n",
    "* 파이썬의 list 와 메서드를 이용\n",
    "\n",
    "2. 연결리스트를 이용하여 구현\n",
    "* 양방향 연결 리스트를 이용\n",
    "\n",
    "\n",
    "\n",
    "#### 연산의 정의\n",
    "* size() : 현재 스택에 들어 있는 데이터 원소의 수를 궇마\n",
    "* isEmpty() : 현재 스택에 비어 있는지를 판단\n",
    "* push(x) : 데이터 원소 x를 스택에 축자\n",
    "* pop() : 스택의 맨 위에 저장된 데이터 원소를 제거 (반환)\n",
    "* peek() : 스택의 맨 위에 저장된 데이터 원소를 반환(제거하는거 아님)\n"
   ]
  },
  {
   "cell_type": "code",
   "execution_count": 1,
   "id": "7ea1e4a8",
   "metadata": {},
   "outputs": [],
   "source": [
    "# 1. 배열로 구현한 스택\n",
    "\n",
    "class ArrayStack :\n",
    "    \n",
    "    # 빈 스택을 초기화\n",
    "    def __init__(self) :\n",
    "        self.data = []\n",
    "        \n",
    "    \n",
    "    def size(self):\n",
    "        return len(self.data) # size 이므로 len 메서드 사용해서 크기 구함\n",
    "    \n",
    "    \n",
    "    # size 메서드를 사용해서 0이라면 비어 있는 것\n",
    "    def isEmpty(self) :\n",
    "        return self.size() == 0  \n",
    "        \n",
    "\n",
    "        \n",
    "    # 데이터 원소 추가\n",
    "    def push(self,item) :\n",
    "        self.data.append(item)\n",
    "\n",
    "        \n",
    "    # 데이터 원소를 삭제(return)\n",
    "    def pop(self) :\n",
    "        return self.data.pop()\n",
    "    \n",
    "    \n",
    "    # 스택의 꼭대기 원소 반환 (제거하지 않음)\n",
    "    def peek(self) :\n",
    "        return self.data[-1]"
   ]
  },
  {
   "cell_type": "code",
   "execution_count": 2,
   "id": "478e53ca",
   "metadata": {},
   "outputs": [
    {
     "ename": "SyntaxError",
     "evalue": "invalid syntax (<ipython-input-2-df5c0986562f>, line 3)",
     "output_type": "error",
     "traceback": [
      "\u001b[1;36m  File \u001b[1;32m\"<ipython-input-2-df5c0986562f>\"\u001b[1;36m, line \u001b[1;32m3\u001b[0m\n\u001b[1;33m    from Doubly Linked Lists import Node\u001b[0m\n\u001b[1;37m                ^\u001b[0m\n\u001b[1;31mSyntaxError\u001b[0m\u001b[1;31m:\u001b[0m invalid syntax\n"
     ]
    }
   ],
   "source": [
    "# 2. 양방향 연결 리스트를 이용해서 스택 구현\n",
    "\n",
    "from Doubly Linked Lists import Node\n",
    "from Doubly Linked Lists import Doubly Linked Lists"
   ]
  },
  {
   "cell_type": "code",
   "execution_count": null,
   "id": "a4f17ba4",
   "metadata": {},
   "outputs": [],
   "source": []
  }
 ],
 "metadata": {
  "kernelspec": {
   "display_name": "Python 3",
   "language": "python",
   "name": "python3"
  },
  "language_info": {
   "codemirror_mode": {
    "name": "ipython",
    "version": 3
   },
   "file_extension": ".py",
   "mimetype": "text/x-python",
   "name": "python",
   "nbconvert_exporter": "python",
   "pygments_lexer": "ipython3",
   "version": "3.8.8"
  }
 },
 "nbformat": 4,
 "nbformat_minor": 5
}
