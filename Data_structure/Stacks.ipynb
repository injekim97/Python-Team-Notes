{
 "cells": [
  {
   "cell_type": "markdown",
   "id": "213d963d",
   "metadata": {},
   "source": [
    "### 스택 (Stack)\n",
    "* 자료(data element) 를 보관할 수 있는 선형 구조\n",
    "* 단, 넣을 때는 한 쪽 끝에서 밀어 넣어야 하며 (push 연산)\n",
    "* 꺼낼 땐 같은 쪽에서 뽑아 꺼내야 함 (pop 연산)\n",
    "\n",
    "* 후입선출(LIFO) 특징을 가지는 선형 자료 구조"
   ]
  },
  {
   "cell_type": "markdown",
   "id": "ba769e8b",
   "metadata": {},
   "source": [
    "### 스택의 동작\n",
    "* 처음에 비어 있음 (empty stack)    \n",
    "* S = Stack()\n",
    "\n",
    "\n",
    "* 데이터 원소 A를 스택에 추가\n",
    "* S.push(A)\n",
    "\n",
    "\n",
    "* 데이터 원소 B를 스택에 추가\n",
    "* S.push(B)\n",
    "\n",
    "\n",
    "* 데이터 원소 꺼내기 \n",
    "* r1 = S.pop()    B가 꺼내짐\n",
    "\n",
    "\n",
    "* 데이터 원소 또 꺼내기 \n",
    "* r2 = S.pop()    A가 꺼내짐"
   ]
  },
  {
   "cell_type": "markdown",
   "id": "edec6655",
   "metadata": {},
   "source": [
    "### 스택에서 발생하는 오류(주의 사항)\n",
    "\n",
    "#### 비어 있는 스택에서 데이터 원소 꺼낸다면? \n",
    "* r3 = S.pop()  \n",
    "* ★★★ 스택 언더플로우(stack underflow) 에러 발생 ★★★\n",
    "\n",
    "\n",
    "#### 꽉 찬 스택에서 데이터 원소를 넣으려고 할 때? (스택 크기가 4일 때)\n",
    "* S = Stack()\n",
    "* S.push(A)\n",
    "* S.push(B)\n",
    "* S.push(C)\n",
    "* S.push(D)\n",
    "* S.push(E)  ->  에러 발생 (스택 크기를 넘어서)\n",
    "* ★★★ 스택 오버플로우(stack overflow) 에러 발생 ★★★"
   ]
  },
  {
   "cell_type": "markdown",
   "id": "44193e1e",
   "metadata": {},
   "source": [
    "### 스택을 추상적 자료구조로 구현 하는 방법?\n",
    "\n",
    "\n",
    "1. 배열을 이용하여 구현\n",
    "* 파이썬의 list 와 메서드를 이용\n",
    "\n",
    "2. 연결리스트를 이용하여 구현\n",
    "* 양방향 연결 리스트를 이용\n",
    "\n",
    "\n",
    "\n",
    "#### 연산의 정의\n",
    "* size() : 현재 스택에 들어 있는 데이터 원소의 수를 궇마\n",
    "* isEmpty() : 현재 스택에 비어 있는지를 판단\n",
    "* push(x) : 데이터 원소 x를 스택에 축자\n",
    "* pop() : 스택의 맨 위에 저장된 데이터 원소를 제거 (반환)\n",
    "* peek() : 스택의 맨 위에 저장된 데이터 원소를 반환(제거하는거 아님)\n"
   ]
  },
  {
   "cell_type": "code",
   "execution_count": 1,
   "id": "f775b6a9",
   "metadata": {},
   "outputs": [],
   "source": [
    "# 1. 배열로 구현한 스택\n",
    "\n",
    "class ArrayStack :\n",
    "    \n",
    "    # 빈 스택을 초기화\n",
    "    def __init__(self) :\n",
    "        self.data = []\n",
    "        \n",
    "    \n",
    "    def size(self):\n",
    "        return len(self.data) # size 이므로 len 메서드 사용해서 크기 구함\n",
    "    \n",
    "    \n",
    "    # size 메서드를 사용해서 0이라면 비어 있는 것\n",
    "    def isEmpty(self) :\n",
    "        return self.size() == 0  \n",
    "        \n",
    "\n",
    "        \n",
    "    # 데이터 원소 추가\n",
    "    def push(self,item) :\n",
    "        self.data.append(item)\n",
    "\n",
    "        \n",
    "    # 데이터 원소를 삭제(return)\n",
    "    def pop(self) :\n",
    "        return self.data.pop()\n",
    "    \n",
    "    \n",
    "    # 스택의 꼭대기 원소 반환 (제거하지 않음)\n",
    "    def peek(self) :\n",
    "        return self.data[-1]"
   ]
  },
  {
   "cell_type": "code",
   "execution_count": 9,
   "id": "78827fc6",
   "metadata": {},
   "outputs": [],
   "source": [
    "# 2. 양방향 연결 리스트를 이용해서 스택 구현\n",
    "\n",
    "\n",
    "# DoublyLinkedLists.py 파일을 호출 함(안에 저장된 클래스 들을 사용하기 위함)\n",
    "from DoublyLinkedLists import *\n",
    "\n",
    "class LinkedListStack :\n",
    "    \n",
    "    # 비어 있는 양방향 연결리스트로 초기화\n",
    "    def __init__(self) :\n",
    "        self.data = DoublyLinkedList()\n",
    "        \n",
    "        \n",
    "    # 양방향 연결리스트의 getLength()를 이용해서 길이 측정\n",
    "    def size(self):\n",
    "        return self.data.getLength()\n",
    "    \n",
    "    \n",
    "    # 양방향 연결리스트의 size() 가 0 이면 비어 있음\n",
    "    def isEmpty(self):\n",
    "        return self.size() == 0\n",
    "    \n",
    "    \n",
    "    # 양방향 연결리스트의 데이터 원소 넣기\n",
    "    def push(self,item) :\n",
    "        node = Node(item) # 새로 노드를 만들어서 \n",
    "        self.data.insertAt(self.size() + 1, node) # 지금 가지고 있는 원소 수 + 1 이므로 마지막에 데이터 원소 추가\n",
    "        \n",
    "    \n",
    "    # 양방향 연결리스트의 데이터 원소 삭제(return)\n",
    "    def pop(self) :\n",
    "        return self.data.popAt(self,size()) # popAt(self,size()) 맨 마지막의 데이터 원소를 찾아 pop\n",
    "    \n",
    "    def peek(self) :\n",
    "        return self.data.getAt(self.size()).data # popAt(self,size()) 맨 마지막의 데이터 원소를 찾아 data 를 통해 return "
   ]
  },
  {
   "cell_type": "markdown",
   "id": "0ba863c5",
   "metadata": {},
   "source": [
    "### 파이썬에서 제공해주는 peek,pop,push,isEmpty,size 사용 방법?"
   ]
  },
  {
   "cell_type": "code",
   "execution_count": 11,
   "id": "904c3a92",
   "metadata": {},
   "outputs": [
    {
     "name": "stdout",
     "output_type": "stream",
     "text": [
      "Collecting pythonds\n",
      "  Downloading pythonds-1.2.1-py3-none-any.whl (14 kB)\n",
      "Installing collected packages: pythonds\n",
      "Successfully installed pythonds-1.2.1\n"
     ]
    }
   ],
   "source": [
    "!pip install pythonds"
   ]
  },
  {
   "cell_type": "code",
   "execution_count": 18,
   "id": "b04caa05",
   "metadata": {},
   "outputs": [
    {
     "name": "stdout",
     "output_type": "stream",
     "text": [
      "['__class__', '__delattr__', '__dict__', '__dir__', '__doc__', '__eq__', '__format__', '__ge__', '__getattribute__', '__gt__', '__hash__', '__init__', '__init_subclass__', '__le__', '__lt__', '__module__', '__ne__', '__new__', '__reduce__', '__reduce_ex__', '__repr__', '__setattr__', '__sizeof__', '__str__', '__subclasshook__', '__weakref__', 'isEmpty', 'items', 'peek', 'pop', 'push', 'size']"
     ]
    }
   ],
   "source": [
    "from pythonds.basic.stack import *\n",
    "\n",
    "S = Stack()\n",
    "print(dir(S),end=\"\")"
   ]
  },
  {
   "cell_type": "markdown",
   "id": "a70e9ce0",
   "metadata": {},
   "source": [
    "### 연습무제 - 수식의 괄호 유효성 검사\n",
    "\n",
    "올바른 수식\n",
    "* (A + B)\n",
    "* {(A + B) * C}\n",
    "* [(A + B) * (C + D)]\n",
    "\n",
    "\n",
    "잘못된 수식 \n",
    "* (A + B\n",
    "* A + B)\n",
    "* {A + (B * C})\n",
    "* [(A + B) * (C + D)}\n",
    "\n",
    "\n",
    "#### 알고리즘 설계 - 수식을 왼쪽부터 한 글짜식 읽어서\n",
    "* 여는 괄호 (,{,[ 를 만나면 스택에 push\n",
    "\n",
    "\n",
    "* 닫는 괄호 ),},] 를 만나면  \n",
    "* 스택에 비어 있으면 올바르지 않은 수식\n",
    "* 스택에서 pop, 쌍을 이루는 여는 괄호인지 검사\n",
    "* 맞지 않으면 올바르지 않은 수식\n"
   ]
  },
  {
   "cell_type": "code",
   "execution_count": 20,
   "id": "83f49e14",
   "metadata": {},
   "outputs": [],
   "source": [
    "# 연습문제 답안 코드\n",
    "\n",
    "class ArrayStack:\n",
    "\n",
    "    def __init__(self):\n",
    "        self.data = []\n",
    "\n",
    "    def size(self):\n",
    "        return len(self.data)\n",
    "\n",
    "    def isEmpty(self):\n",
    "        return self.size() == 0\n",
    "\n",
    "    def push(self, item):\n",
    "        self.data.append(item)\n",
    "\n",
    "    def pop(self):\n",
    "        return self.data.pop()\n",
    "\n",
    "    def peek(self):\n",
    "        return self.data[-1]\n",
    "\n",
    "\n",
    "\n",
    "def solution(expr):\n",
    "    match = {\n",
    "        ')': '(',\n",
    "        '}': '{',\n",
    "        ']': '['\n",
    "    }\n",
    "    S = ArrayStack()\n",
    "    for c in expr:\n",
    "        if c in '({[':\n",
    "            S.push(c)          # 빈칸 부분 = S.push(c)\n",
    "        \n",
    "        # (,{,[, 가 있는데 비어있다면 False\n",
    "        elif c in match:\n",
    "            if S.isEmpty():     # 빈칸 부분 = S.isEmpty()\n",
    "                return False\n",
    "            \n",
    "            # (,{,[, 가 있는데 비어있지 않다면 pop  \n",
    "            else:\n",
    "                t = S.pop()     # 빈칸 부분 = t = S.pop() , 이부분 헷갈림\n",
    "\n",
    "                # 팝 한것과 match의 문자열이 다르다면?\n",
    "                if t != match[c]:    # 빈칸 부분 =  t != match[c] \n",
    "                    return False\n",
    "                \n",
    "    return S.isEmpty()"
   ]
  },
  {
   "cell_type": "code",
   "execution_count": null,
   "id": "22ac34cb",
   "metadata": {},
   "outputs": [],
   "source": []
  }
 ],
 "metadata": {
  "kernelspec": {
   "display_name": "Python 3",
   "language": "python",
   "name": "python3"
  },
  "language_info": {
   "codemirror_mode": {
    "name": "ipython",
    "version": 3
   },
   "file_extension": ".py",
   "mimetype": "text/x-python",
   "name": "python",
   "nbconvert_exporter": "python",
   "pygments_lexer": "ipython3",
   "version": "3.8.8"
  }
 },
 "nbformat": 4,
 "nbformat_minor": 5
}
