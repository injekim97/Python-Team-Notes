{
 "cells": [
  {
   "cell_type": "markdown",
   "id": "81638122",
   "metadata": {},
   "source": [
    "## 연결 리스트(Linked Lists) - 3\n",
    "\n",
    "\n",
    "\n",
    "장점\n",
    "* 삽입과 삭제가 유연하다는 것\n",
    "\n",
    "\n",
    "#### 새로운 메서드들을 정의\n",
    "insertAfter(prev,newNode)\n",
    "* 맨 앞에는 어떻게?\n",
    "\n",
    "popAfter(prev)\n",
    "* 맨 앞에서는 어떻게?\n"
   ]
  },
  {
   "cell_type": "markdown",
   "id": "a53427ff",
   "metadata": {},
   "source": [
    "## 조금 변형된 연결 리스트"
   ]
  },
  {
   "cell_type": "code",
   "execution_count": 1,
   "id": "c291d6a9",
   "metadata": {},
   "outputs": [],
   "source": [
    "# 처음 생성할 때의 연결 리스트\n",
    "class LinkedList:\n",
    "    def __init__(self):\n",
    "        self.nodeCnt = 0\n",
    "        self.head = Node(None)  # head를 가리키는 dummy node 만들어서, 그 Node 의 next 는 None로 정의\n",
    "        self.tail = None\n",
    "        self.head.next = self.tail"
   ]
  },
  {
   "cell_type": "markdown",
   "id": "d2cb8116",
   "metadata": {},
   "source": [
    "### 연산 정의\n",
    "1. 길이 얻어내기\n",
    "2. 리스트 순회\n",
    "3. 특정 원소 참조 (k 번째)\n",
    "4. 원소 삽입\n",
    "5. 원소 삭제\n",
    "6. 두 리스트 합치기"
   ]
  },
  {
   "cell_type": "code",
   "execution_count": 2,
   "id": "c9f0b71c",
   "metadata": {},
   "outputs": [],
   "source": [
    "## 연결 리스트 연산 - 리스트 순회\n",
    "def traverse(self):\n",
    "    result = []\n",
    "    current = self.head\n",
    "    \n",
    "    # ★★★ while 문 코드가 달라 졌음 ★★★\n",
    "    # next의 링크가 살아있는 한 result 리스트에 계속 데이터를 넣음\n",
    "    while current.next :\n",
    "        current = current.next\n",
    "        result.append(current.data)\n",
    "    return result"
   ]
  },
  {
   "cell_type": "code",
   "execution_count": 3,
   "id": "adefce69",
   "metadata": {},
   "outputs": [],
   "source": [
    "## 연결 리스트 연산 - k 번째 원소 얻어내기\n",
    "def getAt(self,pos):\n",
    "    if pos < 0 or pos > self.nodeCnt :    # 지난 번의 코드는 pos < 1, getAt(0) -> head\n",
    "        return None\n",
    "       \n",
    "    i = 0   # 지난 번의 코드는 i = 1 \n",
    "    current = self.head\n",
    "    while i < pos :\n",
    "        current = current.next\n",
    "        i += 1\n",
    "        \n",
    "    return current"
   ]
  },
  {
   "cell_type": "code",
   "execution_count": 4,
   "id": "acd8a428",
   "metadata": {},
   "outputs": [],
   "source": [
    "## 연결 리스트 연산 - 원소의 삽입\n",
    "\n",
    "# prev 가 가리키는 node 의 다음에\n",
    "# newNode를 삽입하고\n",
    "# 성공/실패에 따라 True/False 를 리턴\n",
    "def insertAfter(self,prev,newNode):\n",
    "    newNode.next = prev.next\n",
    "\n",
    "    # tail의 node에 삽입하는 경우?\n",
    "    if prev.next is None:\n",
    "        self.tail = newNode\n",
    "    \n",
    "    prev.next = newNode\n",
    "    self.nodeCnt += 1\n",
    "    return True"
   ]
  },
  {
   "cell_type": "code",
   "execution_count": 5,
   "id": "9f1f87d9",
   "metadata": {},
   "outputs": [],
   "source": [
    "## 연결 리스트 연산 - 두 리스트의 연결 \n",
    "def concat(self,L):\n",
    "    self.tail.next = L.head.next\n",
    "    if L.tail :\n",
    "        self.tail = L.tail\n",
    "    \n",
    "    self.nodeCnt += L.nodeCnt"
   ]
  },
  {
   "cell_type": "markdown",
   "id": "43ec0438",
   "metadata": {},
   "source": [
    "### 메서드 insertAt()의 구현\n",
    "def insertAt(self,pos,newNode):  \n",
    "    이미 구현한 insertAfter()를 호출하여 이용하는 것\n",
    "    \n",
    "    \n",
    "(1) pos 범위 조건 확인\n",
    "\n",
    "(2) pos == 1 인 경우에는 head 뒤에 새 node 삽입\n",
    "\n",
    "(3) pos == nodeCnt +1 인 경우는 prev <- tail\n",
    "\n",
    "(4) 그렇지 않은 경우에는 prev <- getAt(...)"
   ]
  },
  {
   "cell_type": "code",
   "execution_count": 6,
   "id": "5372a7e5",
   "metadata": {},
   "outputs": [],
   "source": [
    "def insertAt(self,pos,newNode):\n",
    "    if pos < 1 or pos > self.nodeCnt +1 :\n",
    "        return False\n",
    "    \n",
    "    \n",
    "    if pos != 1 and pos == self.nodeCnt + 1 :\n",
    "        prev = self.tail\n",
    "        \n",
    "    else :\n",
    "        prev = self.getAt(pos - 1)\n",
    "        \n",
    "    # code가 추가된 점\n",
    "    return self.insertAfter(prev,newNode)"
   ]
  },
  {
   "cell_type": "markdown",
   "id": "736b916a",
   "metadata": {},
   "source": [
    "## 연결 리스트 연산 - 원소의 삭제\n",
    "\n",
    "def popAfter(self,prev):\n",
    "#### prev 의 다음 node 를 삭제하고 그 node의 data를 리턴"
   ]
  },
  {
   "cell_type": "markdown",
   "id": "79d667b7",
   "metadata": {},
   "source": [
    "## 코드 구현시 주의 사항\n",
    "\n",
    "* (1) prev 가 마지막 node 일 때 (prev.next == None)\n",
    "* 삭제할 node 없음\n",
    "* return None\n",
    "\n",
    "\n",
    "* (2) 리스트 맨 끝의 node를 삭제할 때 (current.next == None)\n",
    "* Tail 조정 필요"
   ]
  },
  {
   "cell_type": "markdown",
   "id": "708ff3b3",
   "metadata": {},
   "source": [
    "## 연습문제\n",
    "\n",
    "(1) 메서드 popAfter()구현\n",
    "\n",
    "(2) 메서드 popAt()구현\n",
    "* 앞서 구현한 popAfter()를 호출하여 이용하는 것"
   ]
  },
  {
   "cell_type": "code",
   "execution_count": 7,
   "id": "3f3c4b85",
   "metadata": {},
   "outputs": [],
   "source": [
    "class Node:\n",
    "\n",
    "    def __init__(self, item):\n",
    "        self.data = item\n",
    "        self.next = None\n",
    "\n",
    "\n",
    "class LinkedList:\n",
    "\n",
    "    def __init__(self):\n",
    "        self.nodeCount = 0\n",
    "        self.head = Node(None)\n",
    "        self.tail = None\n",
    "        self.head.next = self.tail\n",
    "\n",
    "\n",
    "    def traverse(self):\n",
    "        result = []\n",
    "        curr = self.head\n",
    "        while curr.next:\n",
    "            curr = curr.next\n",
    "            result.append(curr.data)\n",
    "        return result\n",
    "\n",
    "\n",
    "    def getAt(self, pos):\n",
    "        if pos < 0 or pos > self.nodeCount:\n",
    "            return None\n",
    "\n",
    "        i = 0\n",
    "        curr = self.head\n",
    "        while i < pos:\n",
    "            curr = curr.next\n",
    "            i += 1\n",
    "\n",
    "        return curr\n",
    "\n",
    "\n",
    "    def insertAfter(self, prev, newNode):\n",
    "        newNode.next = prev.next\n",
    "        if prev.next is None:\n",
    "            self.tail = newNode\n",
    "        prev.next = newNode\n",
    "        self.nodeCount += 1\n",
    "        return True\n",
    "\n",
    "\n",
    "    def insertAt(self, pos, newNode):\n",
    "        if pos < 1 or pos > self.nodeCount + 1:\n",
    "            return False\n",
    "\n",
    "        if pos != 1 and pos == self.nodeCount + 1:\n",
    "            prev = self.tail\n",
    "        else:\n",
    "            prev = self.getAt(pos - 1)\n",
    "        return self.insertAfter(prev, newNode)\n",
    "\n",
    "\n",
    "    def popAfter(self, prev):\n",
    "        curr=prev.next\n",
    "        if prev.data==None:\n",
    "            prev.next=None\n",
    "        if curr.next == None:\n",
    "            self.tail=prev\n",
    "            prev.next=None\n",
    "        else:\n",
    "            prev.next=curr.next      \n",
    "        self.nodeCount -=1\n",
    "        return curr.data\n",
    "\n",
    "    def popAt(self, pos):\n",
    "        if pos<1 or pos>self.nodeCount:\n",
    "            raise IndexError\n",
    "        else:\n",
    "            prev=self.getAt(pos-1)\n",
    "            return self.popAfter(prev)\n",
    "\n",
    "\n",
    "def solution(x):\n",
    "    return 0"
   ]
  }
 ],
 "metadata": {
  "kernelspec": {
   "display_name": "Python 3",
   "language": "python",
   "name": "python3"
  },
  "language_info": {
   "codemirror_mode": {
    "name": "ipython",
    "version": 3
   },
   "file_extension": ".py",
   "mimetype": "text/x-python",
   "name": "python",
   "nbconvert_exporter": "python",
   "pygments_lexer": "ipython3",
   "version": "3.8.8"
  }
 },
 "nbformat": 4,
 "nbformat_minor": 5
}
