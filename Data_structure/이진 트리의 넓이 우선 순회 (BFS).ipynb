{
 "cells": [
  {
   "cell_type": "markdown",
   "id": "b8f1a4df",
   "metadata": {},
   "source": [
    "## 이진 트리의 넓이 우선 순회 (BFS)"
   ]
  },
  {
   "cell_type": "markdown",
   "id": "70d74d84",
   "metadata": {},
   "source": [
    "원칙\n",
    "* 수준(level) 이 낮은 노드를 우선으로 방문\n",
    "* 같은 수준의 노드들 사이에는 부모 노드의 방문 순서에 따라 방문\n",
    "* 같은 부모를 가지는 노드들 사이에는 왼쪽 자식 노드를 오른쪽 자식보다 먼저 방문\n",
    "\n",
    "\n",
    "재귀적(recursive) 방법이 적합한가?\n",
    "- 적합하지 않음"
   ]
  },
  {
   "cell_type": "markdown",
   "id": "6a15fd72",
   "metadata": {},
   "source": [
    "### 넓이 우선 순회 (BFS; Breadth First Traversal)"
   ]
  },
  {
   "cell_type": "markdown",
   "id": "7b77a75a",
   "metadata": {},
   "source": [
    "* 한 노드를 방문 했을 때, 나중에 방문할 노드들을 순서대로 기록해야 함\n",
    "* 큐를 이용"
   ]
  },
  {
   "cell_type": "markdown",
   "id": "62f61d5b",
   "metadata": {},
   "source": [
    "### 넓이 우선 순회 알고리즘 설계\n"
   ]
  },
  {
   "cell_type": "markdown",
   "id": "6a4dc500",
   "metadata": {},
   "source": [
    "* 큐를 이용\n",
    "\n",
    "루트 노드(root node)를 가장 먼저 넣음. A를 넣고 A 방문\n",
    "* 방문한 노드에 왼쪽 자식(B)과 오른쪽 자식(C)가 있다면 왼쪽 자식 넣고 오른쪽 자식을 넣음 \n",
    "* 방문 순서는 A \n",
    "* 지금 큐에 들어간 것은 B C 순서대로 들어가 있음\n",
    "\n",
    "\n",
    "그런 후에 왼쪽 자식(B)를 꺼낸 후, 꺼낸 왼쪽 자식(B)한테 왼쪽 자식(D), 오른쪽 자식(E)이 있는지 체크\n",
    "* 방문 순서는 A - B \n",
    "* 지금 큐에 들어간 것은 C D E 순서대로 들어가 있음\n",
    "\n",
    "\n",
    "큐에서 C를 꺼내면서 방문하면서 또 왼쪽 자식(F), 오른쪽 자식(G) 가 있으니 큐에 넣음\n",
    "* 방문 순서는 A - B - C\n",
    "* 지금 큐에 들어간 것은 D E F G 순서대로 들어가 있음\n",
    "\n",
    "\n",
    "큐에서 D를 꺼내면서 방문하면서 또 왼쪽 자식(H), 오른쪽 자식은 없으니 큐에 넣음\n",
    "* 방문 순서는 A - B - C - D\n",
    "* 지금 큐에 들어간 것은 E F G 순서대로 들어가 있음\n",
    "\n",
    "\n",
    "\n",
    "큐에서 E를 꺼내면서 방문하면서 왼쪽 자식, 오른쪽 자식이 없으니 PASS\n",
    "* 방문 순서는 A - B - C - D - E\n",
    "* 지금 큐에 들어간 것은 F G 순서대로 들어가 있음\n",
    "\n",
    "\n",
    "\n",
    "큐에서 F를 꺼내면서 방문하면서 또 왼쪽 자식 X , 오른쪽 자식(J) 큐에 넣음\n",
    "* 방문 순서는 A - B - C - D - E - F\n",
    "* 지금 큐에 들어간 것은 G H J 순서대로 들어가 있음\n",
    "\n",
    "\n",
    "큐에서 G를 꺼내면서 방문하면서 또 왼쪽 자식 X , 오른쪽 자식 X \n",
    "* 방문 순서는 A - B - C - D - E - F - G\n",
    "* 지금 큐에 들어간 것은 H J 순서대로 들어가 있음\n",
    "\n",
    "\n",
    "큐에서 H를 꺼내면서 방문하면서 또 왼쪽 자식 X , 오른쪽 자식 X \n",
    "* 방문 순서는 A - B - C - D - E - F - G - H\n",
    "* 지금 큐에 들어간 것은 J 순서대로 들어가 있음\n",
    "\n",
    "\n",
    "큐에서 J를 꺼내면서 방문하면서 또 왼쪽 자식 X , 오른쪽 자식 X \n",
    "* 방문 순서는 A - B - C - D - E - F - G - H - J\n",
    "* 지금 큐에 들어간 것은 없으니 모든 노드를 방문 했음"
   ]
  },
  {
   "cell_type": "markdown",
   "id": "94b0f804",
   "metadata": {},
   "source": [
    "### 넓이 우선 순회 알고리즘 구현(BFS)\n",
    "\n",
    "1. (초기화) traversal <- 빈 리스트, queue <- 빈 큐\n",
    "2. 빈 트리가 아니면, root node를 queue 에 추가 (enqueue)\n",
    "\n",
    "3. queue 가 비어 있지 않은 동안\n",
    "- 3-1. node <- queue 에서 원소를 추출 (dequeue)\n",
    "- 3-2. node를 방문\n",
    "- 3-3. node의 왼쪽,오른쪽 자식 (있으면) queue에 추가\n",
    "\n",
    "4. queue 가 빈 큐가 되면 모든 노드 방문 완료"
   ]
  },
  {
   "cell_type": "markdown",
   "id": "64064689",
   "metadata": {},
   "source": [
    "### 연습문제 - 이진 트리의 넓이 우선 순회(BFS)"
   ]
  },
  {
   "cell_type": "code",
   "execution_count": 3,
   "id": "1c2dd110",
   "metadata": {},
   "outputs": [],
   "source": [
    "class ArrayQueue:\n",
    "\n",
    "    def __init__(self):\n",
    "        self.data = []\n",
    "\n",
    "    def size(self):\n",
    "        return len(self.data)\n",
    "\n",
    "    def isEmpty(self):\n",
    "        return self.size() == 0\n",
    "\n",
    "    def enqueue(self, item):\n",
    "        self.data.append(item)\n",
    "\n",
    "    def dequeue(self):\n",
    "        return self.data.pop(0)\n",
    "\n",
    "    def peek(self):\n",
    "        return self.data[0]\n",
    "\n",
    "\n",
    "class Node:\n",
    "\n",
    "    def __init__(self, item):\n",
    "        self.data = item\n",
    "        self.left = None\n",
    "        self.right = None\n",
    "\n",
    "\n",
    "class BinaryTree:\n",
    "\n",
    "    def __init__(self, r):\n",
    "        self.root = r\n",
    "\n",
    "\n",
    "    # 빈칸 여기부분을 전체 채우기\n",
    "    def bft(self):\n",
    "        traversal = []\n",
    "        q= ArrayQueue()\n",
    "        \n",
    "        # root 노드를 enqueue로 넣음\n",
    "        if self.root:\n",
    "            q.enqueue(self.root)\n",
    "        \n",
    "        # 큐가 비어있지 않다면 \n",
    "        while not q.isEmpty():\n",
    "            # print(q.dequeue().data)\n",
    "            node=q.dequeue()\n",
    "            traversal.append(node.data) # 노드 데이터를 추가\n",
    "\n",
    "            # 왼쪽 노드에는 enqueue로 왼쪽 데이터 넣기\n",
    "            if node.left:\n",
    "                q.enqueue(node.left)\n",
    "                \n",
    "            # 오른쪽 노드에는 enqueue로 오른쪽 데이터 넣기\n",
    "            if node.right:\n",
    "                q.enqueue(node.right)\n",
    "\n",
    "        return traversal\n",
    "\n",
    "\n",
    "def solution(x):\n",
    "    return 0"
   ]
  }
 ],
 "metadata": {
  "kernelspec": {
   "display_name": "Python 3",
   "language": "python",
   "name": "python3"
  },
  "language_info": {
   "codemirror_mode": {
    "name": "ipython",
    "version": 3
   },
   "file_extension": ".py",
   "mimetype": "text/x-python",
   "name": "python",
   "nbconvert_exporter": "python",
   "pygments_lexer": "ipython3",
   "version": "3.8.8"
  }
 },
 "nbformat": 4,
 "nbformat_minor": 5
}
