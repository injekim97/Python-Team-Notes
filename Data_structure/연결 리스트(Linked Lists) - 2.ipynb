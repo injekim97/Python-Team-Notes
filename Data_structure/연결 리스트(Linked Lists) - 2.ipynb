{
 "cells": [
  {
   "cell_type": "markdown",
   "id": "0c2a469b",
   "metadata": {},
   "source": [
    "### 연결 리스트 (Linked Lists) - 2"
   ]
  },
  {
   "cell_type": "markdown",
   "id": "e833aa45",
   "metadata": {},
   "source": [
    "### 연산 정의\n",
    "1. 원소 삽입 \n",
    "2. 원소 삭제 \n",
    "3. 두 리스트 합치기 \n",
    "\n",
    "* 특정 원소 참조(k 번째) - 연결 리스트(Linked Lists) 1\n",
    "* 리스트 순회 - 연결 리스트(Linked Lists) 1\n",
    "* 길이 얻어내기 - 연결 리스트(Linked Lists) 1"
   ]
  },
  {
   "cell_type": "code",
   "execution_count": null,
   "id": "80946af6",
   "metadata": {},
   "outputs": [],
   "source": []
  }
 ],
 "metadata": {
  "kernelspec": {
   "display_name": "Python 3",
   "language": "python",
   "name": "python3"
  },
  "language_info": {
   "codemirror_mode": {
    "name": "ipython",
    "version": 3
   },
   "file_extension": ".py",
   "mimetype": "text/x-python",
   "name": "python",
   "nbconvert_exporter": "python",
   "pygments_lexer": "ipython3",
   "version": "3.8.8"
  }
 },
 "nbformat": 4,
 "nbformat_minor": 5
}
