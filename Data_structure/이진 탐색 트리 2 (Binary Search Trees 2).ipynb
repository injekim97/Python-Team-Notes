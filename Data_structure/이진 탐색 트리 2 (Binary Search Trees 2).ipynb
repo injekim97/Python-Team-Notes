{
 "cells": [
  {
   "cell_type": "markdown",
   "id": "1edef325",
   "metadata": {},
   "source": [
    "## 이진 탐색 트리 2 (Binary Search Trees 2)"
   ]
  },
  {
   "cell_type": "markdown",
   "id": "925fc411",
   "metadata": {},
   "source": [
    "1.키(key)를 이용해서 노드를 찾는다\n",
    "- 해당 키의 노드가 없으면, 삭제할 것도 없음\n",
    "- 찾은 노드의 부모 노드도 알고 있어야 함 (2번 때문)\n",
    "\n",
    "2.찾은 노드를 제거하고도 이진 탐색 트리 성질을 만족하도록 트리의 구조를 정리"
   ]
  },
  {
   "cell_type": "markdown",
   "id": "c37bceeb",
   "metadata": {},
   "source": [
    "### 인터페이스의 설계\n",
    "\n",
    "입력: 키(key)\n",
    "출력:\n",
    "- 삭제한 경우 True\n",
    "- 해당 키의 노드가 없는 경우 False"
   ]
  },
  {
   "cell_type": "code",
   "execution_count": 2,
   "id": "dbe33fbb",
   "metadata": {},
   "outputs": [],
   "source": [
    "# 인터페이스의 설계 - remove()\n",
    "class BinSearchTree:\n",
    "    def remove(self,key) :\n",
    "        node,parent = self.lookup(key)\n",
    "        \n",
    "        if node: \n",
    "            # ...\n",
    "            return True\n",
    "        \n",
    "        else :\n",
    "            return False"
   ]
  },
  {
   "cell_type": "markdown",
   "id": "5f253b39",
   "metadata": {},
   "source": [
    "### 이진 탐색 트리 구조의 유지\n",
    "\n",
    "#### 삭제 되는 노드가\n",
    "1.말단(left) 노드인 경우\n",
    "* 그냥 그 노드를 없애면 됨 (부모 노드의 링크를 조정(좌? 우?))\n",
    "\n",
    "2.자식을 하나 가지고 있는 경우\n",
    "* 삭제되는 노드 자리에 그 자식을 대신 배치 해야 함\n",
    "* 자식이 왼쪽인지 오른쪽 인지?\n",
    "* 부모 노드의 링크를 조정 (좌? 우?)\n",
    "\n",
    "3.자식을 둘 가지고 있는 경우\n",
    "* 삭제되는 노드보다 바로 다음 (큰) 키를 가지는 노드를 찾아\n",
    "* 그 노드를 삭제되는 노드 자리에 대신 배치하고 이 노드를 대신 삭제"
   ]
  },
  {
   "cell_type": "markdown",
   "id": "7bf1ec4d",
   "metadata": {},
   "source": [
    "### 특정한 노드의 자식 노드 개수 파악"
   ]
  },
  {
   "cell_type": "code",
   "execution_count": 5,
   "id": "17434923",
   "metadata": {},
   "outputs": [],
   "source": [
    "class Node :\n",
    "    def countChildren(self) :\n",
    "        count = 0\n",
    "        \n",
    "        if self.left :\n",
    "            count += 1\n",
    "        \n",
    "        if self.right :\n",
    "            count += 1\n",
    "            \n",
    "        return count"
   ]
  },
  {
   "cell_type": "markdown",
   "id": "23172a90",
   "metadata": {},
   "source": [
    "### 삭제하려는 경우가 말단 노드(leaf node) 일 때?"
   ]
  },
  {
   "cell_type": "markdown",
   "id": "3d76e570",
   "metadata": {},
   "source": [
    "삭제되는 노드(X) 가 root node 인 경우는 어떻게 ?\n",
    "* self.root = None"
   ]
  },
  {
   "cell_type": "markdown",
   "id": "9ee77d8c",
   "metadata": {},
   "source": [
    "### 말단 노드(leaf node) 의 삭제"
   ]
  },
  {
   "cell_type": "markdown",
   "id": "8635c6c1",
   "metadata": {},
   "source": [
    "삭제 하려는 X 값이\n",
    "* left에 있으면 left를 None으로 만들면 됨\n",
    "* right에 있으면 right를 None 으로 만들면 됨"
   ]
  },
  {
   "cell_type": "markdown",
   "id": "3c9c6e7d",
   "metadata": {},
   "source": [
    "### 자식이 하나인 노드의 삭제"
   ]
  },
  {
   "cell_type": "markdown",
   "id": "69d98d7a",
   "metadata": {},
   "source": [
    "* 삭제되는 노드(X)의 자식 자리에 아래의 노드를 넣으면 됨(왼쪽,오른쪽 둘다 상관 X)\n",
    "\n",
    "삭제되는 노드(X) 가 root node 인 경우는 어떻게?\n",
    "* 대신 들어오는 자식이 새로 root 가 됨"
   ]
  },
  {
   "cell_type": "markdown",
   "id": "037ce356",
   "metadata": {},
   "source": [
    "### 자식이 둘인 노드의 삭제"
   ]
  },
  {
   "cell_type": "markdown",
   "id": "06a0c517",
   "metadata": {},
   "source": [
    "* 오른쪽 노드에서 찾은 후, 왼쪽 서브트리의 값으로 대체 6 (S = Success)\n",
    "* 삭제되는 노드(X)에 6을 넣고 \n",
    "* 위에서 발견한 6 자리에 그 아래의 자식값으로 대체 7"
   ]
  },
  {
   "cell_type": "markdown",
   "id": "5e5b7786",
   "metadata": {},
   "source": [
    "다른 예제\n",
    "* 삭제되는 노드 X(8) \n",
    "* Success 노드는 (9) = 삭제되는 노드의 오른쪽 노드\n",
    "* Success Parrent는 자기 자신임 9 \n",
    "\n",
    "위와 같은 경우에는 오른쪽 자식 노드를 삭제 해야함"
   ]
  },
  {
   "cell_type": "markdown",
   "id": "b3c6301e",
   "metadata": {},
   "source": [
    "### 이진 탐색 트리가 별로 효율적이지 못한 경우"
   ]
  },
  {
   "cell_type": "markdown",
   "id": "478067de",
   "metadata": {},
   "source": [
    "* T = BinSearchTree()\n",
    "* T.insert(1,\"John\")\n",
    "* T.insert(2,\"Mary\")\n",
    "* T.insert(3,\"Anne\")\n",
    "* T.insert(4,\"Peter\")\n",
    "\n",
    "한쪽으로 치우쳐 있고 높이의 균형이 잡히지 않음\n",
    "\n",
    "4를 찾으려고 하면 선형탐색과 동등한 복잡도를 가짐\n",
    "\n",
    "4,3,2,1 순으로 해도 똑같이 한쪽으로 치우쳐 있어서 높이의 균형이 잡히지 않음"
   ]
  },
  {
   "cell_type": "markdown",
   "id": "8cb0a816",
   "metadata": {},
   "source": [
    "### 보다 나은 성능을 보이는 이진 탐색 트리들\n",
    "높이의 균형을 유지함으로써 O(logn) 의 탐색 복잡도 보장 삽입, 삭제 연산이 보다 복잡\n",
    "\n",
    "* AVL tree\n",
    "* Red-black tree\n",
    "\n",
    "위의 두 가지 트리는 균형을 유지하기 위한 제약조건이 있으며 좋은 탐색 성능을 가진 자료구조임\n"
   ]
  },
  {
   "cell_type": "markdown",
   "id": "dc53cd80",
   "metadata": {},
   "source": [
    "### 연습문제 - 이진 탐색 트리에서 노드의 삭제 연산 구현"
   ]
  },
  {
   "cell_type": "code",
   "execution_count": 9,
   "id": "230e7943",
   "metadata": {},
   "outputs": [],
   "source": [
    "class Node:\n",
    "\n",
    "    def __init__(self, key, data):\n",
    "        self.key = key\n",
    "        self.data = data\n",
    "        self.left = None\n",
    "        self.right = None\n",
    "\n",
    "    def insert(self, key, data):\n",
    "        if key < self.key:\n",
    "            if self.left:\n",
    "                self.left.insert(key, data)\n",
    "            else:\n",
    "                self.left = Node(key, data)\n",
    "        elif key > self.key:\n",
    "            if self.right:\n",
    "                self.right.insert(key, data)\n",
    "            else:\n",
    "                self.right = Node(key, data)\n",
    "        else:\n",
    "            raise KeyError('Key %s already exists.' % key)\n",
    "\n",
    "    def lookup(self, key, parent=None):\n",
    "        if key < self.key:\n",
    "            if self.left:\n",
    "                return self.left.lookup(key, self)\n",
    "            else:\n",
    "                return None, None\n",
    "        elif key > self.key:\n",
    "            if self.right:\n",
    "                return self.right.lookup(key, self)\n",
    "            else:\n",
    "                return None, None\n",
    "        else:\n",
    "            return self, parent\n",
    "\n",
    "    def inorder(self):\n",
    "        traversal = []\n",
    "        if self.left:\n",
    "            traversal += self.left.inorder()\n",
    "        traversal.append(self)\n",
    "        if self.right:\n",
    "            traversal += self.right.inorder()\n",
    "        return traversal\n",
    "\n",
    "    def countChildren(self):\n",
    "        count = 0\n",
    "        if self.left:\n",
    "            count += 1\n",
    "        if self.right:\n",
    "            count += 1\n",
    "        return count\n",
    "\n",
    "class BinSearchTree:\n",
    "\n",
    "    def __init__(self):\n",
    "        self.root = None\n",
    "\n",
    "    def insert(self, key, data):\n",
    "        if self.root:\n",
    "            self.root.insert(key, data)\n",
    "        else:\n",
    "            self.root = Node(key, data)\n",
    "\n",
    "    def lookup(self, key):\n",
    "        if self.root:\n",
    "            return self.root.lookup(key)\n",
    "        else:\n",
    "            return None, None\n",
    "        \n",
    "        \n",
    "    # 빈칸 부분 주석 보고 채워 넣기\n",
    "    def remove(self, key):\n",
    "        node, parent = self.lookup(key)\n",
    "        \n",
    "        if node:\n",
    "            nChildren = node.countChildren()\n",
    "        \n",
    "            # The simplest case of no children\n",
    "            if nChildren == 0:\n",
    "                # 만약 parent 가 있으면\n",
    "                # node 가 왼쪽 자식인지 오른쪽 자식인지 판단하여\n",
    "                # parent.left 또는 parent.right 를 None 으로 하여\n",
    "                # leaf node 였던 자식을 트리에서 끊어내어 없앱니다.\n",
    "                if parent:\n",
    "                    if parent.left == node:\n",
    "                        parent.left = None\n",
    "                    if parent.right == node:\n",
    "                        parent.right = None\n",
    "            \n",
    "                # 만약 parent 가 없으면 (node 는 root 인 경우)\n",
    "                # self.root 를 None 으로 하여 빈 트리로 만듭니다.\n",
    "                else:\n",
    "                    self.root = None\n",
    "            \n",
    "            \n",
    "            # When the node has only one child\n",
    "            elif nChildren == 1:\n",
    "            \n",
    "                # 하나 있는 자식이 왼쪽인지 오른쪽인지를 판단하여\n",
    "                # 그 자식을 어떤 변수가 가리키도록 합니다.\n",
    "                if node.left:\n",
    "                    temp = node.left\n",
    "                \n",
    "                else:\n",
    "                    temp = node.right\n",
    "                \n",
    "                \n",
    "                \n",
    "                # 만약 parent 가 있으면\n",
    "                # node 가 왼쪽 자식인지 오른쪽 자식인지 판단하여\n",
    "                # 위에서 가리킨 자식을 대신 node 의 자리에 넣습니다.\n",
    "                if parent:\n",
    "                    if parent.left == node:\n",
    "                        parent.left = temp\n",
    "                    else:\n",
    "                        parent.right = temp\n",
    "                \n",
    "                \n",
    "                # 만약 parent 가 없으면 (node 는 root 인 경우)\n",
    "                # self.root 에 위에서 가리킨 자식을 대신 넣습니다.\n",
    "                else:\n",
    "                    self.root = temp\n",
    "            \n",
    "            \n",
    "            # When the node has both left and right children\n",
    "            else:\n",
    "                parent = node\n",
    "                successor = node.right\n",
    "            \n",
    "            \n",
    "            \n",
    "                # parent 는 node 를 가리키고 있고,\n",
    "                # successor 는 node 의 오른쪽 자식을 가리키고 있으므로\n",
    "                # successor 로부터 왼쪽 자식의 링크를 반복하여 따라감으로써\n",
    "                # 순환문이 종료할 때 successor 는 바로 다음 키를 가진 노드를,\n",
    "                # 그리고 parent 는 그 노드의 부모 노드를 가리키도록 찾아냅니다.\n",
    "                while successor.left:\n",
    "                    parent = successor\n",
    "                    successor = successor.left\n",
    "                \n",
    "                \n",
    "                # 삭제하려는 노드인 node 에 successor 의 key 와 data 를 대입합니다.\n",
    "                node.key = successor.key\n",
    "                node.data = successor.data\n",
    "                \n",
    "                \n",
    "                # 이제, successor 가 parent 의 왼쪽 자식인지 오른쪽 자식인지를 판단하여\n",
    "                # 그에 따라 parent.left 또는 parent.right 를\n",
    "                # successor 가 가지고 있던 (없을 수도 있지만) 자식을 가리키도록 합니다.\n",
    "                if parent.left == successor:\n",
    "                    parent.left = successor.right\n",
    "                else:\n",
    "                    parent.right = successor.right\n",
    "\n",
    "            return True\n",
    "\n",
    "        else:\n",
    "            return False\n",
    "\n",
    "        \n",
    "    def inorder(self):\n",
    "        if self.root:\n",
    "            return self.root.inorder()\n",
    "        else:\n",
    "            return []\n",
    "\n",
    "def solution(x):\n",
    "    return 0"
   ]
  }
 ],
 "metadata": {
  "kernelspec": {
   "display_name": "Python 3",
   "language": "python",
   "name": "python3"
  },
  "language_info": {
   "codemirror_mode": {
    "name": "ipython",
    "version": 3
   },
   "file_extension": ".py",
   "mimetype": "text/x-python",
   "name": "python",
   "nbconvert_exporter": "python",
   "pygments_lexer": "ipython3",
   "version": "3.8.8"
  }
 },
 "nbformat": 4,
 "nbformat_minor": 5
}
