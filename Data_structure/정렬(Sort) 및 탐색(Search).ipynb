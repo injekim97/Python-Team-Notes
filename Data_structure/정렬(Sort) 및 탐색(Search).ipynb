{
 "cells": [
  {
   "cell_type": "markdown",
   "id": "756f71bf",
   "metadata": {},
   "source": [
    "#### 정렬(sort) 이란?\n",
    "* 복수의 원소로 주어진 데이터를 정해진 기준(내림차순 또는 오름차순)에 따라 새로 늘어놓는 작업 \n",
    "\n",
    "#### 정렬에서 내장 함수와 메서드 차이 \n",
    "* 파이썬 내장 함수 sorted(리스트명) -> 정렬된 새로운 리스트를 얻어냄\n",
    "* 리스트에 쓸 수 있는 메서드 리스트명.sort() -> 해당 리스트를 정렬\n",
    " \n",
    "\n",
    "\n",
    "#### 탐색 (search) 이란?\n",
    "* 복수의 원소로 이루어진 데이터에서 특정 원소를 찾아내는 작업\n",
    "\n",
    "\n",
    "#### 탐색에도 여러 가지 방법이 있지만, 아주 기본적인 두 가지를 소개합니다.\n",
    "* 선형 탐색 (linear search) == 순차 탐색 (sequential search): 순차적으로 모든 요소들을 탐색하여 원하는 값을 찾아냄.\n",
    "* 배열의 길이에 비례하는 시간이 걸리므로, 최악의 경우에는 배열에 있는 모든 원소를 다 검사해야 함.\n",
    "\n",
    "* 이진 탐색 (binary search): 탐색하려는 배열이 이미 정렬되어 있는 경우에만 적용가능\n",
    "* 배열의 가운데 원소와 찾으려 하는 값을 비교하면, (크기 순으로 정렬되어 있다는 성질을 이용하면) 왼쪽에 있을지 오른쪽에 있을지를 알 수 있음.\n",
    "* 그러면, 적어도 반대쪽에 없는 것은 확실하므로, 배열의 반을 탐색하지 않고 버릴 수 있어서 이 과정을 반복하면 원하는 값을 찾아낼 수 있음. \n",
    "* 그래서 이진 탐색이 선형 탐색보다 빠른 방법이기는 하지만, 꼭 배열이 정렬 되어 있어야하는 상태여야 합니다. \n",
    "* 배열을 정렬해야 한다던데, 크기 순으로 정렬하는 것은 금방 되나요?, 한 번만 탐색하고 말 거라면, 굳이 크기 순으로 늘어놓느라 시간을 소모하는 것보다 한번씩 다 뒤지는 것이 낫지 않나요? (물론입니다.)"
   ]
  },
  {
   "cell_type": "code",
   "execution_count": 1,
   "id": "0ebcf823",
   "metadata": {},
   "outputs": [
    {
     "data": {
      "text/plain": [
       "[3, 8, 2, 7, 6, 10, 9]"
      ]
     },
     "execution_count": 1,
     "metadata": {},
     "output_type": "execute_result"
    }
   ],
   "source": [
    "arr = [3,8,2,7,6,10,9]\n",
    "arr"
   ]
  },
  {
   "cell_type": "code",
   "execution_count": 2,
   "id": "b18784df",
   "metadata": {},
   "outputs": [
    {
     "data": {
      "text/plain": [
       "[2, 3, 6, 7, 8, 9, 10]"
      ]
     },
     "execution_count": 2,
     "metadata": {},
     "output_type": "execute_result"
    }
   ],
   "source": [
    "# 새로운 리스트를 얻어냄 sorted(리스트명)\n",
    "arr2 = sorted(arr)\n",
    "arr2"
   ]
  },
  {
   "cell_type": "code",
   "execution_count": 3,
   "id": "fdb66bf3",
   "metadata": {},
   "outputs": [
    {
     "data": {
      "text/plain": [
       "[3, 8, 2, 7, 6, 10, 9]"
      ]
     },
     "execution_count": 3,
     "metadata": {},
     "output_type": "execute_result"
    }
   ],
   "source": [
    "# ★★★ sorted(리스트명) 내장함수를 사용하면 arr 리스트에는 변화가 없음 ★★★\n",
    "arr"
   ]
  },
  {
   "cell_type": "code",
   "execution_count": 4,
   "id": "7560017c",
   "metadata": {},
   "outputs": [
    {
     "data": {
      "text/plain": [
       "[2, 3, 6, 7, 8, 9, 10]"
      ]
     },
     "execution_count": 4,
     "metadata": {},
     "output_type": "execute_result"
    }
   ],
   "source": [
    "# ★★★ 리스트명.sort() 메서드를 사용하면 arr 리스트에는 변화가 있음 ★★★\n",
    "arr.sort()\n",
    "arr"
   ]
  },
  {
   "cell_type": "markdown",
   "id": "3968c2ba",
   "metadata": {},
   "source": [
    "#### 리스트 내에서 정렬의 순서를 반대로 하려면\n",
    "* reverse=True"
   ]
  },
  {
   "cell_type": "code",
   "execution_count": 5,
   "id": "bbfe6bcc",
   "metadata": {},
   "outputs": [
    {
     "data": {
      "text/plain": [
       "[10, 9, 8, 7, 6, 3, 2]"
      ]
     },
     "execution_count": 5,
     "metadata": {},
     "output_type": "execute_result"
    }
   ],
   "source": [
    "arr2 = sorted(arr,reverse=True)\n",
    "arr2"
   ]
  },
  {
   "cell_type": "code",
   "execution_count": 6,
   "id": "dcee32dc",
   "metadata": {},
   "outputs": [
    {
     "data": {
      "text/plain": [
       "[10, 9, 8, 7, 6, 3, 2]"
      ]
     },
     "execution_count": 6,
     "metadata": {},
     "output_type": "execute_result"
    }
   ],
   "source": [
    "arr.sort(reverse=True)\n",
    "arr"
   ]
  },
  {
   "cell_type": "markdown",
   "id": "8bed8c6b",
   "metadata": {},
   "source": [
    "#### 문자열 길이 순서로 정렬하는 방법? \n",
    "* lambda를 이용해서 Key 길이로 정렬함 -> sorted(리스트명,key=lambda x:len(x))"
   ]
  },
  {
   "cell_type": "code",
   "execution_count": 7,
   "id": "16abffe2",
   "metadata": {},
   "outputs": [
    {
     "data": {
      "text/plain": [
       "['xyz', 'abcd', 'github', 'injekim97']"
      ]
     },
     "execution_count": 7,
     "metadata": {},
     "output_type": "execute_result"
    }
   ],
   "source": [
    "word = [\"injekim97\",\"github\",\"abcd\",\"xyz\"]\n",
    "\n",
    "# x는 리스트 값의 원소를 뜻함\n",
    "sorted(word,key=lambda x: len(x)) # ['xyz', 'abcd', 'github', 'injekim97']"
   ]
  },
  {
   "cell_type": "code",
   "execution_count": 8,
   "id": "3fa6f7d7",
   "metadata": {},
   "outputs": [
    {
     "data": {
      "text/plain": [
       "[{'name': 'python', 'score': 92}, {'name': 'inje', 'score': 85}]"
      ]
     },
     "execution_count": 8,
     "metadata": {},
     "output_type": "execute_result"
    }
   ],
   "source": [
    "profile = [{\"name\":\"inje\", \"score\":85}, {\"name\":\"python\",\"score\":92}]\n",
    "\n",
    "# lambda의 점수가 높은 기준으로 정렬\n",
    "profile.sort(key=lambda x:x['score'],reverse=True)\n",
    "profile # [{'name': 'python', 'score': 92}, {'name': 'inje', 'score': 85}]"
   ]
  },
  {
   "cell_type": "markdown",
   "id": "fb2584ef",
   "metadata": {},
   "source": [
    "#### 탐색 알고리즘 1 - 선형 탐색(Linear_Search)\n",
    "e.g : 아래 리스트에서 6을 찾아라"
   ]
  },
  {
   "cell_type": "code",
   "execution_count": 9,
   "id": "72bad8e5",
   "metadata": {},
   "outputs": [],
   "source": [
    "# 순차적으로 하나씩 비교함. 3 -> 8 -> 2 -> 7 -> 6\n",
    "L = [3,8,2,7,6,10,9]\n",
    "\n",
    "\n",
    "# e.g : L = [2,3,6,7,8,9,10]\n",
    "#선형탐색을 사용해서, 정렬 되었다면 2 -> 3 -> 6을 비교해서 찾음"
   ]
  },
  {
   "cell_type": "code",
   "execution_count": 10,
   "id": "f1d92782",
   "metadata": {},
   "outputs": [
    {
     "name": "stdout",
     "output_type": "stream",
     "text": [
      "3\n"
     ]
    }
   ],
   "source": [
    "# 선형 탐색 코드\n",
    "\n",
    "def linear_search(L,x):\n",
    "    i = 0\n",
    "\n",
    "    # 찾으려는 x와 같지 않은 경우 인덱스를 1씩 증가함\n",
    "    while i < len(L) and L[i] != x :\n",
    "        i += 1\n",
    "        \n",
    "    # 만약에 원소가 발견되면 i 출력\n",
    "    if i < len(L):\n",
    "        return i\n",
    "    else :\n",
    "        return -1 \n",
    "    \n",
    "    \n",
    "print(linear_search([3,8,2,6,10,9],6))"
   ]
  },
  {
   "cell_type": "markdown",
   "id": "c63e6855",
   "metadata": {},
   "source": [
    "#### 탐색 알고리즘 2 - 이진 탐색(Binary_Search)\n",
    "* ★★★ 탐색 하려는 리스트가 정렬 된 경우에만 가능 ★★★\n",
    "* 크기 순으로 정렬되어 있다는 성질을 이용!!\n",
    "\n",
    "e.g : 아래 리스트에서 30을 찾아라\n",
    "* [1,3,7,8,12,15,17,21,24,30,32,34,39,45,51,62]\n",
    "\n",
    "\n",
    "#### 맨 왼쪽 끝 1 -> lower = 0\n",
    "#### 맨 오른 쪽 끝 62 -> upper = 15\n",
    "\n",
    "#### middle = (lower + upper) / 2 -> 7.5 에서 소수점 버림\n",
    "#### middle = 7  이므로 왼쪽 1~7을 모두 제외 한 후 lower = 8\n",
    "\n",
    "#### middle = (lower + upper) / 2 -> 8 + 15  / 2 = 11 에서 소수점 버림\n",
    "#### middle = 11 이 가리키는 원소는 34이므로 middle을 포함한 11~15를 다버림\n",
    "\n",
    "#### middle은 8+10 / 2 = 9  찾는데 성공! \n",
    "#### ★★★ 한 번 비교가 발생 할 때 마다 리스트 절반씩 줄어들음 ★★★\n",
    "#### -> 시간 복잡도 O(n)"
   ]
  },
  {
   "cell_type": "code",
   "execution_count": null,
   "id": "cff6eb8f",
   "metadata": {},
   "outputs": [],
   "source": [
    "# 이진 탐색 코드 대략적인 로직 (완전 코드 X)\n",
    "\n",
    "lower = 0\n",
    "upper = len(L) - 1\n",
    "idx = -1\n",
    "while lower <= upper :\n",
    "    middle = (lower + upper) // 2\n",
    "    if L[middle] == target :\n",
    "        ...\n",
    "    elif L[middle] < target :\n",
    "        lower = ...\n",
    "    else :\n",
    "        upper = ...\n",
    "        "
   ]
  },
  {
   "cell_type": "markdown",
   "id": "52e3a19b",
   "metadata": {},
   "source": [
    "## 이진 탐색 코드 연습문제 \n",
    "#### e.g : L = [2, 3, 5, 6, 9, 11, 15] , x = 6\n",
    "* L[3] == 6 이므로 3 을 리턴해야 합니다.\n",
    "\n",
    "#### e.g : L = [2, 5, 7, 9, 11] , x = 4   \n",
    "* 리스트 L 내에 4 의 원소가 존재하지 않으므로 -1 을 리턴해야 합니다."
   ]
  },
  {
   "cell_type": "code",
   "execution_count": 12,
   "id": "89002e6f",
   "metadata": {},
   "outputs": [
    {
     "name": "stdout",
     "output_type": "stream",
     "text": [
      "3\n",
      "-1\n",
      "2\n",
      "-1\n"
     ]
    }
   ],
   "source": [
    "# 이진 탐색  연습문제 Full code\n",
    "\n",
    "def solution(L, x):\n",
    "    lower = 0\n",
    "    upper = len(L)-1\n",
    "    \n",
    "    while lower <= upper :\n",
    "        middle = (lower + upper) // 2\n",
    "        \n",
    "        if L[middle] == x :\n",
    "            return middle\n",
    "        \n",
    "        elif L[middle] < x:\n",
    "            lower = middle + 1\n",
    "            \n",
    "        else :\n",
    "            upper = middle - 1\n",
    "    \n",
    "    # 리스트 내에 값이 존재하지 않으면 -1 반환\n",
    "    return -1\n",
    "\n",
    "print(solution([2, 3, 5, 6, 9, 11, 15], 6))   # 인덱스 3 출력 \n",
    "print(solution([2, 5, 7, 9, 11], 4))  # -1 : 리스트내에 x 값 없어서 -1 반환\n",
    "print(solution([1, 2, 3], 3)) # 인덱스 2 출력 \n",
    "print(solution([], 3)) # 빈 리스트에 값 넣었을 때 -1 출력"
   ]
  }
 ],
 "metadata": {
  "kernelspec": {
   "display_name": "Python 3",
   "language": "python",
   "name": "python3"
  },
  "language_info": {
   "codemirror_mode": {
    "name": "ipython",
    "version": 3
   },
   "file_extension": ".py",
   "mimetype": "text/x-python",
   "name": "python",
   "nbconvert_exporter": "python",
   "pygments_lexer": "ipython3",
   "version": "3.8.8"
  }
 },
 "nbformat": 4,
 "nbformat_minor": 5
}
